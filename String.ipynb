{
 "cells": [
  {
   "cell_type": "code",
   "execution_count": 1,
   "metadata": {
    "pycharm": {
     "is_executing": false
    }
   },
   "outputs": [
    {
     "name": "stdout",
     "text": [
      "pawan \npawan \npawan \npawan \npawan \n\n"
     ],
     "output_type": "stream"
    }
   ],
   "source": [
    "# use * operator into sequential datatype in python\n",
    "stri = \"pawan \\n\"\n",
    "print(stri*5)"
   ]
  },
  {
   "cell_type": "code",
   "execution_count": 2,
   "metadata": {
    "pycharm": {
     "is_executing": false
    }
   },
   "outputs": [
    {
     "name": "stdout",
     "text": [
      "Pawan how are you!\nhi Pawan how are you!\nHello, Pawan You are 45.\nHello, Pawan.\nHello, Pawan! You are 45.\nHello, Pawan! You are 45.\n10000\n1.656458e+02\n0.17\n"
     ],
     "output_type": "stream"
    }
   ],
   "source": [
    "#string format fuctions\n",
    "name = \"Pawan\"\n",
    "age = 45\n",
    "print(\"{} how are you!\".format(name))\n",
    "print(\"{1} {0} how are you!\".format(name,\"hi\"))\n",
    "print(\"Hello, {name} You are {age}.\".format(name=name, age=age))\n",
    "print(\"Hello, %s.\" % name)\n",
    "print(\"Hello, %s! You are %s.\" % (name, age))\n",
    "print(f\"Hello, {name}! You are {age}.\")\n",
    "print(\"{0:b}\".format(16))\n",
    "print(\"{0:e}\".format(165.6458) )\n",
    "print(\"{0:.2f}\".format(1/6) )"
   ]
  },
  {
   "cell_type": "code",
   "execution_count": 3,
   "outputs": [
    {
     "name": "stdout",
     "text": [
      "ramuK nawaP\nPAWAN KUMAR\n11\n11\nr\nPawan\nn Kuma\nPawan Kuma\nPawan Kumar\n3\n"
     ],
     "output_type": "stream"
    }
   ],
   "source": [
    "#string slicinig and use some of string function\n",
    "name = \"Pawan Kumar\"\n",
    "print(name[::-1])\n",
    "#print(reversed(name))\n",
    "print(name.upper())\n",
    "print(len(name))\n",
    "print(name.__len__())\n",
    "print(name[-1])\n",
    "print(name[0:5])\n",
    "print(name[4:-1])\n",
    "print(name[0:-1])\n",
    "print(name[0:])\n",
    "print(name.count('a'))\n",
    "\n"
   ],
   "metadata": {
    "collapsed": false,
    "pycharm": {
     "name": "#%%\n",
     "is_executing": false
    }
   }
  },
  {
   "cell_type": "code",
   "execution_count": 4,
   "outputs": [
    {
     "traceback": [
      "\u001b[1;31m---------------------------------------------------------------------------\u001b[0m",
      "\u001b[1;31mTypeError\u001b[0m                                 Traceback (most recent call last)",
      "\u001b[1;32m<ipython-input-4-2afcaf356d97>\u001b[0m in \u001b[0;36m<module>\u001b[1;34m\u001b[0m\n\u001b[0;32m      1\u001b[0m \u001b[1;31m#python string is immutable\u001b[0m\u001b[1;33m\u001b[0m\u001b[1;33m\u001b[0m\u001b[1;33m\u001b[0m\u001b[0m\n\u001b[0;32m      2\u001b[0m \u001b[0mName\u001b[0m \u001b[1;33m=\u001b[0m \u001b[1;34m\"pawan\"\u001b[0m\u001b[1;33m\u001b[0m\u001b[1;33m\u001b[0m\u001b[0m\n\u001b[1;32m----> 3\u001b[1;33m \u001b[0mName\u001b[0m\u001b[1;33m[\u001b[0m\u001b[1;36m1\u001b[0m\u001b[1;33m]\u001b[0m \u001b[1;33m=\u001b[0m \u001b[1;36m1\u001b[0m\u001b[1;33m\u001b[0m\u001b[1;33m\u001b[0m\u001b[0m\n\u001b[0m\u001b[0;32m      4\u001b[0m \u001b[1;33m\u001b[0m\u001b[0m\n",
      "\u001b[1;31mTypeError\u001b[0m: 'str' object does not support item assignment"
     ],
     "ename": "TypeError",
     "evalue": "'str' object does not support item assignment",
     "output_type": "error"
    }
   ],
   "source": [
    "#python string is immutable\n",
    "Name = \"pawan\"\n",
    "Name[1] = 1"
   ],
   "metadata": {
    "collapsed": false,
    "pycharm": {
     "name": "#%%\n",
     "is_executing": false
    }
   }
  },
  {
   "cell_type": "code",
   "execution_count": null,
   "outputs": [],
   "source": [
    "#deletion string\n",
    "string1 = \"pawan\"\n",
    "del string1\n",
    "#print(string1) //error because string1 is deleted"
   ],
   "metadata": {
    "collapsed": false,
    "pycharm": {
     "name": "#%%\n",
     "is_executing": false
    }
   }
  },
  {
   "cell_type": "code",
   "execution_count": null,
   "outputs": [],
   "source": [
    "#string + operator(+ can only work with string and string)\n",
    "name = \"pawan\"\n",
    "age = 45\n",
    "#temp = name + age TypeError: can only concatenate str (not \"int\") to str\n",
    "temp = name+str(age)\n",
    "print(temp)"
   ],
   "metadata": {
    "collapsed": false,
    "pycharm": {
     "name": "#%%\n",
     "is_executing": false
    }
   }
  },
  {
   "cell_type": "code",
   "execution_count": 5,
   "outputs": [
    {
     "name": "stdout",
     "text": [
      "\nhello\nhi \nhow \nare\nyou\n\n"
     ],
     "output_type": "stream"
    }
   ],
   "source": [
    "temp = '''\n",
    "hello\n",
    "hi \n",
    "how \n",
    "are\n",
    "you\n",
    "'''\n",
    "print(temp)\n"
   ],
   "metadata": {
    "collapsed": false,
    "pycharm": {
     "name": "#%%\n",
     "is_executing": false
    }
   }
  }
 ],
 "metadata": {
  "kernelspec": {
   "display_name": "Python 3",
   "language": "python",
   "name": "python3"
  },
  "language_info": {
   "codemirror_mode": {
    "name": "ipython",
    "version": 3
   },
   "file_extension": ".py",
   "mimetype": "text/x-python",
   "name": "python",
   "nbconvert_exporter": "python",
   "pygments_lexer": "ipython3",
   "version": "3.7.4"
  },
  "pycharm": {
   "stem_cell": {
    "cell_type": "raw",
    "source": [],
    "metadata": {
     "collapsed": false
    }
   }
  }
 },
 "nbformat": 4,
 "nbformat_minor": 2
}