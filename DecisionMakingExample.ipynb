{
 "cells": [
  {
   "cell_type": "code",
   "execution_count": 1,
   "metadata": {
    "collapsed": true,
    "pycharm": {
     "is_executing": false
    }
   },
   "outputs": [
    {
     "name": "stdout",
     "text": [
      "28\nAap vote de sakte hai!!!\n"
     ],
     "output_type": "stream"
    }
   ],
   "source": [
    "name = input(\"Please enter your name : \")\n",
    "age = int(input(\"Aap ki age kay hai, {0}? \".format(name)))\n",
    "print(age)\n",
    "\n",
    "if age >=18:\n",
    "    print(\"Aap vote de sakte hai!!!\")\n",
    "else:\n",
    "    print(\"Aap vote dalne ke liye {0} saal ke baad aaeye.\".format(18-age))"
   ]
  },
  {
   "cell_type": "code",
   "execution_count": 2,
   "outputs": [
    {
     "name": "stdout",
     "text": [
      "Please guess a number b/w 1 to 10\n",
      "Please guess higher\n",
      "Sorry, you have not not guessed the correct number\n"
     ],
     "output_type": "stream"
    }
   ],
   "source": [
    "print(\"Please guess a number b/w 1 to 10\")\n",
    "guess = int(input())\n",
    "\n",
    "if guess < 5:\n",
    "    print(\"Please guess higher\")\n",
    "    guess = int(input())\n",
    "    if guess == 5:\n",
    "        print(\"Well done, your guess is correct!!\")\n",
    "    else:\n",
    "        print(\"Sorry, you have not not guessed the correct number\")\n",
    "elif guess > 5:\n",
    "    print(\"Please guess lower\")\n",
    "    guess = int(input())\n",
    "    if guess == 5:\n",
    "        print(\"Well done, your guess is correct!!\")\n",
    "    else:\n",
    "        print(\"Sorry, you have not not guessed the correct number\")\n",
    "else:\n",
    "    print(\"You got it first time\")\n"
   ],
   "metadata": {
    "collapsed": false,
    "pycharm": {
     "name": "#%%\n",
     "is_executing": false
    }
   }
  }
 ],
 "metadata": {
  "language_info": {
   "codemirror_mode": {
    "name": "ipython",
    "version": 2
   },
   "file_extension": ".py",
   "mimetype": "text/x-python",
   "name": "python",
   "nbconvert_exporter": "python",
   "pygments_lexer": "ipython2",
   "version": "2.7.6"
  },
  "kernelspec": {
   "name": "python3",
   "language": "python",
   "display_name": "Python 3"
  },
  "pycharm": {
   "stem_cell": {
    "cell_type": "raw",
    "source": [],
    "metadata": {
     "collapsed": false
    }
   }
  }
 },
 "nbformat": 4,
 "nbformat_minor": 0
}