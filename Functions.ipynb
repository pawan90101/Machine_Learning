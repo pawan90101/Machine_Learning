{
 "cells": [
  {
   "cell_type": "code",
   "execution_count": 1,
   "metadata": {
    "collapsed": true,
    "pycharm": {
     "is_executing": false
    }
   },
   "outputs": [
    {
     "name": "stdout",
     "text": [
      "Hello, Knowledge Shelf\n"
     ],
     "output_type": "stream"
    }
   ],
   "source": [
    "#Functions \n",
    "def function1():\n",
    "    print(\"Hello, Knowledge Shelf\")\n",
    "    \n",
    "function1()"
   ]
  },
  {
   "cell_type": "code",
   "execution_count": 3,
   "outputs": [
    {
     "name": "stdout",
     "text": [
      "Sum =  50\n"
     ],
     "output_type": "stream"
    }
   ],
   "source": [
    "#1. No Arguments No Return Type\n",
    "def add():\n",
    "    var1 = int(input(\"Enter the value of num1 : \"))\n",
    "    var2 = int(input(\"Enter the value of num2 : \"))\n",
    "    var3 = var1 + var2\n",
    "    print(\"Sum = \",var3)\n",
    "    \n",
    "add()"
   ],
   "metadata": {
    "collapsed": false,
    "pycharm": {
     "name": "#%%\n",
     "is_executing": false
    }
   }
  },
  {
   "cell_type": "code",
   "execution_count": 4,
   "outputs": [
    {
     "name": "stdout",
     "text": [
      "Sub =  6\n"
     ],
     "output_type": "stream"
    }
   ],
   "source": [
    "#2. With Arguments and No Retyrn Type\n",
    "def sub(var1, var2):\n",
    "    var3 = var1 - var2\n",
    "    \n",
    "    print(\"Sub = \",var3)\n",
    "    \n",
    "sub(12,6)\n"
   ],
   "metadata": {
    "collapsed": false,
    "pycharm": {
     "name": "#%%\n",
     "is_executing": false
    }
   }
  },
  {
   "cell_type": "code",
   "execution_count": 5,
   "outputs": [
    {
     "name": "stdout",
     "text": [
      "Multiply =  5382\n"
     ],
     "output_type": "stream"
    }
   ],
   "source": [
    "#3. No Argument and with return type\n",
    "def multiply():\n",
    "    var1 = int(input(\"Enter the value of num1 : \"))\n",
    "    var2 = int(input(\"Enter the value of num2 : \"))\n",
    "    \n",
    "    var3 = var1 * var2\n",
    "    \n",
    "    return var3\n",
    "\n",
    "var4 = multiply()\n",
    "print(\"Multiply = \",var4)\n",
    "\n"
   ],
   "metadata": {
    "collapsed": false,
    "pycharm": {
     "name": "#%%\n",
     "is_executing": false
    }
   }
  },
  {
   "cell_type": "code",
   "execution_count": 8,
   "outputs": [
    {
     "name": "stdout",
     "text": [
      "Division = 5.44\n"
     ],
     "output_type": "stream"
    }
   ],
   "source": [
    "#4. With Argument and With Return Type\n",
    "def div(var1, var2):\n",
    "    var3 = var1/var2\n",
    "    return var3\n",
    "var4 =  div(49,9)\n",
    "print(\"Division = %.2f\"%var4)\n"
   ],
   "metadata": {
    "collapsed": false,
    "pycharm": {
     "name": "#%%\n",
     "is_executing": false
    }
   }
  }
 ],
 "metadata": {
  "language_info": {
   "codemirror_mode": {
    "name": "ipython",
    "version": 2
   },
   "file_extension": ".py",
   "mimetype": "text/x-python",
   "name": "python",
   "nbconvert_exporter": "python",
   "pygments_lexer": "ipython2",
   "version": "2.7.6"
  },
  "kernelspec": {
   "name": "python3",
   "language": "python",
   "display_name": "Python 3"
  },
  "pycharm": {
   "stem_cell": {
    "cell_type": "raw",
    "source": [],
    "metadata": {
     "collapsed": false
    }
   }
  }
 },
 "nbformat": 4,
 "nbformat_minor": 0
}