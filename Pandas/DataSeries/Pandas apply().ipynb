{
 "cells": [
  {
   "cell_type": "code",
   "execution_count": 2,
   "metadata": {
    "collapsed": true,
    "pycharm": {
     "is_executing": false
    }
   },
   "outputs": [
    {
     "data": {
      "text/plain": "0        100.24\n1        108.20\n2        109.30\n3        104.76\n4        105.90\n         ...   \n3007    1545.76\n3008    1542.14\n3009    1546.36\n3010    1543.22\n3011    1564.44\nName: Stock Price, Length: 3012, dtype: float64"
     },
     "metadata": {},
     "output_type": "execute_result",
     "execution_count": 2
    }
   ],
   "source": [
    "import pandas as pd\n",
    "google = pd.read_csv('../../DataSets/google_stock_price.csv',squeeze=True)\n",
    "\n",
    "def classify_per(number):\n",
    "    if number < 300:\n",
    "        return 'ok'\n",
    "    elif number >=300:\n",
    "        return 'Satisfactory'\n",
    "    else:\n",
    "        return 'Inredible'\n",
    "    \n",
    "google.apply(classify_per)\n",
    "google.apply(lambda stock_price: stock_price*2)#aynomus function\n",
    "    "
   ]
  }
 ],
 "metadata": {
  "kernelspec": {
   "display_name": "Python 3",
   "language": "python",
   "name": "python3"
  },
  "language_info": {
   "codemirror_mode": {
    "name": "ipython",
    "version": 2
   },
   "file_extension": ".py",
   "mimetype": "text/x-python",
   "name": "python",
   "nbconvert_exporter": "python",
   "pygments_lexer": "ipython2",
   "version": "2.7.6"
  },
  "pycharm": {
   "stem_cell": {
    "cell_type": "raw",
    "source": [],
    "metadata": {
     "collapsed": false
    }
   }
  }
 },
 "nbformat": 4,
 "nbformat_minor": 0
}