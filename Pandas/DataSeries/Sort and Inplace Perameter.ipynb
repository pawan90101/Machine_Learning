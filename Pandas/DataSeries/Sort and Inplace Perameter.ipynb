{
 "cells": [
  {
   "cell_type": "code",
   "execution_count": 16,
   "metadata": {
    "collapsed": true,
    "pycharm": {
     "is_executing": false,
     "name": "#%%\n"
    }
   },
   "outputs": [
    {
     "name": "stdout",
     "text": [
      "459    Abomasnow\n62          Abra\n358        Absol\n616     Accelgor\n680    Aegislash\n         ...    \n570      Zoroark\n569        Zorua\n40         Zubat\n633     Zweilous\n717      Zygarde\nName: Pokemon, Length: 721, dtype: object\n459     Abomasnow\n62           Abra\n358         Absol\n616      Accelgor\n680     Aegislash\n141    Aerodactyl\n305        Aggron\n189         Aipom\n64       Alakazam\n593     Alomomola\n333       Altaria\n697        Amaura\n423       Ambipom\n590     Amoonguss\n180      Ampharos\n346       Anorith\n23          Arbok\n58       Arcanine\n492        Arceus\n565        Archen\nName: Pokemon, dtype: object\n717      Zygarde\n633     Zweilous\n40         Zubat\n569        Zorua\n570      Zoroark\n262    Zigzagoon\n643       Zekrom\n522    Zebstrika\n144       Zapdos\n334     Zangoose\n716      Yveltal\n468      Yanmega\n192        Yanma\n561       Yamask\n715      Xerneas\n177         Xatu\n359       Wynaut\n264      Wurmple\n412     Wormadam\n193       Wooper\nName: Pokemon, dtype: object\n"
     ],
     "output_type": "stream"
    }
   ],
   "source": [
    "import pandas as pd\n",
    "pokemon = pd.read_csv(\"../DataSets/pokemon.csv\",squeeze=True,usecols=['Pokemon'])\n",
    "print(pokemon.sort_values())\n",
    "print(pokemon.sort_values().head(20))#by default ascending true\n",
    "print(pokemon.sort_values(ascending=False).head(20))"
   ]
  },
  {
   "cell_type": "code",
   "execution_count": 24,
   "outputs": [
    {
     "name": "stdout",
     "text": [
      "3011    782.22\n2859    776.60\n3009    773.18\n3007    772.88\n3010    771.61\n3008    771.07\n2860    771.00\n3006    768.79\n2840    767.04\n2843    766.81\n2934    766.61\n2882    764.65\n2844    763.25\n2858    762.51\n2841    762.38\n2845    762.37\n2937    759.14\n2933    759.00\n2861    758.88\n2851    758.09\nName: Stock Price, dtype: float64\n"
     ],
     "output_type": "stream"
    }
   ],
   "source": [
    "#use inplace method\n",
    "google = pd.read_csv(\"../DataSets/google_stock_price.csv\",squeeze=True)\n",
    "google.sort_values()\n",
    "google.sort_values(ascending= False,inplace=True)#by default inplace is false\n",
    "print(google.head(20))\n",
    "#change the placement"
   ],
   "metadata": {
    "collapsed": false,
    "pycharm": {
     "name": "#%%\n",
     "is_executing": false
    }
   }
  },
  {
   "cell_type": "code",
   "execution_count": 29,
   "outputs": [
    {
     "name": "stdout",
     "text": [
      "0      Bulbasaur\n1        Ivysaur\n2       Venusaur\n3     Charmander\n4     Charmeleon\n5      Charizard\n6       Squirtle\n7      Wartortle\n8      Blastoise\n9       Caterpie\n10       Metapod\n11    Butterfree\n12        Weedle\n13        Kakuna\n14      Beedrill\n15        Pidgey\n16     Pidgeotto\n17       Pidgeot\n18       Rattata\n19      Raticate\nName: Pokemon, dtype: object\n717      Zygarde\n633     Zweilous\n40         Zubat\n569        Zorua\n570      Zoroark\n262    Zigzagoon\n643       Zekrom\n522    Zebstrika\n144       Zapdos\n334     Zangoose\n716      Yveltal\n468      Yanmega\n192        Yanma\n561       Yamask\n715      Xerneas\n177         Xatu\n359       Wynaut\n264      Wurmple\n412     Wormadam\n193       Wooper\nName: Pokemon, dtype: object\n720    Volcanion\n719        Hoopa\n718      Diancie\n717      Zygarde\n716      Yveltal\n715      Xerneas\n714      Noivern\n713       Noibat\n712      Avalugg\n711     Bergmite\n710    Gourgeist\n709    Pumpkaboo\n708    Trevenant\n707     Phantump\n706       Klefki\n705       Goodra\n704      Sliggoo\n703        Goomy\n702      Carbink\n701      Dedenne\nName: Pokemon, dtype: object\n"
     ],
     "output_type": "stream"
    }
   ],
   "source": [
    "#use of sort index use to revert back into normal placement\n",
    "import pandas as pd\n",
    "pokemon = pd.read_csv(\"../DataSets/pokemon.csv\",squeeze=True,usecols=['Pokemon'])\n",
    "print(pokemon.head(20))\n",
    "pokemon.sort_values(ascending=False,inplace=True)\n",
    "print(pokemon.head(20))\n",
    "\n",
    "pokemon.sort_index(ascending=False,inplace=True)\n",
    "print(pokemon.head(20))\n",
    "\n"
   ],
   "metadata": {
    "collapsed": false,
    "pycharm": {
     "name": "#%%\n",
     "is_executing": false
    }
   }
  }
 ],
 "metadata": {
  "kernelspec": {
   "display_name": "Python 3",
   "language": "python",
   "name": "python3"
  },
  "language_info": {
   "codemirror_mode": {
    "name": "ipython",
    "version": 2
   },
   "file_extension": ".py",
   "mimetype": "text/x-python",
   "name": "python",
   "nbconvert_exporter": "python",
   "pygments_lexer": "ipython2",
   "version": "2.7.6"
  },
  "pycharm": {
   "stem_cell": {
    "cell_type": "raw",
    "source": [],
    "metadata": {
     "collapsed": false
    }
   }
  }
 },
 "nbformat": 4,
 "nbformat_minor": 0
}