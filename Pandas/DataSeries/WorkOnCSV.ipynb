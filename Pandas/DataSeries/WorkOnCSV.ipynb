{
 "cells": [
  {
   "cell_type": "code",
   "execution_count": 1,
   "metadata": {
    "collapsed": true,
    "pycharm": {
     "is_executing": false
    }
   },
   "outputs": [
    {
     "data": {
      "text/plain": "'Pokemon'"
     },
     "metadata": {},
     "output_type": "execute_result",
     "execution_count": 1
    }
   ],
   "source": [
    "#work with pandas csv\n",
    "import pandas as pd\n",
    "pokemon = pd.read_csv(\"../../DataSets/pokemon.csv\",squeeze=True,usecols=['Pokemon'])\n",
    "pokemon.head()\n",
    "pokemon.head(10)\n",
    "pokemon.tail(10)\n",
    "pokemon.values\n",
    "pokemon.index\n",
    "pokemon.dtypes\n",
    "pokemon.is_unique\n",
    "pokemon.ndim\n",
    "pokemon.shape\n",
    "pokemon.size\n",
    "pokemon.name\n",
    "\n"
   ]
  }
 ],
 "metadata": {
  "kernelspec": {
   "display_name": "Python 3",
   "language": "python",
   "name": "python3"
  },
  "language_info": {
   "codemirror_mode": {
    "name": "ipython",
    "version": 2
   },
   "file_extension": ".py",
   "mimetype": "text/x-python",
   "name": "python",
   "nbconvert_exporter": "python",
   "pygments_lexer": "ipython2",
   "version": "2.7.6"
  },
  "pycharm": {
   "stem_cell": {
    "cell_type": "raw",
    "source": [],
    "metadata": {
     "collapsed": false
    }
   }
  }
 },
 "nbformat": 4,
 "nbformat_minor": 0
}