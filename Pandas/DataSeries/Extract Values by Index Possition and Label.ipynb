{
 "cells": [
  {
   "cell_type": "code",
   "execution_count": 17,
   "metadata": {
    "collapsed": true,
    "pycharm": {
     "is_executing": false
    }
   },
   "outputs": [
    {
     "name": "stdout",
     "text": [
      "Pokemon\nBulbasaur      Grass\nIvysaur        Grass\nVenusaur       Grass\nCharmander      Fire\nCharmeleon      Fire\nCharizard       Fire\nSquirtle       Water\nWartortle      Water\nBlastoise      Water\nCaterpie         Bug\nMetapod          Bug\nButterfree       Bug\nWeedle           Bug\nKakuna           Bug\nBeedrill         Bug\nPidgey        Normal\nPidgeotto     Normal\nPidgeot       Normal\nRattata       Normal\nRaticate      Normal\nName: Type, dtype: object\n"
     ],
     "output_type": "stream"
    }
   ],
   "source": [
    "import pandas as pd\n",
    "pokemon = pd.read_csv(\"../../DataSets/pokemon.csv\",squeeze=True,index_col=['Pokemon'])\n",
    "print(pokemon.head(20))"
   ]
  },
  {
   "cell_type": "code",
   "execution_count": 8,
   "outputs": [
    {
     "name": "stdout",
     "text": [
      "Bug\nPokemon\nElectrode    Electric\nUnown         Psychic\nDelcatty       Normal\nName: Type, dtype: object\nPokemon\nDugtrio         Ground\nMeowth          Normal\nPersian         Normal\nPsyduck          Water\nGolduck          Water\nMankey        Fighting\nPrimeape      Fighting\nGrowlithe         Fire\nArcanine          Fire\nPoliwag          Water\nPoliwhirl        Water\nPoliwrath        Water\nAbra           Psychic\nKadabra        Psychic\nAlakazam       Psychic\nMachop        Fighting\nMachoke       Fighting\nMachamp       Fighting\nBellsprout       Grass\nWeepinbell       Grass\nName: Type, dtype: object\nPokemon\nClauncher        Water\nClawitzer        Water\nHelioptile    Electric\nHeliolisk     Electric\nTyrunt            Rock\nTyrantrum         Rock\nAmaura            Rock\nAurorus           Rock\nSylveon          Fairy\nHawlucha      Fighting\nDedenne       Electric\nCarbink           Rock\nGoomy           Dragon\nSliggoo         Dragon\nGoodra          Dragon\nKlefki           Steel\nPhantump         Ghost\nTrevenant        Ghost\nPumpkaboo        Ghost\nGourgeist        Ghost\nBergmite           Ice\nAvalugg            Ice\nNoibat          Flying\nNoivern         Flying\nXerneas          Fairy\nYveltal           Dark\nZygarde         Dragon\nDiancie           Rock\nHoopa          Psychic\nVolcanion         Fire\nName: Type, dtype: object\nPokemon\nClauncher        Water\nClawitzer        Water\nHelioptile    Electric\nHeliolisk     Electric\nTyrunt            Rock\nTyrantrum         Rock\nAmaura            Rock\nAurorus           Rock\nSylveon          Fairy\nHawlucha      Fighting\nDedenne       Electric\nCarbink           Rock\nGoomy           Dragon\nSliggoo         Dragon\nGoodra          Dragon\nKlefki           Steel\nPhantump         Ghost\nTrevenant        Ghost\nPumpkaboo        Ghost\nGourgeist        Ghost\nName: Type, dtype: object\n"
     ],
     "output_type": "stream"
    }
   ],
   "source": [
    "#Extract via index\n",
    "print(pokemon[10])#10 is index\n",
    "print(pokemon[[100,200,300]])#multiindexing is also possible\n",
    "print(pokemon[50:70])\n",
    "print(pokemon[-30:])\n",
    "print(pokemon[-30:-10])"
   ],
   "metadata": {
    "collapsed": false,
    "pycharm": {
     "name": "#%%\n",
     "is_executing": false
    }
   }
  },
  {
   "cell_type": "code",
   "execution_count": 15,
   "outputs": [
    {
     "name": "stdout",
     "text": [
      "Water\nPokemon\nCharizard        Fire\nJolteon      Electric\nName: Type, dtype: object\n"
     ],
     "output_type": "stream"
    },
    {
     "data": {
      "text/plain": "Pokemon\nBulbasaur        Grass\nIvysaur          Grass\nVenusaur         Grass\nCharmander        Fire\nCharmeleon        Fire\nCharizard         Fire\nSquirtle         Water\nWartortle        Water\nBlastoise        Water\nCaterpie           Bug\nMetapod            Bug\nButterfree         Bug\nWeedle             Bug\nKakuna             Bug\nBeedrill           Bug\nPidgey          Normal\nPidgeotto       Normal\nPidgeot         Normal\nRattata         Normal\nRaticate        Normal\nSpearow         Normal\nFearow          Normal\nEkans           Poison\nArbok           Poison\nPikachu       Electric\nName: Type, dtype: object"
     },
     "metadata": {},
     "output_type": "execute_result",
     "execution_count": 15
    }
   ],
   "source": [
    "#Extact via lable\n",
    "print(pokemon['Clauncher'])\n",
    "print(pokemon[['Charizard','Jolteon']])\n",
    "#pokemon[\"Digimon\"] error if no value is there\n",
    "pokemon[['Pikachu','Digimon']]# getting a warning but works\n",
    "\n",
    "pokemon['Bulbasaur':'Pikachu']\n"
   ],
   "metadata": {
    "collapsed": false,
    "pycharm": {
     "name": "#%%\n",
     "is_executing": false
    }
   }
  },
  {
   "cell_type": "code",
   "execution_count": null,
   "outputs": [],
   "source": [
    "\n"
   ],
   "metadata": {
    "collapsed": false,
    "pycharm": {
     "name": "#%%\n"
    }
   }
  }
 ],
 "metadata": {
  "kernelspec": {
   "display_name": "Python 3",
   "language": "python",
   "name": "python3"
  },
  "language_info": {
   "codemirror_mode": {
    "name": "ipython",
    "version": 2
   },
   "file_extension": ".py",
   "mimetype": "text/x-python",
   "name": "python",
   "nbconvert_exporter": "python",
   "pygments_lexer": "ipython2",
   "version": "2.7.6"
  },
  "pycharm": {
   "stem_cell": {
    "cell_type": "raw",
    "source": [],
    "metadata": {
     "collapsed": false
    }
   }
  }
 },
 "nbformat": 4,
 "nbformat_minor": 0
}