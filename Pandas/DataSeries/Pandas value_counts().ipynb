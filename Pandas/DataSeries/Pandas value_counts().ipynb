{
 "cells": [
  {
   "cell_type": "code",
   "execution_count": 8,
   "metadata": {
    "collapsed": true,
    "pycharm": {
     "is_executing": false
    }
   },
   "outputs": [
    {
     "data": {
      "text/plain": "291.21    5\n288.47    3\n194.80    3\n307.94    3\n243.26    3\n         ..\n294.94    1\n548.34    1\n261.09    1\n348.91    1\n92.50     1\nName: Stock Price, Length: 2886, dtype: int64"
     },
     "metadata": {},
     "output_type": "execute_result",
     "execution_count": 8
    }
   ],
   "source": [
    "import pandas as pd\n",
    "google = pd.read_csv('../../DataSets/google_stock_price.csv',squeeze=True)\n",
    "\n",
    "google.value_counts()#showing the group wise collection\n",
    "\n",
    "google.value_counts().sum()#same as google.count()\n",
    "\n",
    "google.value_counts(ascending = True)\n",
    "google.value_counts(ascending = False)\n"
   ]
  }
 ],
 "metadata": {
  "kernelspec": {
   "display_name": "Python 3",
   "language": "python",
   "name": "python3"
  },
  "language_info": {
   "codemirror_mode": {
    "name": "ipython",
    "version": 2
   },
   "file_extension": ".py",
   "mimetype": "text/x-python",
   "name": "python",
   "nbconvert_exporter": "python",
   "pygments_lexer": "ipython2",
   "version": "2.7.6"
  },
  "pycharm": {
   "stem_cell": {
    "cell_type": "raw",
    "source": [],
    "metadata": {
     "collapsed": false
    }
   }
  }
 },
 "nbformat": 4,
 "nbformat_minor": 0
}