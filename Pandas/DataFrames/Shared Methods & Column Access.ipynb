{
 "cells": [
  {
   "cell_type": "code",
   "execution_count": 11,
   "metadata": {
    "collapsed": true,
    "pycharm": {
     "is_executing": false
    }
   },
   "outputs": [
    {
     "data": {
      "text/plain": "0    1606\n1    2060\n2     967\n3    2519\n4     438\n5    1935\n6    1234\n7    2313\n8    2623\n9     555\ndtype: int64"
     },
     "metadata": {},
     "output_type": "execute_result",
     "execution_count": 11
    }
   ],
   "source": [
    "import pandas as pd\n",
    "\n",
    "revenue = pd.read_csv('../../DataSets/revenue.csv')\n",
    "s = pd.Series([1,2,3])\n",
    "s\n",
    "s.sum()\n",
    "revenue.sum()\n",
    "revenue.sum(axis=0)\n",
    "revenue.sum(axis ='index')\n",
    "revenue.sum(axis = 1)#row wise\n",
    "revenue.sum(axis = 'columns')\n"
   ]
  },
  {
   "cell_type": "code",
   "execution_count": 22,
   "outputs": [
    {
     "data": {
      "text/plain": "              Name            Team\n0    Avery Bradley  Boston Celtics\n1      Jae Crowder  Boston Celtics\n2     John Holland  Boston Celtics\n3      R.J. Hunter  Boston Celtics\n4    Jonas Jerebko  Boston Celtics\n..             ...             ...\n453   Shelvin Mack       Utah Jazz\n454      Raul Neto       Utah Jazz\n455   Tibor Pleiss       Utah Jazz\n456    Jeff Withey       Utah Jazz\n457            NaN             NaN\n\n[458 rows x 2 columns]",
      "text/html": "<div>\n<style scoped>\n    .dataframe tbody tr th:only-of-type {\n        vertical-align: middle;\n    }\n\n    .dataframe tbody tr th {\n        vertical-align: top;\n    }\n\n    .dataframe thead th {\n        text-align: right;\n    }\n</style>\n<table border=\"1\" class=\"dataframe\">\n  <thead>\n    <tr style=\"text-align: right;\">\n      <th></th>\n      <th>Name</th>\n      <th>Team</th>\n    </tr>\n  </thead>\n  <tbody>\n    <tr>\n      <td>0</td>\n      <td>Avery Bradley</td>\n      <td>Boston Celtics</td>\n    </tr>\n    <tr>\n      <td>1</td>\n      <td>Jae Crowder</td>\n      <td>Boston Celtics</td>\n    </tr>\n    <tr>\n      <td>2</td>\n      <td>John Holland</td>\n      <td>Boston Celtics</td>\n    </tr>\n    <tr>\n      <td>3</td>\n      <td>R.J. Hunter</td>\n      <td>Boston Celtics</td>\n    </tr>\n    <tr>\n      <td>4</td>\n      <td>Jonas Jerebko</td>\n      <td>Boston Celtics</td>\n    </tr>\n    <tr>\n      <td>...</td>\n      <td>...</td>\n      <td>...</td>\n    </tr>\n    <tr>\n      <td>453</td>\n      <td>Shelvin Mack</td>\n      <td>Utah Jazz</td>\n    </tr>\n    <tr>\n      <td>454</td>\n      <td>Raul Neto</td>\n      <td>Utah Jazz</td>\n    </tr>\n    <tr>\n      <td>455</td>\n      <td>Tibor Pleiss</td>\n      <td>Utah Jazz</td>\n    </tr>\n    <tr>\n      <td>456</td>\n      <td>Jeff Withey</td>\n      <td>Utah Jazz</td>\n    </tr>\n    <tr>\n      <td>457</td>\n      <td>NaN</td>\n      <td>NaN</td>\n    </tr>\n  </tbody>\n</table>\n<p>458 rows × 2 columns</p>\n</div>"
     },
     "metadata": {},
     "output_type": "execute_result",
     "execution_count": 22
    }
   ],
   "source": [
    "nba = pd.read_csv('../../DataSets/nba.csv')\n",
    "nba\n",
    "nba.head(10)\n",
    "nba.Name #just a series\n",
    "type(nba.Name)\n",
    "type(nba)\n",
    "#problem happning when column name having space 'Pawan Kumr'\n",
    "nba['Name']#100% works\n",
    "nba[['Name',\"Team\"]]\n",
    "Select = ['Name',\"Team\"]\n",
    "nba[Select]"
   ],
   "metadata": {
    "collapsed": false,
    "pycharm": {
     "name": "#%%\n",
     "is_executing": false
    }
   }
  }
 ],
 "metadata": {
  "kernelspec": {
   "display_name": "Python 3",
   "language": "python",
   "name": "python3"
  },
  "language_info": {
   "codemirror_mode": {
    "name": "ipython",
    "version": 2
   },
   "file_extension": ".py",
   "mimetype": "text/x-python",
   "name": "python",
   "nbconvert_exporter": "python",
   "pygments_lexer": "ipython2",
   "version": "2.7.6"
  },
  "pycharm": {
   "stem_cell": {
    "cell_type": "raw",
    "source": [],
    "metadata": {
     "collapsed": false
    }
   }
  }
 },
 "nbformat": 4,
 "nbformat_minor": 0
}