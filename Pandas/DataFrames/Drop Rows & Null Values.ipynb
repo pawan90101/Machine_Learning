{
 "cells": [
  {
   "cell_type": "code",
   "execution_count": 8,
   "metadata": {
    "collapsed": true,
    "pycharm": {
     "is_executing": false
    }
   },
   "outputs": [
    {
     "data": {
      "text/plain": "              Name            Team  Number Position   Age Height  Weight\n0    Avery Bradley  Boston Celtics     0.0       PG  25.0    6-2   180.0\n1      Jae Crowder  Boston Celtics    99.0       SF  25.0    6-6   235.0\n2     John Holland  Boston Celtics    30.0       SG  27.0    6-5   205.0\n3      R.J. Hunter  Boston Celtics    28.0       SG  22.0    6-5   185.0\n4    Jonas Jerebko  Boston Celtics     8.0       PF  29.0   6-10   231.0\n..             ...             ...     ...      ...   ...    ...     ...\n452     Trey Lyles       Utah Jazz    41.0       PF  20.0   6-10   234.0\n453   Shelvin Mack       Utah Jazz     8.0       PG  26.0    6-3   203.0\n454      Raul Neto       Utah Jazz    25.0       PG  24.0    6-1   179.0\n455   Tibor Pleiss       Utah Jazz    21.0        C  26.0    7-3   256.0\n456    Jeff Withey       Utah Jazz    24.0        C  26.0    7-0   231.0\n\n[457 rows x 7 columns]",
      "text/html": "<div>\n<style scoped>\n    .dataframe tbody tr th:only-of-type {\n        vertical-align: middle;\n    }\n\n    .dataframe tbody tr th {\n        vertical-align: top;\n    }\n\n    .dataframe thead th {\n        text-align: right;\n    }\n</style>\n<table border=\"1\" class=\"dataframe\">\n  <thead>\n    <tr style=\"text-align: right;\">\n      <th></th>\n      <th>Name</th>\n      <th>Team</th>\n      <th>Number</th>\n      <th>Position</th>\n      <th>Age</th>\n      <th>Height</th>\n      <th>Weight</th>\n    </tr>\n  </thead>\n  <tbody>\n    <tr>\n      <td>0</td>\n      <td>Avery Bradley</td>\n      <td>Boston Celtics</td>\n      <td>0.0</td>\n      <td>PG</td>\n      <td>25.0</td>\n      <td>6-2</td>\n      <td>180.0</td>\n    </tr>\n    <tr>\n      <td>1</td>\n      <td>Jae Crowder</td>\n      <td>Boston Celtics</td>\n      <td>99.0</td>\n      <td>SF</td>\n      <td>25.0</td>\n      <td>6-6</td>\n      <td>235.0</td>\n    </tr>\n    <tr>\n      <td>2</td>\n      <td>John Holland</td>\n      <td>Boston Celtics</td>\n      <td>30.0</td>\n      <td>SG</td>\n      <td>27.0</td>\n      <td>6-5</td>\n      <td>205.0</td>\n    </tr>\n    <tr>\n      <td>3</td>\n      <td>R.J. Hunter</td>\n      <td>Boston Celtics</td>\n      <td>28.0</td>\n      <td>SG</td>\n      <td>22.0</td>\n      <td>6-5</td>\n      <td>185.0</td>\n    </tr>\n    <tr>\n      <td>4</td>\n      <td>Jonas Jerebko</td>\n      <td>Boston Celtics</td>\n      <td>8.0</td>\n      <td>PF</td>\n      <td>29.0</td>\n      <td>6-10</td>\n      <td>231.0</td>\n    </tr>\n    <tr>\n      <td>...</td>\n      <td>...</td>\n      <td>...</td>\n      <td>...</td>\n      <td>...</td>\n      <td>...</td>\n      <td>...</td>\n      <td>...</td>\n    </tr>\n    <tr>\n      <td>452</td>\n      <td>Trey Lyles</td>\n      <td>Utah Jazz</td>\n      <td>41.0</td>\n      <td>PF</td>\n      <td>20.0</td>\n      <td>6-10</td>\n      <td>234.0</td>\n    </tr>\n    <tr>\n      <td>453</td>\n      <td>Shelvin Mack</td>\n      <td>Utah Jazz</td>\n      <td>8.0</td>\n      <td>PG</td>\n      <td>26.0</td>\n      <td>6-3</td>\n      <td>203.0</td>\n    </tr>\n    <tr>\n      <td>454</td>\n      <td>Raul Neto</td>\n      <td>Utah Jazz</td>\n      <td>25.0</td>\n      <td>PG</td>\n      <td>24.0</td>\n      <td>6-1</td>\n      <td>179.0</td>\n    </tr>\n    <tr>\n      <td>455</td>\n      <td>Tibor Pleiss</td>\n      <td>Utah Jazz</td>\n      <td>21.0</td>\n      <td>C</td>\n      <td>26.0</td>\n      <td>7-3</td>\n      <td>256.0</td>\n    </tr>\n    <tr>\n      <td>456</td>\n      <td>Jeff Withey</td>\n      <td>Utah Jazz</td>\n      <td>24.0</td>\n      <td>C</td>\n      <td>26.0</td>\n      <td>7-0</td>\n      <td>231.0</td>\n    </tr>\n  </tbody>\n</table>\n<p>457 rows × 7 columns</p>\n</div>"
     },
     "metadata": {},
     "output_type": "execute_result",
     "execution_count": 8
    }
   ],
   "source": [
    "import pandas as pd\n",
    "nba = pd.read_csv('../../DataSets/nba.csv')\n",
    "nba.head()\n",
    "nba.tail()\n",
    "\n",
    "nba.dropna()#drop all the rows with have any null values\n",
    "nba.dropna(how='any')#delete remove all the rows with have null it's default behaviour\n",
    "nba.dropna(how='all',inplace=True)# remove only those row which have all the columns is null\n",
    "\n",
    "nba.dropna(axis=1)# now consider as a column\n",
    "nba.dropna(subset=['Salary'])\n"
   ]
  }
 ],
 "metadata": {
  "kernelspec": {
   "display_name": "Python 3",
   "language": "python",
   "name": "python3"
  },
  "language_info": {
   "codemirror_mode": {
    "name": "ipython",
    "version": 2
   },
   "file_extension": ".py",
   "mimetype": "text/x-python",
   "name": "python",
   "nbconvert_exporter": "python",
   "pygments_lexer": "ipython2",
   "version": "2.7.6"
  },
  "pycharm": {
   "stem_cell": {
    "cell_type": "raw",
    "source": [],
    "metadata": {
     "collapsed": false
    }
   }
  }
 },
 "nbformat": 4,
 "nbformat_minor": 0
}