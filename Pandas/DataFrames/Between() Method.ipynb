{
 "cells": [
  {
   "cell_type": "code",
   "execution_count": 3,
   "metadata": {
    "collapsed": true,
    "pycharm": {
     "is_executing": false,
     "name": "#%%\n"
    }
   },
   "outputs": [
    {
     "data": {
      "text/plain": "    First Name  Gender Start Date     Last Login Time  Salary  Bonus %  \\\n1       Thomas    Male 1996-03-31 2019-10-16 06:53:00   61933    4.170   \n6         Ruby  Female 1987-08-17 2019-10-16 16:20:00   65476   10.012   \n10      Louise  Female 1980-08-12 2019-10-16 09:01:00   63241   15.132   \n20        Lois     NaN 1995-04-22 2019-10-16 19:18:00   64714    4.934   \n41   Christine     NaN 2015-06-28 2019-10-16 01:08:00   66582   11.308   \n..         ...     ...        ...                 ...     ...      ...   \n965  Catherine  Female 1989-09-25 2019-10-16 01:31:00   68164   18.393   \n970      Alice  Female 1988-09-03 2019-10-16 20:54:00   63571   15.397   \n974      Harry    Male 2011-08-30 2019-10-16 18:31:00   67656   16.455   \n978       Sean    Male 1983-01-17 2019-10-16 14:23:00   66146   11.178   \n998      Larry    Male 2013-04-20 2019-10-16 16:45:00   60500   11.985   \n\n     Senior Management                  Team  \n1                 True                   NaN  \n6                 True               Product  \n10                True                   NaN  \n20                True                 Legal  \n41                True  Business Development  \n..                 ...                   ...  \n965              False       Client Services  \n970               True               Product  \n974               True       Client Services  \n978              False       Human Resources  \n998              False  Business Development  \n\n[86 rows x 8 columns]",
      "text/html": "<div>\n<style scoped>\n    .dataframe tbody tr th:only-of-type {\n        vertical-align: middle;\n    }\n\n    .dataframe tbody tr th {\n        vertical-align: top;\n    }\n\n    .dataframe thead th {\n        text-align: right;\n    }\n</style>\n<table border=\"1\" class=\"dataframe\">\n  <thead>\n    <tr style=\"text-align: right;\">\n      <th></th>\n      <th>First Name</th>\n      <th>Gender</th>\n      <th>Start Date</th>\n      <th>Last Login Time</th>\n      <th>Salary</th>\n      <th>Bonus %</th>\n      <th>Senior Management</th>\n      <th>Team</th>\n    </tr>\n  </thead>\n  <tbody>\n    <tr>\n      <td>1</td>\n      <td>Thomas</td>\n      <td>Male</td>\n      <td>1996-03-31</td>\n      <td>2019-10-16 06:53:00</td>\n      <td>61933</td>\n      <td>4.170</td>\n      <td>True</td>\n      <td>NaN</td>\n    </tr>\n    <tr>\n      <td>6</td>\n      <td>Ruby</td>\n      <td>Female</td>\n      <td>1987-08-17</td>\n      <td>2019-10-16 16:20:00</td>\n      <td>65476</td>\n      <td>10.012</td>\n      <td>True</td>\n      <td>Product</td>\n    </tr>\n    <tr>\n      <td>10</td>\n      <td>Louise</td>\n      <td>Female</td>\n      <td>1980-08-12</td>\n      <td>2019-10-16 09:01:00</td>\n      <td>63241</td>\n      <td>15.132</td>\n      <td>True</td>\n      <td>NaN</td>\n    </tr>\n    <tr>\n      <td>20</td>\n      <td>Lois</td>\n      <td>NaN</td>\n      <td>1995-04-22</td>\n      <td>2019-10-16 19:18:00</td>\n      <td>64714</td>\n      <td>4.934</td>\n      <td>True</td>\n      <td>Legal</td>\n    </tr>\n    <tr>\n      <td>41</td>\n      <td>Christine</td>\n      <td>NaN</td>\n      <td>2015-06-28</td>\n      <td>2019-10-16 01:08:00</td>\n      <td>66582</td>\n      <td>11.308</td>\n      <td>True</td>\n      <td>Business Development</td>\n    </tr>\n    <tr>\n      <td>...</td>\n      <td>...</td>\n      <td>...</td>\n      <td>...</td>\n      <td>...</td>\n      <td>...</td>\n      <td>...</td>\n      <td>...</td>\n      <td>...</td>\n    </tr>\n    <tr>\n      <td>965</td>\n      <td>Catherine</td>\n      <td>Female</td>\n      <td>1989-09-25</td>\n      <td>2019-10-16 01:31:00</td>\n      <td>68164</td>\n      <td>18.393</td>\n      <td>False</td>\n      <td>Client Services</td>\n    </tr>\n    <tr>\n      <td>970</td>\n      <td>Alice</td>\n      <td>Female</td>\n      <td>1988-09-03</td>\n      <td>2019-10-16 20:54:00</td>\n      <td>63571</td>\n      <td>15.397</td>\n      <td>True</td>\n      <td>Product</td>\n    </tr>\n    <tr>\n      <td>974</td>\n      <td>Harry</td>\n      <td>Male</td>\n      <td>2011-08-30</td>\n      <td>2019-10-16 18:31:00</td>\n      <td>67656</td>\n      <td>16.455</td>\n      <td>True</td>\n      <td>Client Services</td>\n    </tr>\n    <tr>\n      <td>978</td>\n      <td>Sean</td>\n      <td>Male</td>\n      <td>1983-01-17</td>\n      <td>2019-10-16 14:23:00</td>\n      <td>66146</td>\n      <td>11.178</td>\n      <td>False</td>\n      <td>Human Resources</td>\n    </tr>\n    <tr>\n      <td>998</td>\n      <td>Larry</td>\n      <td>Male</td>\n      <td>2013-04-20</td>\n      <td>2019-10-16 16:45:00</td>\n      <td>60500</td>\n      <td>11.985</td>\n      <td>False</td>\n      <td>Business Development</td>\n    </tr>\n  </tbody>\n</table>\n<p>86 rows × 8 columns</p>\n</div>"
     },
     "metadata": {},
     "output_type": "execute_result",
     "execution_count": 3
    }
   ],
   "source": [
    "import pandas as pd\n",
    "df = pd.read_csv('../../DataSets/employees.csv',parse_dates=[\"Start Date\",\"Last Login Time\"])\n",
    "df[\"Gender\"] = df['Gender'].astype(\"category\")\n",
    "df[\"Senior Management\"] = df['Senior Management'].astype(\"bool\")\n",
    "\n",
    "mask = df['Salary'].between(left=60000,right=70000)\n",
    "df[mask]"
   ]
  },
  {
   "cell_type": "code",
   "execution_count": 7,
   "outputs": [
    {
     "data": {
      "text/plain": "    First Name  Gender Start Date     Last Login Time  Salary  Bonus %  \\\n2        Maria  Female 1993-04-23 2019-10-16 11:17:00  130590   11.858   \n7          NaN  Female 2015-07-20 2019-10-16 10:43:00   45906   11.598   \n10      Louise  Female 1980-08-12 2019-10-16 09:01:00   63241   15.132   \n18       Diana  Female 1981-10-23 2019-10-16 10:27:00  132940   19.082   \n33        Jean  Female 1993-12-18 2019-10-16 09:07:00  119082   16.180   \n..         ...     ...        ...                 ...     ...      ...   \n963        Ann  Female 1994-09-23 2019-10-16 11:15:00   89443   17.940   \n977      Sarah  Female 1995-12-04 2019-10-16 09:16:00  124566    5.949   \n982       Rose  Female 1982-04-06 2019-10-16 10:43:00   91411    8.639   \n988      Alice  Female 2004-10-05 2019-10-16 09:34:00   47638   11.209   \n992    Anthony    Male 2011-10-16 2019-10-16 08:35:00  112769   11.625   \n\n     Senior Management                  Team  \n2                False               Finance  \n7                 True               Finance  \n10                True                   NaN  \n18               False       Client Services  \n33               False  Business Development  \n..                 ...                   ...  \n963               True                 Sales  \n977              False               Product  \n982               True       Human Resources  \n988              False       Human Resources  \n992               True               Finance  \n\n[136 rows x 8 columns]",
      "text/html": "<div>\n<style scoped>\n    .dataframe tbody tr th:only-of-type {\n        vertical-align: middle;\n    }\n\n    .dataframe tbody tr th {\n        vertical-align: top;\n    }\n\n    .dataframe thead th {\n        text-align: right;\n    }\n</style>\n<table border=\"1\" class=\"dataframe\">\n  <thead>\n    <tr style=\"text-align: right;\">\n      <th></th>\n      <th>First Name</th>\n      <th>Gender</th>\n      <th>Start Date</th>\n      <th>Last Login Time</th>\n      <th>Salary</th>\n      <th>Bonus %</th>\n      <th>Senior Management</th>\n      <th>Team</th>\n    </tr>\n  </thead>\n  <tbody>\n    <tr>\n      <td>2</td>\n      <td>Maria</td>\n      <td>Female</td>\n      <td>1993-04-23</td>\n      <td>2019-10-16 11:17:00</td>\n      <td>130590</td>\n      <td>11.858</td>\n      <td>False</td>\n      <td>Finance</td>\n    </tr>\n    <tr>\n      <td>7</td>\n      <td>NaN</td>\n      <td>Female</td>\n      <td>2015-07-20</td>\n      <td>2019-10-16 10:43:00</td>\n      <td>45906</td>\n      <td>11.598</td>\n      <td>True</td>\n      <td>Finance</td>\n    </tr>\n    <tr>\n      <td>10</td>\n      <td>Louise</td>\n      <td>Female</td>\n      <td>1980-08-12</td>\n      <td>2019-10-16 09:01:00</td>\n      <td>63241</td>\n      <td>15.132</td>\n      <td>True</td>\n      <td>NaN</td>\n    </tr>\n    <tr>\n      <td>18</td>\n      <td>Diana</td>\n      <td>Female</td>\n      <td>1981-10-23</td>\n      <td>2019-10-16 10:27:00</td>\n      <td>132940</td>\n      <td>19.082</td>\n      <td>False</td>\n      <td>Client Services</td>\n    </tr>\n    <tr>\n      <td>33</td>\n      <td>Jean</td>\n      <td>Female</td>\n      <td>1993-12-18</td>\n      <td>2019-10-16 09:07:00</td>\n      <td>119082</td>\n      <td>16.180</td>\n      <td>False</td>\n      <td>Business Development</td>\n    </tr>\n    <tr>\n      <td>...</td>\n      <td>...</td>\n      <td>...</td>\n      <td>...</td>\n      <td>...</td>\n      <td>...</td>\n      <td>...</td>\n      <td>...</td>\n      <td>...</td>\n    </tr>\n    <tr>\n      <td>963</td>\n      <td>Ann</td>\n      <td>Female</td>\n      <td>1994-09-23</td>\n      <td>2019-10-16 11:15:00</td>\n      <td>89443</td>\n      <td>17.940</td>\n      <td>True</td>\n      <td>Sales</td>\n    </tr>\n    <tr>\n      <td>977</td>\n      <td>Sarah</td>\n      <td>Female</td>\n      <td>1995-12-04</td>\n      <td>2019-10-16 09:16:00</td>\n      <td>124566</td>\n      <td>5.949</td>\n      <td>False</td>\n      <td>Product</td>\n    </tr>\n    <tr>\n      <td>982</td>\n      <td>Rose</td>\n      <td>Female</td>\n      <td>1982-04-06</td>\n      <td>2019-10-16 10:43:00</td>\n      <td>91411</td>\n      <td>8.639</td>\n      <td>True</td>\n      <td>Human Resources</td>\n    </tr>\n    <tr>\n      <td>988</td>\n      <td>Alice</td>\n      <td>Female</td>\n      <td>2004-10-05</td>\n      <td>2019-10-16 09:34:00</td>\n      <td>47638</td>\n      <td>11.209</td>\n      <td>False</td>\n      <td>Human Resources</td>\n    </tr>\n    <tr>\n      <td>992</td>\n      <td>Anthony</td>\n      <td>Male</td>\n      <td>2011-10-16</td>\n      <td>2019-10-16 08:35:00</td>\n      <td>112769</td>\n      <td>11.625</td>\n      <td>True</td>\n      <td>Finance</td>\n    </tr>\n  </tbody>\n</table>\n<p>136 rows × 8 columns</p>\n</div>"
     },
     "metadata": {},
     "output_type": "execute_result",
     "execution_count": 7
    }
   ],
   "source": [
    "# Between methods also works on datetime datatypes\n",
    "\n",
    "mask = df['Start Date'].between('1991-01-01','1992-01-01')\n",
    "df[mask]\n",
    "\n",
    "mask1 = df['Last Login Time'].between('8:30AM','12:00PM')\n",
    "df[mask1]\n"
   ],
   "metadata": {
    "collapsed": false,
    "pycharm": {
     "name": "#%%\n",
     "is_executing": false
    }
   }
  }
 ],
 "metadata": {
  "kernelspec": {
   "display_name": "Python 3",
   "language": "python",
   "name": "python3"
  },
  "language_info": {
   "codemirror_mode": {
    "name": "ipython",
    "version": 2
   },
   "file_extension": ".py",
   "mimetype": "text/x-python",
   "name": "python",
   "nbconvert_exporter": "python",
   "pygments_lexer": "ipython2",
   "version": "2.7.6"
  },
  "pycharm": {
   "stem_cell": {
    "cell_type": "raw",
    "source": [],
    "metadata": {
     "collapsed": false
    }
   }
  }
 },
 "nbformat": 4,
 "nbformat_minor": 0
}