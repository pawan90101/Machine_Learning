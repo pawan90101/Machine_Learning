{
 "cells": [
  {
   "cell_type": "code",
   "execution_count": 6,
   "metadata": {
    "collapsed": true,
    "pycharm": {
     "is_executing": false
    }
   },
   "outputs": [
    {
     "name": "stdout",
     "text": [
      "1000\n1000\n201\n"
     ],
     "output_type": "stream"
    }
   ],
   "source": [
    "import pandas as pd\n",
    "df = pd.read_csv('../../DataSets/employees.csv')\n",
    "\n",
    "df.sort_values(by=\"First Name\",inplace=True)\n",
    "print(len(df))\n",
    "\n",
    "print(len(df.drop_duplicates()))#delete only when two rows are indentical otherwise noting happens\n",
    "\n",
    "mask = df.drop_duplicates(subset=[\"First Name\"],keep='first')\n",
    "print(len(mask))\n",
    "\n",
    "df.drop_duplicates(subset=['First Name','Team'],keep='fist')\n"
   ]
  }
 ],
 "metadata": {
  "kernelspec": {
   "display_name": "Python 3",
   "language": "python",
   "name": "python3"
  },
  "language_info": {
   "codemirror_mode": {
    "name": "ipython",
    "version": 2
   },
   "file_extension": ".py",
   "mimetype": "text/x-python",
   "name": "python",
   "nbconvert_exporter": "python",
   "pygments_lexer": "ipython2",
   "version": "2.7.6"
  },
  "pycharm": {
   "stem_cell": {
    "cell_type": "raw",
    "source": [],
    "metadata": {
     "collapsed": false
    }
   }
  }
 },
 "nbformat": 4,
 "nbformat_minor": 0
}