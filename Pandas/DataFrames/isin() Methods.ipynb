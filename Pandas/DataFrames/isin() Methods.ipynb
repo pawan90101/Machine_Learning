{
 "cells": [
  {
   "cell_type": "code",
   "execution_count": 2,
   "metadata": {
    "collapsed": true,
    "pycharm": {
     "is_executing": false
    }
   },
   "outputs": [
    {
     "data": {
      "text/plain": "    First Name  Gender Start Date     Last Login Time  Salary  Bonus %  \\\n5       Dennis    Male 1987-04-18 2019-10-16 01:35:00  115163   10.125   \n6         Ruby  Female 1987-08-17 2019-10-16 16:20:00   65476   10.012   \n11       Julie  Female 1997-10-26 2019-10-16 15:19:00  102508   12.637   \n13        Gary    Male 2008-01-27 2019-10-16 23:40:00  109831    5.831   \n15     Lillian  Female 2016-06-05 2019-10-16 06:09:00   59414    1.256   \n..         ...     ...        ...                 ...     ...      ...   \n981      James    Male 1993-01-15 2019-10-16 17:19:00  148985   19.280   \n985    Stephen     NaN 1983-07-10 2019-10-16 20:10:00   85668    1.909   \n989     Justin     NaN 1991-02-10 2019-10-16 16:58:00   38344    3.794   \n997    Russell    Male 2013-05-20 2019-10-16 12:39:00   96914    1.421   \n999     Albert    Male 2012-05-15 2019-10-16 18:24:00  129949   10.169   \n\n     Senior Management     Team  \n5                False    Legal  \n6                 True  Product  \n11                True    Legal  \n13               False    Sales  \n15               False  Product  \n..                 ...      ...  \n981              False    Legal  \n985              False    Legal  \n989              False    Legal  \n997              False  Product  \n999               True    Sales  \n\n[277 rows x 8 columns]",
      "text/html": "<div>\n<style scoped>\n    .dataframe tbody tr th:only-of-type {\n        vertical-align: middle;\n    }\n\n    .dataframe tbody tr th {\n        vertical-align: top;\n    }\n\n    .dataframe thead th {\n        text-align: right;\n    }\n</style>\n<table border=\"1\" class=\"dataframe\">\n  <thead>\n    <tr style=\"text-align: right;\">\n      <th></th>\n      <th>First Name</th>\n      <th>Gender</th>\n      <th>Start Date</th>\n      <th>Last Login Time</th>\n      <th>Salary</th>\n      <th>Bonus %</th>\n      <th>Senior Management</th>\n      <th>Team</th>\n    </tr>\n  </thead>\n  <tbody>\n    <tr>\n      <td>5</td>\n      <td>Dennis</td>\n      <td>Male</td>\n      <td>1987-04-18</td>\n      <td>2019-10-16 01:35:00</td>\n      <td>115163</td>\n      <td>10.125</td>\n      <td>False</td>\n      <td>Legal</td>\n    </tr>\n    <tr>\n      <td>6</td>\n      <td>Ruby</td>\n      <td>Female</td>\n      <td>1987-08-17</td>\n      <td>2019-10-16 16:20:00</td>\n      <td>65476</td>\n      <td>10.012</td>\n      <td>True</td>\n      <td>Product</td>\n    </tr>\n    <tr>\n      <td>11</td>\n      <td>Julie</td>\n      <td>Female</td>\n      <td>1997-10-26</td>\n      <td>2019-10-16 15:19:00</td>\n      <td>102508</td>\n      <td>12.637</td>\n      <td>True</td>\n      <td>Legal</td>\n    </tr>\n    <tr>\n      <td>13</td>\n      <td>Gary</td>\n      <td>Male</td>\n      <td>2008-01-27</td>\n      <td>2019-10-16 23:40:00</td>\n      <td>109831</td>\n      <td>5.831</td>\n      <td>False</td>\n      <td>Sales</td>\n    </tr>\n    <tr>\n      <td>15</td>\n      <td>Lillian</td>\n      <td>Female</td>\n      <td>2016-06-05</td>\n      <td>2019-10-16 06:09:00</td>\n      <td>59414</td>\n      <td>1.256</td>\n      <td>False</td>\n      <td>Product</td>\n    </tr>\n    <tr>\n      <td>...</td>\n      <td>...</td>\n      <td>...</td>\n      <td>...</td>\n      <td>...</td>\n      <td>...</td>\n      <td>...</td>\n      <td>...</td>\n      <td>...</td>\n    </tr>\n    <tr>\n      <td>981</td>\n      <td>James</td>\n      <td>Male</td>\n      <td>1993-01-15</td>\n      <td>2019-10-16 17:19:00</td>\n      <td>148985</td>\n      <td>19.280</td>\n      <td>False</td>\n      <td>Legal</td>\n    </tr>\n    <tr>\n      <td>985</td>\n      <td>Stephen</td>\n      <td>NaN</td>\n      <td>1983-07-10</td>\n      <td>2019-10-16 20:10:00</td>\n      <td>85668</td>\n      <td>1.909</td>\n      <td>False</td>\n      <td>Legal</td>\n    </tr>\n    <tr>\n      <td>989</td>\n      <td>Justin</td>\n      <td>NaN</td>\n      <td>1991-02-10</td>\n      <td>2019-10-16 16:58:00</td>\n      <td>38344</td>\n      <td>3.794</td>\n      <td>False</td>\n      <td>Legal</td>\n    </tr>\n    <tr>\n      <td>997</td>\n      <td>Russell</td>\n      <td>Male</td>\n      <td>2013-05-20</td>\n      <td>2019-10-16 12:39:00</td>\n      <td>96914</td>\n      <td>1.421</td>\n      <td>False</td>\n      <td>Product</td>\n    </tr>\n    <tr>\n      <td>999</td>\n      <td>Albert</td>\n      <td>Male</td>\n      <td>2012-05-15</td>\n      <td>2019-10-16 18:24:00</td>\n      <td>129949</td>\n      <td>10.169</td>\n      <td>True</td>\n      <td>Sales</td>\n    </tr>\n  </tbody>\n</table>\n<p>277 rows × 8 columns</p>\n</div>"
     },
     "metadata": {},
     "output_type": "execute_result",
     "execution_count": 2
    }
   ],
   "source": [
    "import pandas as pd\n",
    "df = pd.read_csv('../../DataSets/employees.csv',parse_dates=[\"Start Date\",\"Last Login Time\"])\n",
    "df[\"Gender\"] = df['Gender'].astype(\"category\")\n",
    "df[\"Senior Management\"] = df['Senior Management'].astype(\"bool\")\n",
    "\n",
    "mask1= df[\"Team\"] == 'Legal'\n",
    "mask2= df[\"Team\"] == 'Sales'\n",
    "mask3= df[\"Team\"] == 'Product'\n",
    "df[mask1 | mask2 | mask3]\n",
    "\n",
    "#alternet for that\n",
    "mask = df['Team'].isin(['Legal','Sales','Product'])\n",
    "df[mask]"
   ]
  }
 ],
 "metadata": {
  "kernelspec": {
   "display_name": "Python 3",
   "language": "python",
   "name": "python3"
  },
  "language_info": {
   "codemirror_mode": {
    "name": "ipython",
    "version": 2
   },
   "file_extension": ".py",
   "mimetype": "text/x-python",
   "name": "python",
   "nbconvert_exporter": "python",
   "pygments_lexer": "ipython2",
   "version": "2.7.6"
  },
  "pycharm": {
   "stem_cell": {
    "cell_type": "raw",
    "source": [],
    "metadata": {
     "collapsed": false
    }
   }
  }
 },
 "nbformat": 4,
 "nbformat_minor": 0
}