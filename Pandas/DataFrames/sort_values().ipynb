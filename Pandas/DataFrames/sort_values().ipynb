{
 "cells": [
  {
   "cell_type": "code",
   "execution_count": 19,
   "metadata": {
    "collapsed": true,
    "pycharm": {
     "is_executing": false
    }
   },
   "outputs": [
    {
     "data": {
      "text/plain": "                Name                 Team  Number Position   Age Height  \\\n109      Kobe Bryant   Los Angeles Lakers    24.0       SF  37.0    6-6   \n169     LeBron James  Cleveland Cavaliers    23.0       SF  31.0    6-8   \n33   Carmelo Anthony      New York Knicks     7.0       SF  32.0    6-8   \n251    Dwight Howard      Houston Rockets    12.0        C  30.0   6-11   \n339       Chris Bosh           Miami Heat     1.0       PF  32.0   6-11   \n..               ...                  ...     ...      ...   ...    ...   \n2       John Holland       Boston Celtics    30.0       SG  27.0    6-5   \n264    Jordan Farmar    Memphis Grizzlies     4.0       PG  29.0    6-2   \n269     Ray McCallum    Memphis Grizzlies     5.0       PG  24.0    6-3   \n270   Xavier Munford    Memphis Grizzlies    14.0       PG  24.0    6-3   \n457              NaN                  NaN     NaN      NaN   NaN    NaN   \n\n     Weight            College      Salary  \n109   212.0                NaN  25000000.0  \n169   250.0                NaN  22970500.0  \n33    240.0           Syracuse  22875000.0  \n251   265.0                NaN  22359364.0  \n339   235.0       Georgia Tech  22192730.0  \n..      ...                ...         ...  \n2     205.0  Boston University         NaN  \n264   180.0               UCLA         NaN  \n269   190.0            Detroit         NaN  \n270   180.0       Rhode Island         NaN  \n457     NaN                NaN         NaN  \n\n[458 rows x 9 columns]",
      "text/html": "<div>\n<style scoped>\n    .dataframe tbody tr th:only-of-type {\n        vertical-align: middle;\n    }\n\n    .dataframe tbody tr th {\n        vertical-align: top;\n    }\n\n    .dataframe thead th {\n        text-align: right;\n    }\n</style>\n<table border=\"1\" class=\"dataframe\">\n  <thead>\n    <tr style=\"text-align: right;\">\n      <th></th>\n      <th>Name</th>\n      <th>Team</th>\n      <th>Number</th>\n      <th>Position</th>\n      <th>Age</th>\n      <th>Height</th>\n      <th>Weight</th>\n      <th>College</th>\n      <th>Salary</th>\n    </tr>\n  </thead>\n  <tbody>\n    <tr>\n      <td>109</td>\n      <td>Kobe Bryant</td>\n      <td>Los Angeles Lakers</td>\n      <td>24.0</td>\n      <td>SF</td>\n      <td>37.0</td>\n      <td>6-6</td>\n      <td>212.0</td>\n      <td>NaN</td>\n      <td>25000000.0</td>\n    </tr>\n    <tr>\n      <td>169</td>\n      <td>LeBron James</td>\n      <td>Cleveland Cavaliers</td>\n      <td>23.0</td>\n      <td>SF</td>\n      <td>31.0</td>\n      <td>6-8</td>\n      <td>250.0</td>\n      <td>NaN</td>\n      <td>22970500.0</td>\n    </tr>\n    <tr>\n      <td>33</td>\n      <td>Carmelo Anthony</td>\n      <td>New York Knicks</td>\n      <td>7.0</td>\n      <td>SF</td>\n      <td>32.0</td>\n      <td>6-8</td>\n      <td>240.0</td>\n      <td>Syracuse</td>\n      <td>22875000.0</td>\n    </tr>\n    <tr>\n      <td>251</td>\n      <td>Dwight Howard</td>\n      <td>Houston Rockets</td>\n      <td>12.0</td>\n      <td>C</td>\n      <td>30.0</td>\n      <td>6-11</td>\n      <td>265.0</td>\n      <td>NaN</td>\n      <td>22359364.0</td>\n    </tr>\n    <tr>\n      <td>339</td>\n      <td>Chris Bosh</td>\n      <td>Miami Heat</td>\n      <td>1.0</td>\n      <td>PF</td>\n      <td>32.0</td>\n      <td>6-11</td>\n      <td>235.0</td>\n      <td>Georgia Tech</td>\n      <td>22192730.0</td>\n    </tr>\n    <tr>\n      <td>...</td>\n      <td>...</td>\n      <td>...</td>\n      <td>...</td>\n      <td>...</td>\n      <td>...</td>\n      <td>...</td>\n      <td>...</td>\n      <td>...</td>\n      <td>...</td>\n    </tr>\n    <tr>\n      <td>2</td>\n      <td>John Holland</td>\n      <td>Boston Celtics</td>\n      <td>30.0</td>\n      <td>SG</td>\n      <td>27.0</td>\n      <td>6-5</td>\n      <td>205.0</td>\n      <td>Boston University</td>\n      <td>NaN</td>\n    </tr>\n    <tr>\n      <td>264</td>\n      <td>Jordan Farmar</td>\n      <td>Memphis Grizzlies</td>\n      <td>4.0</td>\n      <td>PG</td>\n      <td>29.0</td>\n      <td>6-2</td>\n      <td>180.0</td>\n      <td>UCLA</td>\n      <td>NaN</td>\n    </tr>\n    <tr>\n      <td>269</td>\n      <td>Ray McCallum</td>\n      <td>Memphis Grizzlies</td>\n      <td>5.0</td>\n      <td>PG</td>\n      <td>24.0</td>\n      <td>6-3</td>\n      <td>190.0</td>\n      <td>Detroit</td>\n      <td>NaN</td>\n    </tr>\n    <tr>\n      <td>270</td>\n      <td>Xavier Munford</td>\n      <td>Memphis Grizzlies</td>\n      <td>14.0</td>\n      <td>PG</td>\n      <td>24.0</td>\n      <td>6-3</td>\n      <td>180.0</td>\n      <td>Rhode Island</td>\n      <td>NaN</td>\n    </tr>\n    <tr>\n      <td>457</td>\n      <td>NaN</td>\n      <td>NaN</td>\n      <td>NaN</td>\n      <td>NaN</td>\n      <td>NaN</td>\n      <td>NaN</td>\n      <td>NaN</td>\n      <td>NaN</td>\n      <td>NaN</td>\n    </tr>\n  </tbody>\n</table>\n<p>458 rows × 9 columns</p>\n</div>"
     },
     "metadata": {},
     "output_type": "execute_result",
     "execution_count": 19
    }
   ],
   "source": [
    "import pandas as pd\n",
    "\n",
    "nba = pd.read_csv(\"../../DataSets/nba.csv\")\n",
    "\n",
    "nba.head(10)\n",
    "nba.sort_values(\"Name\").head(10)\n",
    "\n",
    "nba.sort_values(by=[\"Name\"],ascending=False)\n",
    "#all null vales sorted as end\n",
    "nba.sort_values(by=[\"Salary\"],na_position=\"last\")#default behabiore\n",
    "nba.sort_values(by=[\"Salary\"],na_position=\"first\")\n",
    "nba.sort_values(by=[\"Salary\",\"Name\"],na_position=\"first\")\n",
    "\n",
    "nba.sort_values(by=[\"Salary\",\"Name\"],na_position=\"last\",ascending=[False,True])"
   ]
  }
 ],
 "metadata": {
  "kernelspec": {
   "display_name": "Python 3",
   "language": "python",
   "name": "python3"
  },
  "language_info": {
   "codemirror_mode": {
    "name": "ipython",
    "version": 2
   },
   "file_extension": ".py",
   "mimetype": "text/x-python",
   "name": "python",
   "nbconvert_exporter": "python",
   "pygments_lexer": "ipython2",
   "version": "2.7.6"
  },
  "pycharm": {
   "stem_cell": {
    "cell_type": "raw",
    "source": [],
    "metadata": {
     "collapsed": false
    }
   }
  }
 },
 "nbformat": 4,
 "nbformat_minor": 0
}