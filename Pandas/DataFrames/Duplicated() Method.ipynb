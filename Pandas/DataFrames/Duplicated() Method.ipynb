{
 "cells": [
  {
   "cell_type": "code",
   "execution_count": 7,
   "metadata": {
    "collapsed": true,
    "pycharm": {
     "is_executing": false
    }
   },
   "outputs": [
    {
     "name": "stdout",
     "text": [
      "101    False\n327     True\n440     True\n937     True\n137    False\n       ...  \n902     True\n925     True\n946     True\n947     True\n951     True\nName: First Name, Length: 1000, dtype: bool\n101     True\n327     True\n440     True\n937    False\n137     True\n       ...  \n902     True\n925     True\n946     True\n947     True\n951    False\nName: First Name, Length: 1000, dtype: bool\n101    True\n327    True\n440    True\n937    True\n137    True\n       ... \n902    True\n925    True\n946    True\n947    True\n951    True\nName: First Name, Length: 1000, dtype: bool\n101    False\n327    False\n440    False\n937    False\n137    False\n       ...  \n902    False\n925    False\n946    False\n947    False\n951    False\nName: First Name, Length: 1000, dtype: bool\n"
     ],
     "output_type": "stream"
    },
    {
     "data": {
      "text/plain": "    First Name  Gender  Start Date Last Login Time  Salary  Bonus %  \\\n8       Angela  Female  11/22/2005         6:29 AM   95570   18.523   \n688      Brian    Male    4/7/2007        10:47 PM   93901   17.821   \n190      Carol  Female   3/19/1996         3:39 AM   57783    9.129   \n887      David    Male   12/5/2009         8:48 AM   92242   15.407   \n5       Dennis    Male   4/18/1987         1:35 AM  115163   10.125   \n495     Eugene    Male   5/24/1984        10:54 AM   81077    2.117   \n33        Jean  Female  12/18/1993         9:07 AM  119082   16.180   \n832      Keith    Male   2/12/2003         3:02 PM  120672   19.467   \n291      Tammy  Female  11/11/1984        10:30 AM  132839   17.463   \n\n    Senior Management                  Team  \n8                True           Engineering  \n688              True                 Legal  \n190             False               Finance  \n887             False                 Legal  \n5               False                 Legal  \n495             False                 Sales  \n33              False  Business Development  \n832             False                 Legal  \n291              True       Client Services  ",
      "text/html": "<div>\n<style scoped>\n    .dataframe tbody tr th:only-of-type {\n        vertical-align: middle;\n    }\n\n    .dataframe tbody tr th {\n        vertical-align: top;\n    }\n\n    .dataframe thead th {\n        text-align: right;\n    }\n</style>\n<table border=\"1\" class=\"dataframe\">\n  <thead>\n    <tr style=\"text-align: right;\">\n      <th></th>\n      <th>First Name</th>\n      <th>Gender</th>\n      <th>Start Date</th>\n      <th>Last Login Time</th>\n      <th>Salary</th>\n      <th>Bonus %</th>\n      <th>Senior Management</th>\n      <th>Team</th>\n    </tr>\n  </thead>\n  <tbody>\n    <tr>\n      <td>8</td>\n      <td>Angela</td>\n      <td>Female</td>\n      <td>11/22/2005</td>\n      <td>6:29 AM</td>\n      <td>95570</td>\n      <td>18.523</td>\n      <td>True</td>\n      <td>Engineering</td>\n    </tr>\n    <tr>\n      <td>688</td>\n      <td>Brian</td>\n      <td>Male</td>\n      <td>4/7/2007</td>\n      <td>10:47 PM</td>\n      <td>93901</td>\n      <td>17.821</td>\n      <td>True</td>\n      <td>Legal</td>\n    </tr>\n    <tr>\n      <td>190</td>\n      <td>Carol</td>\n      <td>Female</td>\n      <td>3/19/1996</td>\n      <td>3:39 AM</td>\n      <td>57783</td>\n      <td>9.129</td>\n      <td>False</td>\n      <td>Finance</td>\n    </tr>\n    <tr>\n      <td>887</td>\n      <td>David</td>\n      <td>Male</td>\n      <td>12/5/2009</td>\n      <td>8:48 AM</td>\n      <td>92242</td>\n      <td>15.407</td>\n      <td>False</td>\n      <td>Legal</td>\n    </tr>\n    <tr>\n      <td>5</td>\n      <td>Dennis</td>\n      <td>Male</td>\n      <td>4/18/1987</td>\n      <td>1:35 AM</td>\n      <td>115163</td>\n      <td>10.125</td>\n      <td>False</td>\n      <td>Legal</td>\n    </tr>\n    <tr>\n      <td>495</td>\n      <td>Eugene</td>\n      <td>Male</td>\n      <td>5/24/1984</td>\n      <td>10:54 AM</td>\n      <td>81077</td>\n      <td>2.117</td>\n      <td>False</td>\n      <td>Sales</td>\n    </tr>\n    <tr>\n      <td>33</td>\n      <td>Jean</td>\n      <td>Female</td>\n      <td>12/18/1993</td>\n      <td>9:07 AM</td>\n      <td>119082</td>\n      <td>16.180</td>\n      <td>False</td>\n      <td>Business Development</td>\n    </tr>\n    <tr>\n      <td>832</td>\n      <td>Keith</td>\n      <td>Male</td>\n      <td>2/12/2003</td>\n      <td>3:02 PM</td>\n      <td>120672</td>\n      <td>19.467</td>\n      <td>False</td>\n      <td>Legal</td>\n    </tr>\n    <tr>\n      <td>291</td>\n      <td>Tammy</td>\n      <td>Female</td>\n      <td>11/11/1984</td>\n      <td>10:30 AM</td>\n      <td>132839</td>\n      <td>17.463</td>\n      <td>True</td>\n      <td>Client Services</td>\n    </tr>\n  </tbody>\n</table>\n</div>"
     },
     "metadata": {},
     "output_type": "execute_result",
     "execution_count": 7
    }
   ],
   "source": [
    "import pandas as pd\n",
    "df = pd.read_csv('../../DataSets/employees.csv')\n",
    "\n",
    "df.sort_values(by=\"First Name\",inplace=True)\n",
    "duplicate = df['First Name'].duplicated()\n",
    "print(duplicate)\n",
    "df[duplicate] #shows all the duplicate value\n",
    "duplicate = df['First Name'].duplicated(keep='last')\n",
    "print(duplicate)\n",
    "df[duplicate]\n",
    "\n",
    "#show only the  duplicate values\n",
    "duplicate = df['First Name'].duplicated(keep=False)\n",
    "print(duplicate)\n",
    "df[duplicate]\n",
    "\n",
    "#show only unique values\n",
    "duplicate = ~df['First Name'].duplicated(keep=False)\n",
    "print(duplicate)\n",
    "df[duplicate]"
   ]
  }
 ],
 "metadata": {
  "kernelspec": {
   "display_name": "Python 3",
   "language": "python",
   "name": "python3"
  },
  "language_info": {
   "codemirror_mode": {
    "name": "ipython",
    "version": 2
   },
   "file_extension": ".py",
   "mimetype": "text/x-python",
   "name": "python",
   "nbconvert_exporter": "python",
   "pygments_lexer": "ipython2",
   "version": "2.7.6"
  },
  "pycharm": {
   "stem_cell": {
    "cell_type": "raw",
    "source": [],
    "metadata": {
     "collapsed": false
    }
   }
  }
 },
 "nbformat": 4,
 "nbformat_minor": 0
}