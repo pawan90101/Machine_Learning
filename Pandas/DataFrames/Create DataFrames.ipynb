{
 "cells": [
  {
   "cell_type": "code",
   "execution_count": 1,
   "metadata": {
    "collapsed": true,
    "pycharm": {
     "is_executing": false
    }
   },
   "outputs": [
    {
     "data": {
      "text/plain": "      a         b\n0  7478 -0.061316\n1  1820  0.478407\n2  5818 -1.112580\n3  7657  0.039198\n4  1850 -0.492325\n5  9326  0.388234\n6  1111  0.169311\n7  7938  0.770648\n8  4255 -0.444675\n9  7156 -0.270606",
      "text/html": "<div>\n<style scoped>\n    .dataframe tbody tr th:only-of-type {\n        vertical-align: middle;\n    }\n\n    .dataframe tbody tr th {\n        vertical-align: top;\n    }\n\n    .dataframe thead th {\n        text-align: right;\n    }\n</style>\n<table border=\"1\" class=\"dataframe\">\n  <thead>\n    <tr style=\"text-align: right;\">\n      <th></th>\n      <th>a</th>\n      <th>b</th>\n    </tr>\n  </thead>\n  <tbody>\n    <tr>\n      <td>0</td>\n      <td>7478</td>\n      <td>-0.061316</td>\n    </tr>\n    <tr>\n      <td>1</td>\n      <td>1820</td>\n      <td>0.478407</td>\n    </tr>\n    <tr>\n      <td>2</td>\n      <td>5818</td>\n      <td>-1.112580</td>\n    </tr>\n    <tr>\n      <td>3</td>\n      <td>7657</td>\n      <td>0.039198</td>\n    </tr>\n    <tr>\n      <td>4</td>\n      <td>1850</td>\n      <td>-0.492325</td>\n    </tr>\n    <tr>\n      <td>5</td>\n      <td>9326</td>\n      <td>0.388234</td>\n    </tr>\n    <tr>\n      <td>6</td>\n      <td>1111</td>\n      <td>0.169311</td>\n    </tr>\n    <tr>\n      <td>7</td>\n      <td>7938</td>\n      <td>0.770648</td>\n    </tr>\n    <tr>\n      <td>8</td>\n      <td>4255</td>\n      <td>-0.444675</td>\n    </tr>\n    <tr>\n      <td>9</td>\n      <td>7156</td>\n      <td>-0.270606</td>\n    </tr>\n  </tbody>\n</table>\n</div>"
     },
     "metadata": {},
     "output_type": "execute_result",
     "execution_count": 1
    }
   ],
   "source": [
    "import pandas as pd\n",
    "import numpy as np\n",
    "\n",
    "demo = pd.DataFrame({'a':np.random.randint(100,10000,10),'b':np.random.randn(10)})\n",
    "demo"
   ]
  }
 ],
 "metadata": {
  "kernelspec": {
   "display_name": "Python 3",
   "language": "python",
   "name": "python3"
  },
  "language_info": {
   "codemirror_mode": {
    "name": "ipython",
    "version": 2
   },
   "file_extension": ".py",
   "mimetype": "text/x-python",
   "name": "python",
   "nbconvert_exporter": "python",
   "pygments_lexer": "ipython2",
   "version": "2.7.6"
  },
  "pycharm": {
   "stem_cell": {
    "cell_type": "raw",
    "source": [],
    "metadata": {
     "collapsed": false
    }
   }
  }
 },
 "nbformat": 4,
 "nbformat_minor": 0
}