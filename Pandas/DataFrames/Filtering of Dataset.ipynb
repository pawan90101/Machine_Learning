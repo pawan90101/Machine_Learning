{
 "cells": [
  {
   "cell_type": "code",
   "execution_count": 11,
   "metadata": {
    "collapsed": true,
    "pycharm": {
     "is_executing": false
    }
   },
   "outputs": [
    {
     "name": "stdout",
     "text": [
      "<class 'pandas.core.frame.DataFrame'>\nRangeIndex: 1000 entries, 0 to 999\nData columns (total 8 columns):\nFirst Name           933 non-null object\nGender               855 non-null object\nStart Date           1000 non-null object\nLast Login Time      1000 non-null object\nSalary               1000 non-null int64\nBonus %              1000 non-null float64\nSenior Management    933 non-null object\nTeam                 957 non-null object\ndtypes: float64(1), int64(1), object(6)\nmemory usage: 62.6+ KB\n"
     ],
     "output_type": "stream"
    }
   ],
   "source": [
    "import pandas as pd\n",
    "df = pd.read_csv('../../DataSets/employees.csv')\n",
    "df.head()\n",
    "df.info()\n",
    "\n",
    "df['Start Date'].head()\n",
    "df['Start Date'] = pd.to_datetime(df['Start Date'])\n",
    "\n",
    "df[\"Last Login Time\"] = pd.to_datetime(df['Last Login Time'])\n",
    "\n"
   ]
  },
  {
   "cell_type": "code",
   "execution_count": 14,
   "outputs": [
    {
     "name": "stdout",
     "text": [
      "<class 'pandas.core.frame.DataFrame'>\nRangeIndex: 1000 entries, 0 to 999\nData columns (total 8 columns):\nFirst Name           933 non-null object\nGender               855 non-null object\nStart Date           1000 non-null datetime64[ns]\nLast Login Time      1000 non-null datetime64[ns]\nSalary               1000 non-null int64\nBonus %              1000 non-null float64\nSenior Management    933 non-null object\nTeam                 957 non-null object\ndtypes: datetime64[ns](2), float64(1), int64(1), object(4)\nmemory usage: 62.6+ KB\n"
     ],
     "output_type": "stream"
    }
   ],
   "source": [
    "df[\"Last Login Time\"] = pd.to_datetime(df['Last Login Time'])\n",
    "df.info()\n"
   ],
   "metadata": {
    "collapsed": false,
    "pycharm": {
     "name": "#%%\n",
     "is_executing": false
    }
   }
  },
  {
   "cell_type": "code",
   "execution_count": 17,
   "outputs": [
    {
     "name": "stdout",
     "text": [
      "<class 'pandas.core.frame.DataFrame'>\nRangeIndex: 1000 entries, 0 to 999\nData columns (total 8 columns):\nFirst Name           933 non-null object\nGender               855 non-null object\nStart Date           1000 non-null datetime64[ns]\nLast Login Time      1000 non-null datetime64[ns]\nSalary               1000 non-null int64\nBonus %              1000 non-null float64\nSenior Management    1000 non-null bool\nTeam                 957 non-null object\ndtypes: bool(1), datetime64[ns](2), float64(1), int64(1), object(3)\nmemory usage: 55.8+ KB\n"
     ],
     "output_type": "stream"
    }
   ],
   "source": [
    "df[\"Senior Management\"] = df['Senior Management'].astype(\"bool\")\n",
    "df\n",
    "df.info()"
   ],
   "metadata": {
    "collapsed": false,
    "pycharm": {
     "name": "#%%\n",
     "is_executing": false
    }
   }
  },
  {
   "cell_type": "code",
   "execution_count": 20,
   "outputs": [
    {
     "data": {
      "text/plain": "    First Name Gender Start Date     Last Login Time  Salary  Bonus %  \\\n0      Douglas   True 1993-08-06 2019-10-16 12:42:00   97308    6.945   \n1       Thomas   True 1996-03-31 2019-10-16 06:53:00   61933    4.170   \n2        Maria  False 1993-04-23 2019-10-16 11:17:00  130590   11.858   \n3        Jerry   True 2005-03-04 2019-10-16 13:00:00  138705    9.340   \n4        Larry   True 1998-01-24 2019-10-16 16:47:00  101004    1.389   \n..         ...    ...        ...                 ...     ...      ...   \n995      Henry  False 2014-11-23 2019-10-16 06:09:00  132483   16.655   \n996    Phillip  False 1984-01-31 2019-10-16 06:30:00   42392   19.675   \n997    Russell  False 2013-05-20 2019-10-16 12:39:00   96914    1.421   \n998      Larry  False 2013-04-20 2019-10-16 16:45:00   60500   11.985   \n999     Albert   True 2012-05-15 2019-10-16 18:24:00  129949   10.169   \n\n     Senior Management                  Team  \n0                 True             Marketing  \n1                 True                   NaN  \n2                False               Finance  \n3                 True               Finance  \n4                 True       Client Services  \n..                 ...                   ...  \n995              False          Distribution  \n996              False               Finance  \n997              False               Product  \n998              False  Business Development  \n999               True                 Sales  \n\n[1000 rows x 8 columns]",
      "text/html": "<div>\n<style scoped>\n    .dataframe tbody tr th:only-of-type {\n        vertical-align: middle;\n    }\n\n    .dataframe tbody tr th {\n        vertical-align: top;\n    }\n\n    .dataframe thead th {\n        text-align: right;\n    }\n</style>\n<table border=\"1\" class=\"dataframe\">\n  <thead>\n    <tr style=\"text-align: right;\">\n      <th></th>\n      <th>First Name</th>\n      <th>Gender</th>\n      <th>Start Date</th>\n      <th>Last Login Time</th>\n      <th>Salary</th>\n      <th>Bonus %</th>\n      <th>Senior Management</th>\n      <th>Team</th>\n    </tr>\n  </thead>\n  <tbody>\n    <tr>\n      <td>0</td>\n      <td>Douglas</td>\n      <td>True</td>\n      <td>1993-08-06</td>\n      <td>2019-10-16 12:42:00</td>\n      <td>97308</td>\n      <td>6.945</td>\n      <td>True</td>\n      <td>Marketing</td>\n    </tr>\n    <tr>\n      <td>1</td>\n      <td>Thomas</td>\n      <td>True</td>\n      <td>1996-03-31</td>\n      <td>2019-10-16 06:53:00</td>\n      <td>61933</td>\n      <td>4.170</td>\n      <td>True</td>\n      <td>NaN</td>\n    </tr>\n    <tr>\n      <td>2</td>\n      <td>Maria</td>\n      <td>False</td>\n      <td>1993-04-23</td>\n      <td>2019-10-16 11:17:00</td>\n      <td>130590</td>\n      <td>11.858</td>\n      <td>False</td>\n      <td>Finance</td>\n    </tr>\n    <tr>\n      <td>3</td>\n      <td>Jerry</td>\n      <td>True</td>\n      <td>2005-03-04</td>\n      <td>2019-10-16 13:00:00</td>\n      <td>138705</td>\n      <td>9.340</td>\n      <td>True</td>\n      <td>Finance</td>\n    </tr>\n    <tr>\n      <td>4</td>\n      <td>Larry</td>\n      <td>True</td>\n      <td>1998-01-24</td>\n      <td>2019-10-16 16:47:00</td>\n      <td>101004</td>\n      <td>1.389</td>\n      <td>True</td>\n      <td>Client Services</td>\n    </tr>\n    <tr>\n      <td>...</td>\n      <td>...</td>\n      <td>...</td>\n      <td>...</td>\n      <td>...</td>\n      <td>...</td>\n      <td>...</td>\n      <td>...</td>\n      <td>...</td>\n    </tr>\n    <tr>\n      <td>995</td>\n      <td>Henry</td>\n      <td>False</td>\n      <td>2014-11-23</td>\n      <td>2019-10-16 06:09:00</td>\n      <td>132483</td>\n      <td>16.655</td>\n      <td>False</td>\n      <td>Distribution</td>\n    </tr>\n    <tr>\n      <td>996</td>\n      <td>Phillip</td>\n      <td>False</td>\n      <td>1984-01-31</td>\n      <td>2019-10-16 06:30:00</td>\n      <td>42392</td>\n      <td>19.675</td>\n      <td>False</td>\n      <td>Finance</td>\n    </tr>\n    <tr>\n      <td>997</td>\n      <td>Russell</td>\n      <td>False</td>\n      <td>2013-05-20</td>\n      <td>2019-10-16 12:39:00</td>\n      <td>96914</td>\n      <td>1.421</td>\n      <td>False</td>\n      <td>Product</td>\n    </tr>\n    <tr>\n      <td>998</td>\n      <td>Larry</td>\n      <td>False</td>\n      <td>2013-04-20</td>\n      <td>2019-10-16 16:45:00</td>\n      <td>60500</td>\n      <td>11.985</td>\n      <td>False</td>\n      <td>Business Development</td>\n    </tr>\n    <tr>\n      <td>999</td>\n      <td>Albert</td>\n      <td>True</td>\n      <td>2012-05-15</td>\n      <td>2019-10-16 18:24:00</td>\n      <td>129949</td>\n      <td>10.169</td>\n      <td>True</td>\n      <td>Sales</td>\n    </tr>\n  </tbody>\n</table>\n<p>1000 rows × 8 columns</p>\n</div>"
     },
     "metadata": {},
     "output_type": "execute_result",
     "execution_count": 20
    }
   ],
   "source": [
    "df[\"Gender\"] = df['Gender'].astype(\"category\")\n",
    "df\n",
    "#df.info()\n"
   ],
   "metadata": {
    "collapsed": false,
    "pycharm": {
     "name": "#%%\n",
     "is_executing": false
    }
   }
  },
  {
   "cell_type": "code",
   "execution_count": 22,
   "outputs": [
    {
     "name": "stdout",
     "text": [
      "<class 'pandas.core.frame.DataFrame'>\nRangeIndex: 1000 entries, 0 to 999\nData columns (total 8 columns):\nFirst Name           933 non-null object\nGender               855 non-null category\nStart Date           1000 non-null datetime64[ns]\nLast Login Time      1000 non-null datetime64[ns]\nSalary               1000 non-null int64\nBonus %              1000 non-null float64\nSenior Management    1000 non-null bool\nTeam                 957 non-null object\ndtypes: bool(1), category(1), datetime64[ns](2), float64(1), int64(1), object(2)\nmemory usage: 49.0+ KB\n"
     ],
     "output_type": "stream"
    }
   ],
   "source": [
    "#Sort Way\n",
    "import pandas as pd\n",
    "df = pd.read_csv('../../DataSets/employees.csv',parse_dates=[\"Start Date\",\"Last Login Time\"])\n",
    "df[\"Gender\"] = df['Gender'].astype(\"category\")\n",
    "df[\"Senior Management\"] = df['Senior Management'].astype(\"bool\")\n",
    "df.head()\n",
    "df.info()"
   ],
   "metadata": {
    "collapsed": false,
    "pycharm": {
     "name": "#%%\n",
     "is_executing": false
    }
   }
  },
  {
   "cell_type": "code",
   "execution_count": 24,
   "outputs": [
    {
     "data": {
      "text/plain": "    First Name  Gender Start Date     Last Login Time  Salary  Bonus %  \\\n0      Douglas    Male 1993-08-06 2019-10-16 12:42:00   97308    6.945   \n1       Thomas    Male 1996-03-31 2019-10-16 06:53:00   61933    4.170   \n2        Maria  Female 1993-04-23 2019-10-16 11:17:00  130590   11.858   \n3        Jerry    Male 2005-03-04 2019-10-16 13:00:00  138705    9.340   \n4        Larry    Male 1998-01-24 2019-10-16 16:47:00  101004    1.389   \n..         ...     ...        ...                 ...     ...      ...   \n995      Henry     NaN 2014-11-23 2019-10-16 06:09:00  132483   16.655   \n996    Phillip    Male 1984-01-31 2019-10-16 06:30:00   42392   19.675   \n997    Russell    Male 2013-05-20 2019-10-16 12:39:00   96914    1.421   \n998      Larry    Male 2013-04-20 2019-10-16 16:45:00   60500   11.985   \n999     Albert    Male 2012-05-15 2019-10-16 18:24:00  129949   10.169   \n\n     Senior Management                  Team  \n0                 True             Marketing  \n1                 True                   NaN  \n2                False               Finance  \n3                 True               Finance  \n4                 True       Client Services  \n..                 ...                   ...  \n995              False          Distribution  \n996              False               Finance  \n997              False               Product  \n998              False  Business Development  \n999               True                 Sales  \n\n[1000 rows x 8 columns]",
      "text/html": "<div>\n<style scoped>\n    .dataframe tbody tr th:only-of-type {\n        vertical-align: middle;\n    }\n\n    .dataframe tbody tr th {\n        vertical-align: top;\n    }\n\n    .dataframe thead th {\n        text-align: right;\n    }\n</style>\n<table border=\"1\" class=\"dataframe\">\n  <thead>\n    <tr style=\"text-align: right;\">\n      <th></th>\n      <th>First Name</th>\n      <th>Gender</th>\n      <th>Start Date</th>\n      <th>Last Login Time</th>\n      <th>Salary</th>\n      <th>Bonus %</th>\n      <th>Senior Management</th>\n      <th>Team</th>\n    </tr>\n  </thead>\n  <tbody>\n    <tr>\n      <td>0</td>\n      <td>Douglas</td>\n      <td>Male</td>\n      <td>1993-08-06</td>\n      <td>2019-10-16 12:42:00</td>\n      <td>97308</td>\n      <td>6.945</td>\n      <td>True</td>\n      <td>Marketing</td>\n    </tr>\n    <tr>\n      <td>1</td>\n      <td>Thomas</td>\n      <td>Male</td>\n      <td>1996-03-31</td>\n      <td>2019-10-16 06:53:00</td>\n      <td>61933</td>\n      <td>4.170</td>\n      <td>True</td>\n      <td>NaN</td>\n    </tr>\n    <tr>\n      <td>2</td>\n      <td>Maria</td>\n      <td>Female</td>\n      <td>1993-04-23</td>\n      <td>2019-10-16 11:17:00</td>\n      <td>130590</td>\n      <td>11.858</td>\n      <td>False</td>\n      <td>Finance</td>\n    </tr>\n    <tr>\n      <td>3</td>\n      <td>Jerry</td>\n      <td>Male</td>\n      <td>2005-03-04</td>\n      <td>2019-10-16 13:00:00</td>\n      <td>138705</td>\n      <td>9.340</td>\n      <td>True</td>\n      <td>Finance</td>\n    </tr>\n    <tr>\n      <td>4</td>\n      <td>Larry</td>\n      <td>Male</td>\n      <td>1998-01-24</td>\n      <td>2019-10-16 16:47:00</td>\n      <td>101004</td>\n      <td>1.389</td>\n      <td>True</td>\n      <td>Client Services</td>\n    </tr>\n    <tr>\n      <td>...</td>\n      <td>...</td>\n      <td>...</td>\n      <td>...</td>\n      <td>...</td>\n      <td>...</td>\n      <td>...</td>\n      <td>...</td>\n      <td>...</td>\n    </tr>\n    <tr>\n      <td>995</td>\n      <td>Henry</td>\n      <td>NaN</td>\n      <td>2014-11-23</td>\n      <td>2019-10-16 06:09:00</td>\n      <td>132483</td>\n      <td>16.655</td>\n      <td>False</td>\n      <td>Distribution</td>\n    </tr>\n    <tr>\n      <td>996</td>\n      <td>Phillip</td>\n      <td>Male</td>\n      <td>1984-01-31</td>\n      <td>2019-10-16 06:30:00</td>\n      <td>42392</td>\n      <td>19.675</td>\n      <td>False</td>\n      <td>Finance</td>\n    </tr>\n    <tr>\n      <td>997</td>\n      <td>Russell</td>\n      <td>Male</td>\n      <td>2013-05-20</td>\n      <td>2019-10-16 12:39:00</td>\n      <td>96914</td>\n      <td>1.421</td>\n      <td>False</td>\n      <td>Product</td>\n    </tr>\n    <tr>\n      <td>998</td>\n      <td>Larry</td>\n      <td>Male</td>\n      <td>2013-04-20</td>\n      <td>2019-10-16 16:45:00</td>\n      <td>60500</td>\n      <td>11.985</td>\n      <td>False</td>\n      <td>Business Development</td>\n    </tr>\n    <tr>\n      <td>999</td>\n      <td>Albert</td>\n      <td>Male</td>\n      <td>2012-05-15</td>\n      <td>2019-10-16 18:24:00</td>\n      <td>129949</td>\n      <td>10.169</td>\n      <td>True</td>\n      <td>Sales</td>\n    </tr>\n  </tbody>\n</table>\n<p>1000 rows × 8 columns</p>\n</div>"
     },
     "metadata": {},
     "output_type": "execute_result",
     "execution_count": 24
    }
   ],
   "source": [
    "#Filter using conditions\n",
    "df[\"Gender\"] == \"Male\"\n",
    "df[df[\"Gender\"] == \"Male\"]\n",
    "df"
   ],
   "metadata": {
    "collapsed": false,
    "pycharm": {
     "name": "#%%\n",
     "is_executing": false
    }
   }
  },
  {
   "cell_type": "code",
   "execution_count": 25,
   "outputs": [
    {
     "data": {
      "text/plain": "    First Name  Gender Start Date     Last Login Time  Salary  Bonus %  \\\n2        Maria  Female 1993-04-23 2019-10-16 11:17:00  130590   11.858   \n3        Jerry    Male 2005-03-04 2019-10-16 13:00:00  138705    9.340   \n7          NaN  Female 2015-07-20 2019-10-16 10:43:00   45906   11.598   \n14    Kimberly  Female 1999-01-14 2019-10-16 07:13:00   41426   14.543   \n46       Bruce    Male 2009-11-28 2019-10-16 22:47:00  114796    6.796   \n..         ...     ...        ...                 ...     ...      ...   \n907  Elizabeth  Female 1998-07-27 2019-10-16 11:12:00  137144   10.081   \n954        Joe    Male 1980-01-19 2019-10-16 16:06:00  119667    1.148   \n987     Gloria  Female 2014-12-08 2019-10-16 05:08:00  136709   10.331   \n992    Anthony    Male 2011-10-16 2019-10-16 08:35:00  112769   11.625   \n996    Phillip    Male 1984-01-31 2019-10-16 06:30:00   42392   19.675   \n\n     Senior Management     Team  \n2                False  Finance  \n3                 True  Finance  \n7                 True  Finance  \n14                True  Finance  \n46               False  Finance  \n..                 ...      ...  \n907              False  Finance  \n954               True  Finance  \n987               True  Finance  \n992               True  Finance  \n996              False  Finance  \n\n[102 rows x 8 columns]",
      "text/html": "<div>\n<style scoped>\n    .dataframe tbody tr th:only-of-type {\n        vertical-align: middle;\n    }\n\n    .dataframe tbody tr th {\n        vertical-align: top;\n    }\n\n    .dataframe thead th {\n        text-align: right;\n    }\n</style>\n<table border=\"1\" class=\"dataframe\">\n  <thead>\n    <tr style=\"text-align: right;\">\n      <th></th>\n      <th>First Name</th>\n      <th>Gender</th>\n      <th>Start Date</th>\n      <th>Last Login Time</th>\n      <th>Salary</th>\n      <th>Bonus %</th>\n      <th>Senior Management</th>\n      <th>Team</th>\n    </tr>\n  </thead>\n  <tbody>\n    <tr>\n      <td>2</td>\n      <td>Maria</td>\n      <td>Female</td>\n      <td>1993-04-23</td>\n      <td>2019-10-16 11:17:00</td>\n      <td>130590</td>\n      <td>11.858</td>\n      <td>False</td>\n      <td>Finance</td>\n    </tr>\n    <tr>\n      <td>3</td>\n      <td>Jerry</td>\n      <td>Male</td>\n      <td>2005-03-04</td>\n      <td>2019-10-16 13:00:00</td>\n      <td>138705</td>\n      <td>9.340</td>\n      <td>True</td>\n      <td>Finance</td>\n    </tr>\n    <tr>\n      <td>7</td>\n      <td>NaN</td>\n      <td>Female</td>\n      <td>2015-07-20</td>\n      <td>2019-10-16 10:43:00</td>\n      <td>45906</td>\n      <td>11.598</td>\n      <td>True</td>\n      <td>Finance</td>\n    </tr>\n    <tr>\n      <td>14</td>\n      <td>Kimberly</td>\n      <td>Female</td>\n      <td>1999-01-14</td>\n      <td>2019-10-16 07:13:00</td>\n      <td>41426</td>\n      <td>14.543</td>\n      <td>True</td>\n      <td>Finance</td>\n    </tr>\n    <tr>\n      <td>46</td>\n      <td>Bruce</td>\n      <td>Male</td>\n      <td>2009-11-28</td>\n      <td>2019-10-16 22:47:00</td>\n      <td>114796</td>\n      <td>6.796</td>\n      <td>False</td>\n      <td>Finance</td>\n    </tr>\n    <tr>\n      <td>...</td>\n      <td>...</td>\n      <td>...</td>\n      <td>...</td>\n      <td>...</td>\n      <td>...</td>\n      <td>...</td>\n      <td>...</td>\n      <td>...</td>\n    </tr>\n    <tr>\n      <td>907</td>\n      <td>Elizabeth</td>\n      <td>Female</td>\n      <td>1998-07-27</td>\n      <td>2019-10-16 11:12:00</td>\n      <td>137144</td>\n      <td>10.081</td>\n      <td>False</td>\n      <td>Finance</td>\n    </tr>\n    <tr>\n      <td>954</td>\n      <td>Joe</td>\n      <td>Male</td>\n      <td>1980-01-19</td>\n      <td>2019-10-16 16:06:00</td>\n      <td>119667</td>\n      <td>1.148</td>\n      <td>True</td>\n      <td>Finance</td>\n    </tr>\n    <tr>\n      <td>987</td>\n      <td>Gloria</td>\n      <td>Female</td>\n      <td>2014-12-08</td>\n      <td>2019-10-16 05:08:00</td>\n      <td>136709</td>\n      <td>10.331</td>\n      <td>True</td>\n      <td>Finance</td>\n    </tr>\n    <tr>\n      <td>992</td>\n      <td>Anthony</td>\n      <td>Male</td>\n      <td>2011-10-16</td>\n      <td>2019-10-16 08:35:00</td>\n      <td>112769</td>\n      <td>11.625</td>\n      <td>True</td>\n      <td>Finance</td>\n    </tr>\n    <tr>\n      <td>996</td>\n      <td>Phillip</td>\n      <td>Male</td>\n      <td>1984-01-31</td>\n      <td>2019-10-16 06:30:00</td>\n      <td>42392</td>\n      <td>19.675</td>\n      <td>False</td>\n      <td>Finance</td>\n    </tr>\n  </tbody>\n</table>\n<p>102 rows × 8 columns</p>\n</div>"
     },
     "metadata": {},
     "output_type": "execute_result",
     "execution_count": 25
    }
   ],
   "source": [
    "mask = df[\"Team\"] == \"Finance\"\n",
    "df[mask]\n"
   ],
   "metadata": {
    "collapsed": false,
    "pycharm": {
     "name": "#%%\n",
     "is_executing": false
    }
   }
  },
  {
   "cell_type": "code",
   "execution_count": 27,
   "outputs": [
    {
     "data": {
      "text/plain": "    First Name  Gender Start Date     Last Login Time  Salary  Bonus %  \\\n4        Larry    Male 1998-01-24 2019-10-16 16:47:00  101004    1.389   \n15     Lillian  Female 2016-06-05 2019-10-16 06:09:00   59414    1.256   \n58     Theresa  Female 2010-04-11 2019-10-16 07:18:00   72670    1.481   \n77     Charles    Male 2004-09-14 2019-10-16 20:13:00  107391    1.260   \n175     Willie    Male 1998-02-17 2019-10-16 20:20:00  146651    1.451   \n189   Clarence    Male 1998-05-02 2019-10-16 03:16:00   85700    1.215   \n217    Douglas    Male 1999-09-03 2019-10-16 16:00:00   83341    1.015   \n273   Nicholas    Male 1994-04-12 2019-10-16 20:21:00   74669    1.113   \n279       Ruby  Female 2000-11-08 2019-10-16 19:35:00  105946    1.139   \n365     Gloria     NaN 1983-07-19 2019-10-16 01:57:00  140885    1.113   \n445      Chris    Male 2006-12-12 2019-10-16 01:57:00   71642    1.496   \n481        NaN  Female 2013-04-27 2019-10-16 06:40:00   93847    1.085   \n527      Helen     NaN 1993-12-02 2019-10-16 13:42:00   45724    1.022   \n570      Kelly  Female 1996-08-16 2019-10-16 03:09:00   41427    1.431   \n578     Amanda  Female 1982-03-17 2019-10-16 23:46:00  107111    1.438   \n579     Harold    Male 2010-10-18 2019-10-16 20:45:00   65673    1.187   \n617      Kathy  Female 2001-01-14 2019-10-16 05:11:00   45682    1.451   \n618      Peter    Male 1992-11-24 2019-10-16 17:43:00   69297    1.268   \n638    Frances  Female 1996-11-12 2019-10-16 18:08:00  112467    1.433   \n652     Willie    Male 2009-12-05 2019-10-16 05:39:00  141932    1.017   \n708      Steve    Male 2002-01-11 2019-10-16 21:17:00   51821    1.197   \n732      Henry    Male 1986-05-12 2019-10-16 02:04:00   59943    1.432   \n734        NaN  Female 1994-12-18 2019-10-16 20:42:00  138807    1.400   \n746     Gloria  Female 2004-08-19 2019-10-16 10:31:00   46602    1.027   \n912        Joe    Male 1998-12-08 2019-10-16 10:28:00  126120    1.020   \n929    Theresa  Female 2001-04-27 2019-10-16 21:17:00   75661    1.079   \n954        Joe    Male 1980-01-19 2019-10-16 16:06:00  119667    1.148   \n997    Russell    Male 2013-05-20 2019-10-16 12:39:00   96914    1.421   \n\n     Senior Management                  Team  \n4                 True       Client Services  \n15               False               Product  \n58                True           Engineering  \n77                True             Marketing  \n175               True           Engineering  \n189              False                 Sales  \n217               True       Client Services  \n273               True               Product  \n279              False  Business Development  \n365              False       Human Resources  \n445              False                   NaN  \n481               True  Business Development  \n527              False               Product  \n570              False               Product  \n578               True               Product  \n579               True                 Legal  \n617               True             Marketing  \n618              False               Finance  \n638              False  Business Development  \n652               True           Engineering  \n708               True                 Legal  \n732              False               Finance  \n734               True       Human Resources  \n746               True  Business Development  \n912              False                   NaN  \n929               True                 Legal  \n954               True               Finance  \n997              False               Product  ",
      "text/html": "<div>\n<style scoped>\n    .dataframe tbody tr th:only-of-type {\n        vertical-align: middle;\n    }\n\n    .dataframe tbody tr th {\n        vertical-align: top;\n    }\n\n    .dataframe thead th {\n        text-align: right;\n    }\n</style>\n<table border=\"1\" class=\"dataframe\">\n  <thead>\n    <tr style=\"text-align: right;\">\n      <th></th>\n      <th>First Name</th>\n      <th>Gender</th>\n      <th>Start Date</th>\n      <th>Last Login Time</th>\n      <th>Salary</th>\n      <th>Bonus %</th>\n      <th>Senior Management</th>\n      <th>Team</th>\n    </tr>\n  </thead>\n  <tbody>\n    <tr>\n      <td>4</td>\n      <td>Larry</td>\n      <td>Male</td>\n      <td>1998-01-24</td>\n      <td>2019-10-16 16:47:00</td>\n      <td>101004</td>\n      <td>1.389</td>\n      <td>True</td>\n      <td>Client Services</td>\n    </tr>\n    <tr>\n      <td>15</td>\n      <td>Lillian</td>\n      <td>Female</td>\n      <td>2016-06-05</td>\n      <td>2019-10-16 06:09:00</td>\n      <td>59414</td>\n      <td>1.256</td>\n      <td>False</td>\n      <td>Product</td>\n    </tr>\n    <tr>\n      <td>58</td>\n      <td>Theresa</td>\n      <td>Female</td>\n      <td>2010-04-11</td>\n      <td>2019-10-16 07:18:00</td>\n      <td>72670</td>\n      <td>1.481</td>\n      <td>True</td>\n      <td>Engineering</td>\n    </tr>\n    <tr>\n      <td>77</td>\n      <td>Charles</td>\n      <td>Male</td>\n      <td>2004-09-14</td>\n      <td>2019-10-16 20:13:00</td>\n      <td>107391</td>\n      <td>1.260</td>\n      <td>True</td>\n      <td>Marketing</td>\n    </tr>\n    <tr>\n      <td>175</td>\n      <td>Willie</td>\n      <td>Male</td>\n      <td>1998-02-17</td>\n      <td>2019-10-16 20:20:00</td>\n      <td>146651</td>\n      <td>1.451</td>\n      <td>True</td>\n      <td>Engineering</td>\n    </tr>\n    <tr>\n      <td>189</td>\n      <td>Clarence</td>\n      <td>Male</td>\n      <td>1998-05-02</td>\n      <td>2019-10-16 03:16:00</td>\n      <td>85700</td>\n      <td>1.215</td>\n      <td>False</td>\n      <td>Sales</td>\n    </tr>\n    <tr>\n      <td>217</td>\n      <td>Douglas</td>\n      <td>Male</td>\n      <td>1999-09-03</td>\n      <td>2019-10-16 16:00:00</td>\n      <td>83341</td>\n      <td>1.015</td>\n      <td>True</td>\n      <td>Client Services</td>\n    </tr>\n    <tr>\n      <td>273</td>\n      <td>Nicholas</td>\n      <td>Male</td>\n      <td>1994-04-12</td>\n      <td>2019-10-16 20:21:00</td>\n      <td>74669</td>\n      <td>1.113</td>\n      <td>True</td>\n      <td>Product</td>\n    </tr>\n    <tr>\n      <td>279</td>\n      <td>Ruby</td>\n      <td>Female</td>\n      <td>2000-11-08</td>\n      <td>2019-10-16 19:35:00</td>\n      <td>105946</td>\n      <td>1.139</td>\n      <td>False</td>\n      <td>Business Development</td>\n    </tr>\n    <tr>\n      <td>365</td>\n      <td>Gloria</td>\n      <td>NaN</td>\n      <td>1983-07-19</td>\n      <td>2019-10-16 01:57:00</td>\n      <td>140885</td>\n      <td>1.113</td>\n      <td>False</td>\n      <td>Human Resources</td>\n    </tr>\n    <tr>\n      <td>445</td>\n      <td>Chris</td>\n      <td>Male</td>\n      <td>2006-12-12</td>\n      <td>2019-10-16 01:57:00</td>\n      <td>71642</td>\n      <td>1.496</td>\n      <td>False</td>\n      <td>NaN</td>\n    </tr>\n    <tr>\n      <td>481</td>\n      <td>NaN</td>\n      <td>Female</td>\n      <td>2013-04-27</td>\n      <td>2019-10-16 06:40:00</td>\n      <td>93847</td>\n      <td>1.085</td>\n      <td>True</td>\n      <td>Business Development</td>\n    </tr>\n    <tr>\n      <td>527</td>\n      <td>Helen</td>\n      <td>NaN</td>\n      <td>1993-12-02</td>\n      <td>2019-10-16 13:42:00</td>\n      <td>45724</td>\n      <td>1.022</td>\n      <td>False</td>\n      <td>Product</td>\n    </tr>\n    <tr>\n      <td>570</td>\n      <td>Kelly</td>\n      <td>Female</td>\n      <td>1996-08-16</td>\n      <td>2019-10-16 03:09:00</td>\n      <td>41427</td>\n      <td>1.431</td>\n      <td>False</td>\n      <td>Product</td>\n    </tr>\n    <tr>\n      <td>578</td>\n      <td>Amanda</td>\n      <td>Female</td>\n      <td>1982-03-17</td>\n      <td>2019-10-16 23:46:00</td>\n      <td>107111</td>\n      <td>1.438</td>\n      <td>True</td>\n      <td>Product</td>\n    </tr>\n    <tr>\n      <td>579</td>\n      <td>Harold</td>\n      <td>Male</td>\n      <td>2010-10-18</td>\n      <td>2019-10-16 20:45:00</td>\n      <td>65673</td>\n      <td>1.187</td>\n      <td>True</td>\n      <td>Legal</td>\n    </tr>\n    <tr>\n      <td>617</td>\n      <td>Kathy</td>\n      <td>Female</td>\n      <td>2001-01-14</td>\n      <td>2019-10-16 05:11:00</td>\n      <td>45682</td>\n      <td>1.451</td>\n      <td>True</td>\n      <td>Marketing</td>\n    </tr>\n    <tr>\n      <td>618</td>\n      <td>Peter</td>\n      <td>Male</td>\n      <td>1992-11-24</td>\n      <td>2019-10-16 17:43:00</td>\n      <td>69297</td>\n      <td>1.268</td>\n      <td>False</td>\n      <td>Finance</td>\n    </tr>\n    <tr>\n      <td>638</td>\n      <td>Frances</td>\n      <td>Female</td>\n      <td>1996-11-12</td>\n      <td>2019-10-16 18:08:00</td>\n      <td>112467</td>\n      <td>1.433</td>\n      <td>False</td>\n      <td>Business Development</td>\n    </tr>\n    <tr>\n      <td>652</td>\n      <td>Willie</td>\n      <td>Male</td>\n      <td>2009-12-05</td>\n      <td>2019-10-16 05:39:00</td>\n      <td>141932</td>\n      <td>1.017</td>\n      <td>True</td>\n      <td>Engineering</td>\n    </tr>\n    <tr>\n      <td>708</td>\n      <td>Steve</td>\n      <td>Male</td>\n      <td>2002-01-11</td>\n      <td>2019-10-16 21:17:00</td>\n      <td>51821</td>\n      <td>1.197</td>\n      <td>True</td>\n      <td>Legal</td>\n    </tr>\n    <tr>\n      <td>732</td>\n      <td>Henry</td>\n      <td>Male</td>\n      <td>1986-05-12</td>\n      <td>2019-10-16 02:04:00</td>\n      <td>59943</td>\n      <td>1.432</td>\n      <td>False</td>\n      <td>Finance</td>\n    </tr>\n    <tr>\n      <td>734</td>\n      <td>NaN</td>\n      <td>Female</td>\n      <td>1994-12-18</td>\n      <td>2019-10-16 20:42:00</td>\n      <td>138807</td>\n      <td>1.400</td>\n      <td>True</td>\n      <td>Human Resources</td>\n    </tr>\n    <tr>\n      <td>746</td>\n      <td>Gloria</td>\n      <td>Female</td>\n      <td>2004-08-19</td>\n      <td>2019-10-16 10:31:00</td>\n      <td>46602</td>\n      <td>1.027</td>\n      <td>True</td>\n      <td>Business Development</td>\n    </tr>\n    <tr>\n      <td>912</td>\n      <td>Joe</td>\n      <td>Male</td>\n      <td>1998-12-08</td>\n      <td>2019-10-16 10:28:00</td>\n      <td>126120</td>\n      <td>1.020</td>\n      <td>False</td>\n      <td>NaN</td>\n    </tr>\n    <tr>\n      <td>929</td>\n      <td>Theresa</td>\n      <td>Female</td>\n      <td>2001-04-27</td>\n      <td>2019-10-16 21:17:00</td>\n      <td>75661</td>\n      <td>1.079</td>\n      <td>True</td>\n      <td>Legal</td>\n    </tr>\n    <tr>\n      <td>954</td>\n      <td>Joe</td>\n      <td>Male</td>\n      <td>1980-01-19</td>\n      <td>2019-10-16 16:06:00</td>\n      <td>119667</td>\n      <td>1.148</td>\n      <td>True</td>\n      <td>Finance</td>\n    </tr>\n    <tr>\n      <td>997</td>\n      <td>Russell</td>\n      <td>Male</td>\n      <td>2013-05-20</td>\n      <td>2019-10-16 12:39:00</td>\n      <td>96914</td>\n      <td>1.421</td>\n      <td>False</td>\n      <td>Product</td>\n    </tr>\n  </tbody>\n</table>\n</div>"
     },
     "metadata": {},
     "output_type": "execute_result",
     "execution_count": 27
    }
   ],
   "source": [
    "df[df[\"Bonus %\"] <= 1.5]\n",
    "\n"
   ],
   "metadata": {
    "collapsed": false,
    "pycharm": {
     "name": "#%%\n",
     "is_executing": false
    }
   }
  },
  {
   "cell_type": "code",
   "execution_count": 28,
   "outputs": [
    {
     "data": {
      "text/plain": "    First Name  Gender Start Date     Last Login Time  Salary  Bonus %  \\\n10      Louise  Female 1980-08-12 2019-10-16 09:01:00   63241   15.132   \n12     Brandon    Male 1980-12-01 2019-10-16 01:08:00  112807   17.492   \n18       Diana  Female 1981-10-23 2019-10-16 10:27:00  132940   19.082   \n28       Terry    Male 1981-11-27 2019-10-16 18:30:00  124008   13.464   \n37       Linda  Female 1981-10-19 2019-10-16 20:49:00   57427    9.557   \n..         ...     ...        ...                 ...     ...      ...   \n982       Rose  Female 1982-04-06 2019-10-16 10:43:00   91411    8.639   \n983       John    Male 1982-12-23 2019-10-16 22:35:00  146907   11.738   \n985    Stephen     NaN 1983-07-10 2019-10-16 20:10:00   85668    1.909   \n986      Donna  Female 1982-11-26 2019-10-16 07:04:00   82871   17.999   \n996    Phillip    Male 1984-01-31 2019-10-16 06:30:00   42392   19.675   \n\n     Senior Management             Team  \n10                True              NaN  \n12                True  Human Resources  \n18               False  Client Services  \n28                True  Client Services  \n37                True  Client Services  \n..                 ...              ...  \n982               True  Human Resources  \n983              False      Engineering  \n985              False            Legal  \n986              False        Marketing  \n996              False          Finance  \n\n[133 rows x 8 columns]",
      "text/html": "<div>\n<style scoped>\n    .dataframe tbody tr th:only-of-type {\n        vertical-align: middle;\n    }\n\n    .dataframe tbody tr th {\n        vertical-align: top;\n    }\n\n    .dataframe thead th {\n        text-align: right;\n    }\n</style>\n<table border=\"1\" class=\"dataframe\">\n  <thead>\n    <tr style=\"text-align: right;\">\n      <th></th>\n      <th>First Name</th>\n      <th>Gender</th>\n      <th>Start Date</th>\n      <th>Last Login Time</th>\n      <th>Salary</th>\n      <th>Bonus %</th>\n      <th>Senior Management</th>\n      <th>Team</th>\n    </tr>\n  </thead>\n  <tbody>\n    <tr>\n      <td>10</td>\n      <td>Louise</td>\n      <td>Female</td>\n      <td>1980-08-12</td>\n      <td>2019-10-16 09:01:00</td>\n      <td>63241</td>\n      <td>15.132</td>\n      <td>True</td>\n      <td>NaN</td>\n    </tr>\n    <tr>\n      <td>12</td>\n      <td>Brandon</td>\n      <td>Male</td>\n      <td>1980-12-01</td>\n      <td>2019-10-16 01:08:00</td>\n      <td>112807</td>\n      <td>17.492</td>\n      <td>True</td>\n      <td>Human Resources</td>\n    </tr>\n    <tr>\n      <td>18</td>\n      <td>Diana</td>\n      <td>Female</td>\n      <td>1981-10-23</td>\n      <td>2019-10-16 10:27:00</td>\n      <td>132940</td>\n      <td>19.082</td>\n      <td>False</td>\n      <td>Client Services</td>\n    </tr>\n    <tr>\n      <td>28</td>\n      <td>Terry</td>\n      <td>Male</td>\n      <td>1981-11-27</td>\n      <td>2019-10-16 18:30:00</td>\n      <td>124008</td>\n      <td>13.464</td>\n      <td>True</td>\n      <td>Client Services</td>\n    </tr>\n    <tr>\n      <td>37</td>\n      <td>Linda</td>\n      <td>Female</td>\n      <td>1981-10-19</td>\n      <td>2019-10-16 20:49:00</td>\n      <td>57427</td>\n      <td>9.557</td>\n      <td>True</td>\n      <td>Client Services</td>\n    </tr>\n    <tr>\n      <td>...</td>\n      <td>...</td>\n      <td>...</td>\n      <td>...</td>\n      <td>...</td>\n      <td>...</td>\n      <td>...</td>\n      <td>...</td>\n      <td>...</td>\n    </tr>\n    <tr>\n      <td>982</td>\n      <td>Rose</td>\n      <td>Female</td>\n      <td>1982-04-06</td>\n      <td>2019-10-16 10:43:00</td>\n      <td>91411</td>\n      <td>8.639</td>\n      <td>True</td>\n      <td>Human Resources</td>\n    </tr>\n    <tr>\n      <td>983</td>\n      <td>John</td>\n      <td>Male</td>\n      <td>1982-12-23</td>\n      <td>2019-10-16 22:35:00</td>\n      <td>146907</td>\n      <td>11.738</td>\n      <td>False</td>\n      <td>Engineering</td>\n    </tr>\n    <tr>\n      <td>985</td>\n      <td>Stephen</td>\n      <td>NaN</td>\n      <td>1983-07-10</td>\n      <td>2019-10-16 20:10:00</td>\n      <td>85668</td>\n      <td>1.909</td>\n      <td>False</td>\n      <td>Legal</td>\n    </tr>\n    <tr>\n      <td>986</td>\n      <td>Donna</td>\n      <td>Female</td>\n      <td>1982-11-26</td>\n      <td>2019-10-16 07:04:00</td>\n      <td>82871</td>\n      <td>17.999</td>\n      <td>False</td>\n      <td>Marketing</td>\n    </tr>\n    <tr>\n      <td>996</td>\n      <td>Phillip</td>\n      <td>Male</td>\n      <td>1984-01-31</td>\n      <td>2019-10-16 06:30:00</td>\n      <td>42392</td>\n      <td>19.675</td>\n      <td>False</td>\n      <td>Finance</td>\n    </tr>\n  </tbody>\n</table>\n<p>133 rows × 8 columns</p>\n</div>"
     },
     "metadata": {},
     "output_type": "execute_result",
     "execution_count": 28
    }
   ],
   "source": [
    "df[df['Start Date'] <= \"1985-01-01\"]"
   ],
   "metadata": {
    "collapsed": false,
    "pycharm": {
     "name": "#%%\n",
     "is_executing": false
    }
   }
  },
  {
   "cell_type": "code",
   "execution_count": 33,
   "outputs": [
    {
     "data": {
      "text/plain": "    First Name Gender Start Date     Last Login Time  Salary  Bonus %  \\\n0      Douglas   Male 1993-08-06 2019-10-16 12:42:00   97308    6.945   \n21     Matthew   Male 1995-09-05 2019-10-16 02:12:00  100612   13.645   \n26       Craig   Male 2000-02-27 2019-10-16 07:45:00   37598    7.757   \n74      Thomas   Male 1995-06-04 2019-10-16 14:24:00   62096   17.029   \n77     Charles   Male 2004-09-14 2019-10-16 20:13:00  107391    1.260   \n101      Aaron   Male 2012-02-17 2019-10-16 10:20:00   61602   11.849   \n104       John   Male 1989-12-23 2019-10-16 07:01:00   80740   19.305   \n112     Willie   Male 2003-11-27 2019-10-16 06:21:00   64363    4.023   \n119       Paul   Male 2008-06-03 2019-10-16 15:05:00   41054   12.299   \n150       Sean   Male 1996-05-04 2019-10-16 20:59:00  135490   19.934   \n187      Roger   Male 2004-11-19 2019-10-16 15:55:00   51430    6.460   \n204     Willie   Male 2006-06-06 2019-10-16 09:45:00   55281    4.935   \n216    Matthew   Male 2013-07-31 2019-10-16 08:04:00  142373    2.462   \n252      Ralph   Male 2004-11-11 2019-10-16 01:35:00   71896    4.232   \n274     Howard   Male 1982-10-05 2019-10-16 07:22:00   97490    5.460   \n293      Jesse   Male 1999-10-25 2019-10-16 15:35:00  118733    9.653   \n309   Benjamin   Male 1984-09-11 2019-10-16 06:37:00   84810   15.794   \n327      Aaron   Male 1994-01-29 2019-10-16 18:48:00   58755    5.097   \n353        NaN   Male 1997-04-22 2019-10-16 21:36:00   65078    3.095   \n403      Craig   Male 1984-02-08 2019-10-16 04:45:00  113506   19.642   \n413     Johnny   Male 1992-09-14 2019-10-16 08:21:00  115194    5.861   \n452      Scott   Male 2012-11-17 2019-10-16 14:47:00  146812    1.965   \n454        NaN   Male 1995-02-21 2019-10-16 00:26:00  136602   10.429   \n461     Jeremy   Male 2001-08-09 2019-10-16 03:56:00   43354   13.946   \n464   Lawrence   Male 2005-05-13 2019-10-16 01:25:00   74640   18.641   \n484        Joe   Male 2000-04-14 2019-10-16 15:14:00   50645   11.119   \n496     Johnny   Male 2016-02-26 2019-10-16 19:39:00   76394    5.437   \n503      Roger   Male 2015-08-03 2019-10-16 16:56:00  125033    4.887   \n544      Roger   Male 2010-07-03 2019-10-16 17:11:00  105689   13.320   \n550    Gregory   Male 1984-06-18 2019-10-16 03:46:00   82726   16.304   \n556     Arthur   Male 2014-12-16 2019-10-16 16:56:00   66819    6.639   \n571   Jonathan   Male 1995-04-06 2019-10-16 22:38:00   56993   18.623   \n581     Ernest   Male 1990-01-28 2019-10-16 00:08:00   81919   15.118   \n696     Samuel   Male 2012-05-25 2019-10-16 16:40:00   85550   11.593   \n722     Joshua   Male 1997-06-27 2019-10-16 15:23:00   95003    5.197   \n798   Lawrence   Male 1984-10-01 2019-10-16 14:06:00  102589   17.952   \n860    Phillip   Male 1984-10-07 2019-10-16 11:05:00   36837   14.660   \n867       Earl   Male 2013-06-15 2019-10-16 03:00:00   48046    7.737   \n899     Walter   Male 1992-05-21 2019-10-16 00:39:00  144701   16.323   \n947        NaN   Male 2012-07-30 2019-10-16 15:07:00  107351    5.329   \n994     George   Male 2013-06-21 2019-10-16 17:47:00   98874    4.479   \n\n     Senior Management       Team  \n0                 True  Marketing  \n21               False  Marketing  \n26                True  Marketing  \n74               False  Marketing  \n77                True  Marketing  \n101               True  Marketing  \n104              False  Marketing  \n112              False  Marketing  \n119              False  Marketing  \n150              False  Marketing  \n187              False  Marketing  \n204               True  Marketing  \n216              False  Marketing  \n252               True  Marketing  \n274               True  Marketing  \n293              False  Marketing  \n309              False  Marketing  \n327               True  Marketing  \n353               True  Marketing  \n403              False  Marketing  \n413               True  Marketing  \n452               True  Marketing  \n454               True  Marketing  \n461              False  Marketing  \n464              False  Marketing  \n484              False  Marketing  \n496               True  Marketing  \n503               True  Marketing  \n544               True  Marketing  \n550               True  Marketing  \n556               True  Marketing  \n571              False  Marketing  \n581              False  Marketing  \n696               True  Marketing  \n722               True  Marketing  \n798               True  Marketing  \n860              False  Marketing  \n867              False  Marketing  \n899               True  Marketing  \n947               True  Marketing  \n994               True  Marketing  ",
      "text/html": "<div>\n<style scoped>\n    .dataframe tbody tr th:only-of-type {\n        vertical-align: middle;\n    }\n\n    .dataframe tbody tr th {\n        vertical-align: top;\n    }\n\n    .dataframe thead th {\n        text-align: right;\n    }\n</style>\n<table border=\"1\" class=\"dataframe\">\n  <thead>\n    <tr style=\"text-align: right;\">\n      <th></th>\n      <th>First Name</th>\n      <th>Gender</th>\n      <th>Start Date</th>\n      <th>Last Login Time</th>\n      <th>Salary</th>\n      <th>Bonus %</th>\n      <th>Senior Management</th>\n      <th>Team</th>\n    </tr>\n  </thead>\n  <tbody>\n    <tr>\n      <td>0</td>\n      <td>Douglas</td>\n      <td>Male</td>\n      <td>1993-08-06</td>\n      <td>2019-10-16 12:42:00</td>\n      <td>97308</td>\n      <td>6.945</td>\n      <td>True</td>\n      <td>Marketing</td>\n    </tr>\n    <tr>\n      <td>21</td>\n      <td>Matthew</td>\n      <td>Male</td>\n      <td>1995-09-05</td>\n      <td>2019-10-16 02:12:00</td>\n      <td>100612</td>\n      <td>13.645</td>\n      <td>False</td>\n      <td>Marketing</td>\n    </tr>\n    <tr>\n      <td>26</td>\n      <td>Craig</td>\n      <td>Male</td>\n      <td>2000-02-27</td>\n      <td>2019-10-16 07:45:00</td>\n      <td>37598</td>\n      <td>7.757</td>\n      <td>True</td>\n      <td>Marketing</td>\n    </tr>\n    <tr>\n      <td>74</td>\n      <td>Thomas</td>\n      <td>Male</td>\n      <td>1995-06-04</td>\n      <td>2019-10-16 14:24:00</td>\n      <td>62096</td>\n      <td>17.029</td>\n      <td>False</td>\n      <td>Marketing</td>\n    </tr>\n    <tr>\n      <td>77</td>\n      <td>Charles</td>\n      <td>Male</td>\n      <td>2004-09-14</td>\n      <td>2019-10-16 20:13:00</td>\n      <td>107391</td>\n      <td>1.260</td>\n      <td>True</td>\n      <td>Marketing</td>\n    </tr>\n    <tr>\n      <td>101</td>\n      <td>Aaron</td>\n      <td>Male</td>\n      <td>2012-02-17</td>\n      <td>2019-10-16 10:20:00</td>\n      <td>61602</td>\n      <td>11.849</td>\n      <td>True</td>\n      <td>Marketing</td>\n    </tr>\n    <tr>\n      <td>104</td>\n      <td>John</td>\n      <td>Male</td>\n      <td>1989-12-23</td>\n      <td>2019-10-16 07:01:00</td>\n      <td>80740</td>\n      <td>19.305</td>\n      <td>False</td>\n      <td>Marketing</td>\n    </tr>\n    <tr>\n      <td>112</td>\n      <td>Willie</td>\n      <td>Male</td>\n      <td>2003-11-27</td>\n      <td>2019-10-16 06:21:00</td>\n      <td>64363</td>\n      <td>4.023</td>\n      <td>False</td>\n      <td>Marketing</td>\n    </tr>\n    <tr>\n      <td>119</td>\n      <td>Paul</td>\n      <td>Male</td>\n      <td>2008-06-03</td>\n      <td>2019-10-16 15:05:00</td>\n      <td>41054</td>\n      <td>12.299</td>\n      <td>False</td>\n      <td>Marketing</td>\n    </tr>\n    <tr>\n      <td>150</td>\n      <td>Sean</td>\n      <td>Male</td>\n      <td>1996-05-04</td>\n      <td>2019-10-16 20:59:00</td>\n      <td>135490</td>\n      <td>19.934</td>\n      <td>False</td>\n      <td>Marketing</td>\n    </tr>\n    <tr>\n      <td>187</td>\n      <td>Roger</td>\n      <td>Male</td>\n      <td>2004-11-19</td>\n      <td>2019-10-16 15:55:00</td>\n      <td>51430</td>\n      <td>6.460</td>\n      <td>False</td>\n      <td>Marketing</td>\n    </tr>\n    <tr>\n      <td>204</td>\n      <td>Willie</td>\n      <td>Male</td>\n      <td>2006-06-06</td>\n      <td>2019-10-16 09:45:00</td>\n      <td>55281</td>\n      <td>4.935</td>\n      <td>True</td>\n      <td>Marketing</td>\n    </tr>\n    <tr>\n      <td>216</td>\n      <td>Matthew</td>\n      <td>Male</td>\n      <td>2013-07-31</td>\n      <td>2019-10-16 08:04:00</td>\n      <td>142373</td>\n      <td>2.462</td>\n      <td>False</td>\n      <td>Marketing</td>\n    </tr>\n    <tr>\n      <td>252</td>\n      <td>Ralph</td>\n      <td>Male</td>\n      <td>2004-11-11</td>\n      <td>2019-10-16 01:35:00</td>\n      <td>71896</td>\n      <td>4.232</td>\n      <td>True</td>\n      <td>Marketing</td>\n    </tr>\n    <tr>\n      <td>274</td>\n      <td>Howard</td>\n      <td>Male</td>\n      <td>1982-10-05</td>\n      <td>2019-10-16 07:22:00</td>\n      <td>97490</td>\n      <td>5.460</td>\n      <td>True</td>\n      <td>Marketing</td>\n    </tr>\n    <tr>\n      <td>293</td>\n      <td>Jesse</td>\n      <td>Male</td>\n      <td>1999-10-25</td>\n      <td>2019-10-16 15:35:00</td>\n      <td>118733</td>\n      <td>9.653</td>\n      <td>False</td>\n      <td>Marketing</td>\n    </tr>\n    <tr>\n      <td>309</td>\n      <td>Benjamin</td>\n      <td>Male</td>\n      <td>1984-09-11</td>\n      <td>2019-10-16 06:37:00</td>\n      <td>84810</td>\n      <td>15.794</td>\n      <td>False</td>\n      <td>Marketing</td>\n    </tr>\n    <tr>\n      <td>327</td>\n      <td>Aaron</td>\n      <td>Male</td>\n      <td>1994-01-29</td>\n      <td>2019-10-16 18:48:00</td>\n      <td>58755</td>\n      <td>5.097</td>\n      <td>True</td>\n      <td>Marketing</td>\n    </tr>\n    <tr>\n      <td>353</td>\n      <td>NaN</td>\n      <td>Male</td>\n      <td>1997-04-22</td>\n      <td>2019-10-16 21:36:00</td>\n      <td>65078</td>\n      <td>3.095</td>\n      <td>True</td>\n      <td>Marketing</td>\n    </tr>\n    <tr>\n      <td>403</td>\n      <td>Craig</td>\n      <td>Male</td>\n      <td>1984-02-08</td>\n      <td>2019-10-16 04:45:00</td>\n      <td>113506</td>\n      <td>19.642</td>\n      <td>False</td>\n      <td>Marketing</td>\n    </tr>\n    <tr>\n      <td>413</td>\n      <td>Johnny</td>\n      <td>Male</td>\n      <td>1992-09-14</td>\n      <td>2019-10-16 08:21:00</td>\n      <td>115194</td>\n      <td>5.861</td>\n      <td>True</td>\n      <td>Marketing</td>\n    </tr>\n    <tr>\n      <td>452</td>\n      <td>Scott</td>\n      <td>Male</td>\n      <td>2012-11-17</td>\n      <td>2019-10-16 14:47:00</td>\n      <td>146812</td>\n      <td>1.965</td>\n      <td>True</td>\n      <td>Marketing</td>\n    </tr>\n    <tr>\n      <td>454</td>\n      <td>NaN</td>\n      <td>Male</td>\n      <td>1995-02-21</td>\n      <td>2019-10-16 00:26:00</td>\n      <td>136602</td>\n      <td>10.429</td>\n      <td>True</td>\n      <td>Marketing</td>\n    </tr>\n    <tr>\n      <td>461</td>\n      <td>Jeremy</td>\n      <td>Male</td>\n      <td>2001-08-09</td>\n      <td>2019-10-16 03:56:00</td>\n      <td>43354</td>\n      <td>13.946</td>\n      <td>False</td>\n      <td>Marketing</td>\n    </tr>\n    <tr>\n      <td>464</td>\n      <td>Lawrence</td>\n      <td>Male</td>\n      <td>2005-05-13</td>\n      <td>2019-10-16 01:25:00</td>\n      <td>74640</td>\n      <td>18.641</td>\n      <td>False</td>\n      <td>Marketing</td>\n    </tr>\n    <tr>\n      <td>484</td>\n      <td>Joe</td>\n      <td>Male</td>\n      <td>2000-04-14</td>\n      <td>2019-10-16 15:14:00</td>\n      <td>50645</td>\n      <td>11.119</td>\n      <td>False</td>\n      <td>Marketing</td>\n    </tr>\n    <tr>\n      <td>496</td>\n      <td>Johnny</td>\n      <td>Male</td>\n      <td>2016-02-26</td>\n      <td>2019-10-16 19:39:00</td>\n      <td>76394</td>\n      <td>5.437</td>\n      <td>True</td>\n      <td>Marketing</td>\n    </tr>\n    <tr>\n      <td>503</td>\n      <td>Roger</td>\n      <td>Male</td>\n      <td>2015-08-03</td>\n      <td>2019-10-16 16:56:00</td>\n      <td>125033</td>\n      <td>4.887</td>\n      <td>True</td>\n      <td>Marketing</td>\n    </tr>\n    <tr>\n      <td>544</td>\n      <td>Roger</td>\n      <td>Male</td>\n      <td>2010-07-03</td>\n      <td>2019-10-16 17:11:00</td>\n      <td>105689</td>\n      <td>13.320</td>\n      <td>True</td>\n      <td>Marketing</td>\n    </tr>\n    <tr>\n      <td>550</td>\n      <td>Gregory</td>\n      <td>Male</td>\n      <td>1984-06-18</td>\n      <td>2019-10-16 03:46:00</td>\n      <td>82726</td>\n      <td>16.304</td>\n      <td>True</td>\n      <td>Marketing</td>\n    </tr>\n    <tr>\n      <td>556</td>\n      <td>Arthur</td>\n      <td>Male</td>\n      <td>2014-12-16</td>\n      <td>2019-10-16 16:56:00</td>\n      <td>66819</td>\n      <td>6.639</td>\n      <td>True</td>\n      <td>Marketing</td>\n    </tr>\n    <tr>\n      <td>571</td>\n      <td>Jonathan</td>\n      <td>Male</td>\n      <td>1995-04-06</td>\n      <td>2019-10-16 22:38:00</td>\n      <td>56993</td>\n      <td>18.623</td>\n      <td>False</td>\n      <td>Marketing</td>\n    </tr>\n    <tr>\n      <td>581</td>\n      <td>Ernest</td>\n      <td>Male</td>\n      <td>1990-01-28</td>\n      <td>2019-10-16 00:08:00</td>\n      <td>81919</td>\n      <td>15.118</td>\n      <td>False</td>\n      <td>Marketing</td>\n    </tr>\n    <tr>\n      <td>696</td>\n      <td>Samuel</td>\n      <td>Male</td>\n      <td>2012-05-25</td>\n      <td>2019-10-16 16:40:00</td>\n      <td>85550</td>\n      <td>11.593</td>\n      <td>True</td>\n      <td>Marketing</td>\n    </tr>\n    <tr>\n      <td>722</td>\n      <td>Joshua</td>\n      <td>Male</td>\n      <td>1997-06-27</td>\n      <td>2019-10-16 15:23:00</td>\n      <td>95003</td>\n      <td>5.197</td>\n      <td>True</td>\n      <td>Marketing</td>\n    </tr>\n    <tr>\n      <td>798</td>\n      <td>Lawrence</td>\n      <td>Male</td>\n      <td>1984-10-01</td>\n      <td>2019-10-16 14:06:00</td>\n      <td>102589</td>\n      <td>17.952</td>\n      <td>True</td>\n      <td>Marketing</td>\n    </tr>\n    <tr>\n      <td>860</td>\n      <td>Phillip</td>\n      <td>Male</td>\n      <td>1984-10-07</td>\n      <td>2019-10-16 11:05:00</td>\n      <td>36837</td>\n      <td>14.660</td>\n      <td>False</td>\n      <td>Marketing</td>\n    </tr>\n    <tr>\n      <td>867</td>\n      <td>Earl</td>\n      <td>Male</td>\n      <td>2013-06-15</td>\n      <td>2019-10-16 03:00:00</td>\n      <td>48046</td>\n      <td>7.737</td>\n      <td>False</td>\n      <td>Marketing</td>\n    </tr>\n    <tr>\n      <td>899</td>\n      <td>Walter</td>\n      <td>Male</td>\n      <td>1992-05-21</td>\n      <td>2019-10-16 00:39:00</td>\n      <td>144701</td>\n      <td>16.323</td>\n      <td>True</td>\n      <td>Marketing</td>\n    </tr>\n    <tr>\n      <td>947</td>\n      <td>NaN</td>\n      <td>Male</td>\n      <td>2012-07-30</td>\n      <td>2019-10-16 15:07:00</td>\n      <td>107351</td>\n      <td>5.329</td>\n      <td>True</td>\n      <td>Marketing</td>\n    </tr>\n    <tr>\n      <td>994</td>\n      <td>George</td>\n      <td>Male</td>\n      <td>2013-06-21</td>\n      <td>2019-10-16 17:47:00</td>\n      <td>98874</td>\n      <td>4.479</td>\n      <td>True</td>\n      <td>Marketing</td>\n    </tr>\n  </tbody>\n</table>\n</div>"
     },
     "metadata": {},
     "output_type": "execute_result",
     "execution_count": 33
    }
   ],
   "source": [
    "#& or |\n",
    "import pandas as pd\n",
    "df = pd.read_csv('../../DataSets/employees.csv',parse_dates=[\"Start Date\",\"Last Login Time\"])\n",
    "df[\"Gender\"] = df['Gender'].astype(\"category\")\n",
    "df[\"Senior Management\"] = df['Senior Management'].astype(\"bool\")\n",
    "mask1 =  df['Gender'] == 'Male'\n",
    "team =  df['Team'] == 'Marketing'\n",
    "df[mask1 & team] #bitwise operator\n"
   ],
   "metadata": {
    "collapsed": false,
    "pycharm": {
     "name": "#%%\n",
     "is_executing": false
    }
   }
  },
  {
   "cell_type": "code",
   "execution_count": 37,
   "outputs": [
    {
     "data": {
      "text/plain": "    First Name  Gender Start Date     Last Login Time  Salary  Bonus %  \\\n0      Douglas    Male 1993-08-06 2019-10-16 12:42:00   97308    6.945   \n1       Thomas    Male 1996-03-31 2019-10-16 06:53:00   61933    4.170   \n3        Jerry    Male 2005-03-04 2019-10-16 13:00:00  138705    9.340   \n4        Larry    Male 1998-01-24 2019-10-16 16:47:00  101004    1.389   \n5       Dennis    Male 1987-04-18 2019-10-16 01:35:00  115163   10.125   \n..         ...     ...        ...                 ...     ...      ...   \n992    Anthony    Male 2011-10-16 2019-10-16 08:35:00  112769   11.625   \n993       Tina  Female 1997-05-15 2019-10-16 15:53:00   56450   19.040   \n994     George    Male 2013-06-21 2019-10-16 17:47:00   98874    4.479   \n996    Phillip    Male 1984-01-31 2019-10-16 06:30:00   42392   19.675   \n999     Albert    Male 2012-05-15 2019-10-16 18:24:00  129949   10.169   \n\n     Senior Management             Team  \n0                 True        Marketing  \n1                 True              NaN  \n3                 True          Finance  \n4                 True  Client Services  \n5                False            Legal  \n..                 ...              ...  \n992               True          Finance  \n993               True      Engineering  \n994               True        Marketing  \n996              False          Finance  \n999               True            Sales  \n\n[653 rows x 8 columns]",
      "text/html": "<div>\n<style scoped>\n    .dataframe tbody tr th:only-of-type {\n        vertical-align: middle;\n    }\n\n    .dataframe tbody tr th {\n        vertical-align: top;\n    }\n\n    .dataframe thead th {\n        text-align: right;\n    }\n</style>\n<table border=\"1\" class=\"dataframe\">\n  <thead>\n    <tr style=\"text-align: right;\">\n      <th></th>\n      <th>First Name</th>\n      <th>Gender</th>\n      <th>Start Date</th>\n      <th>Last Login Time</th>\n      <th>Salary</th>\n      <th>Bonus %</th>\n      <th>Senior Management</th>\n      <th>Team</th>\n    </tr>\n  </thead>\n  <tbody>\n    <tr>\n      <td>0</td>\n      <td>Douglas</td>\n      <td>Male</td>\n      <td>1993-08-06</td>\n      <td>2019-10-16 12:42:00</td>\n      <td>97308</td>\n      <td>6.945</td>\n      <td>True</td>\n      <td>Marketing</td>\n    </tr>\n    <tr>\n      <td>1</td>\n      <td>Thomas</td>\n      <td>Male</td>\n      <td>1996-03-31</td>\n      <td>2019-10-16 06:53:00</td>\n      <td>61933</td>\n      <td>4.170</td>\n      <td>True</td>\n      <td>NaN</td>\n    </tr>\n    <tr>\n      <td>3</td>\n      <td>Jerry</td>\n      <td>Male</td>\n      <td>2005-03-04</td>\n      <td>2019-10-16 13:00:00</td>\n      <td>138705</td>\n      <td>9.340</td>\n      <td>True</td>\n      <td>Finance</td>\n    </tr>\n    <tr>\n      <td>4</td>\n      <td>Larry</td>\n      <td>Male</td>\n      <td>1998-01-24</td>\n      <td>2019-10-16 16:47:00</td>\n      <td>101004</td>\n      <td>1.389</td>\n      <td>True</td>\n      <td>Client Services</td>\n    </tr>\n    <tr>\n      <td>5</td>\n      <td>Dennis</td>\n      <td>Male</td>\n      <td>1987-04-18</td>\n      <td>2019-10-16 01:35:00</td>\n      <td>115163</td>\n      <td>10.125</td>\n      <td>False</td>\n      <td>Legal</td>\n    </tr>\n    <tr>\n      <td>...</td>\n      <td>...</td>\n      <td>...</td>\n      <td>...</td>\n      <td>...</td>\n      <td>...</td>\n      <td>...</td>\n      <td>...</td>\n      <td>...</td>\n    </tr>\n    <tr>\n      <td>992</td>\n      <td>Anthony</td>\n      <td>Male</td>\n      <td>2011-10-16</td>\n      <td>2019-10-16 08:35:00</td>\n      <td>112769</td>\n      <td>11.625</td>\n      <td>True</td>\n      <td>Finance</td>\n    </tr>\n    <tr>\n      <td>993</td>\n      <td>Tina</td>\n      <td>Female</td>\n      <td>1997-05-15</td>\n      <td>2019-10-16 15:53:00</td>\n      <td>56450</td>\n      <td>19.040</td>\n      <td>True</td>\n      <td>Engineering</td>\n    </tr>\n    <tr>\n      <td>994</td>\n      <td>George</td>\n      <td>Male</td>\n      <td>2013-06-21</td>\n      <td>2019-10-16 17:47:00</td>\n      <td>98874</td>\n      <td>4.479</td>\n      <td>True</td>\n      <td>Marketing</td>\n    </tr>\n    <tr>\n      <td>996</td>\n      <td>Phillip</td>\n      <td>Male</td>\n      <td>1984-01-31</td>\n      <td>2019-10-16 06:30:00</td>\n      <td>42392</td>\n      <td>19.675</td>\n      <td>False</td>\n      <td>Finance</td>\n    </tr>\n    <tr>\n      <td>999</td>\n      <td>Albert</td>\n      <td>Male</td>\n      <td>2012-05-15</td>\n      <td>2019-10-16 18:24:00</td>\n      <td>129949</td>\n      <td>10.169</td>\n      <td>True</td>\n      <td>Sales</td>\n    </tr>\n  </tbody>\n</table>\n<p>653 rows × 8 columns</p>\n</div>"
     },
     "metadata": {},
     "output_type": "execute_result",
     "execution_count": 37
    }
   ],
   "source": [
    "mask3 =  df['Senior Management']#already bool so no need to use == operator\n",
    "mask4 = df['Start Date'] < \"1990-01-01\"\n",
    "df[mask3 | mask4] #bitwise operator"
   ],
   "metadata": {
    "collapsed": false,
    "pycharm": {
     "name": "#%%\n",
     "is_executing": false
    }
   }
  },
  {
   "cell_type": "code",
   "execution_count": 38,
   "outputs": [
    {
     "data": {
      "text/plain": "    First Name  Gender Start Date     Last Login Time  Salary  Bonus %  \\\n4        Larry    Male 1998-01-24 2019-10-16 16:47:00  101004    1.389   \n18       Diana  Female 1981-10-23 2019-10-16 10:27:00  132940   19.082   \n22      Joshua     NaN 2012-03-08 2019-10-16 01:58:00   90816   18.816   \n24        John    Male 1992-07-01 2019-10-16 22:08:00   97950   13.873   \n25         NaN    Male 2012-10-08 2019-10-16 01:12:00   37076   18.576   \n..         ...     ...        ...                 ...     ...      ...   \n938       Mark     NaN 2006-09-09 2019-10-16 12:27:00   44836    2.657   \n939      Ralph     NaN 1995-07-28 2019-10-16 18:53:00   70635    2.147   \n965  Catherine  Female 1989-09-25 2019-10-16 01:31:00   68164   18.393   \n974      Harry    Male 2011-08-30 2019-10-16 18:31:00   67656   16.455   \n990      Robin  Female 1987-07-24 2019-10-16 13:35:00  100765   10.982   \n\n     Senior Management             Team  \n4                 True  Client Services  \n18               False  Client Services  \n22                True  Client Services  \n24               False  Client Services  \n25                True  Client Services  \n..                 ...              ...  \n938              False  Client Services  \n939              False  Client Services  \n965              False  Client Services  \n974               True  Client Services  \n990               True  Client Services  \n\n[106 rows x 8 columns]",
      "text/html": "<div>\n<style scoped>\n    .dataframe tbody tr th:only-of-type {\n        vertical-align: middle;\n    }\n\n    .dataframe tbody tr th {\n        vertical-align: top;\n    }\n\n    .dataframe thead th {\n        text-align: right;\n    }\n</style>\n<table border=\"1\" class=\"dataframe\">\n  <thead>\n    <tr style=\"text-align: right;\">\n      <th></th>\n      <th>First Name</th>\n      <th>Gender</th>\n      <th>Start Date</th>\n      <th>Last Login Time</th>\n      <th>Salary</th>\n      <th>Bonus %</th>\n      <th>Senior Management</th>\n      <th>Team</th>\n    </tr>\n  </thead>\n  <tbody>\n    <tr>\n      <td>4</td>\n      <td>Larry</td>\n      <td>Male</td>\n      <td>1998-01-24</td>\n      <td>2019-10-16 16:47:00</td>\n      <td>101004</td>\n      <td>1.389</td>\n      <td>True</td>\n      <td>Client Services</td>\n    </tr>\n    <tr>\n      <td>18</td>\n      <td>Diana</td>\n      <td>Female</td>\n      <td>1981-10-23</td>\n      <td>2019-10-16 10:27:00</td>\n      <td>132940</td>\n      <td>19.082</td>\n      <td>False</td>\n      <td>Client Services</td>\n    </tr>\n    <tr>\n      <td>22</td>\n      <td>Joshua</td>\n      <td>NaN</td>\n      <td>2012-03-08</td>\n      <td>2019-10-16 01:58:00</td>\n      <td>90816</td>\n      <td>18.816</td>\n      <td>True</td>\n      <td>Client Services</td>\n    </tr>\n    <tr>\n      <td>24</td>\n      <td>John</td>\n      <td>Male</td>\n      <td>1992-07-01</td>\n      <td>2019-10-16 22:08:00</td>\n      <td>97950</td>\n      <td>13.873</td>\n      <td>False</td>\n      <td>Client Services</td>\n    </tr>\n    <tr>\n      <td>25</td>\n      <td>NaN</td>\n      <td>Male</td>\n      <td>2012-10-08</td>\n      <td>2019-10-16 01:12:00</td>\n      <td>37076</td>\n      <td>18.576</td>\n      <td>True</td>\n      <td>Client Services</td>\n    </tr>\n    <tr>\n      <td>...</td>\n      <td>...</td>\n      <td>...</td>\n      <td>...</td>\n      <td>...</td>\n      <td>...</td>\n      <td>...</td>\n      <td>...</td>\n      <td>...</td>\n    </tr>\n    <tr>\n      <td>938</td>\n      <td>Mark</td>\n      <td>NaN</td>\n      <td>2006-09-09</td>\n      <td>2019-10-16 12:27:00</td>\n      <td>44836</td>\n      <td>2.657</td>\n      <td>False</td>\n      <td>Client Services</td>\n    </tr>\n    <tr>\n      <td>939</td>\n      <td>Ralph</td>\n      <td>NaN</td>\n      <td>1995-07-28</td>\n      <td>2019-10-16 18:53:00</td>\n      <td>70635</td>\n      <td>2.147</td>\n      <td>False</td>\n      <td>Client Services</td>\n    </tr>\n    <tr>\n      <td>965</td>\n      <td>Catherine</td>\n      <td>Female</td>\n      <td>1989-09-25</td>\n      <td>2019-10-16 01:31:00</td>\n      <td>68164</td>\n      <td>18.393</td>\n      <td>False</td>\n      <td>Client Services</td>\n    </tr>\n    <tr>\n      <td>974</td>\n      <td>Harry</td>\n      <td>Male</td>\n      <td>2011-08-30</td>\n      <td>2019-10-16 18:31:00</td>\n      <td>67656</td>\n      <td>16.455</td>\n      <td>True</td>\n      <td>Client Services</td>\n    </tr>\n    <tr>\n      <td>990</td>\n      <td>Robin</td>\n      <td>Female</td>\n      <td>1987-07-24</td>\n      <td>2019-10-16 13:35:00</td>\n      <td>100765</td>\n      <td>10.982</td>\n      <td>True</td>\n      <td>Client Services</td>\n    </tr>\n  </tbody>\n</table>\n<p>106 rows × 8 columns</p>\n</div>"
     },
     "metadata": {},
     "output_type": "execute_result",
     "execution_count": 38
    }
   ],
   "source": [
    "mask5 = df[\"First Name\"] == 'Robert'\n",
    "mask6 = df['Team'] == \"Client Services\"\n",
    "mask7 = df['Start Date'] < \"1990-01-01\"\n",
    "df[(mask5 & mask6) | mask6]\n"
   ],
   "metadata": {
    "collapsed": false,
    "pycharm": {
     "name": "#%%\n",
     "is_executing": false
    }
   }
  }
 ],
 "metadata": {
  "kernelspec": {
   "display_name": "Python 3",
   "language": "python",
   "name": "python3"
  },
  "language_info": {
   "codemirror_mode": {
    "name": "ipython",
    "version": 2
   },
   "file_extension": ".py",
   "mimetype": "text/x-python",
   "name": "python",
   "nbconvert_exporter": "python",
   "pygments_lexer": "ipython2",
   "version": "2.7.6"
  },
  "pycharm": {
   "stem_cell": {
    "cell_type": "raw",
    "source": [],
    "metadata": {
     "collapsed": false
    }
   }
  }
 },
 "nbformat": 4,
 "nbformat_minor": 0
}