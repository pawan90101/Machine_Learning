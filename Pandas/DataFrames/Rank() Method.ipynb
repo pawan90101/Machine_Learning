{
 "cells": [
  {
   "cell_type": "code",
   "execution_count": 12,
   "metadata": {
    "collapsed": true,
    "pycharm": {
     "is_executing": false
    }
   },
   "outputs": [
    {
     "data": {
      "text/plain": "                Name                    Team  Number Position   Age Height  \\\n109      Kobe Bryant      Los Angeles Lakers    24.0       SF  37.0    6-6   \n169     LeBron James     Cleveland Cavaliers    23.0       SF  31.0    6-8   \n33   Carmelo Anthony         New York Knicks     7.0       SF  32.0    6-8   \n251    Dwight Howard         Houston Rockets    12.0        C  30.0   6-11   \n339       Chris Bosh              Miami Heat     1.0       PF  32.0   6-11   \n..               ...                     ...     ...      ...   ...    ...   \n409       Greg Smith  Minnesota Timberwolves     4.0       PF  25.0   6-10   \n353    Dorell Wright              Miami Heat    11.0       SF  30.0    6-9   \n46       Elton Brand      Philadelphia 76ers    42.0       PF  37.0    6-9   \n270   Xavier Munford       Memphis Grizzlies    14.0       PG  24.0    6-3   \n397     Axel Toupane          Denver Nuggets     6.0       SG  23.0    6-7   \n\n     Weight       College      Salary  RankSalary  \n109   212.0           NaN  25000000.0           1  \n169   250.0           NaN  22970500.0           2  \n33    240.0      Syracuse  22875000.0           3  \n251   265.0           NaN  22359364.0           4  \n339   235.0  Georgia Tech  22192730.0           5  \n..      ...           ...         ...         ...  \n409   250.0  Fresno State         0.0         452  \n353   205.0           NaN         0.0         452  \n46    254.0          Duke         0.0         452  \n270   180.0  Rhode Island         0.0         452  \n397   210.0           NaN         0.0         452  \n\n[457 rows x 10 columns]",
      "text/html": "<div>\n<style scoped>\n    .dataframe tbody tr th:only-of-type {\n        vertical-align: middle;\n    }\n\n    .dataframe tbody tr th {\n        vertical-align: top;\n    }\n\n    .dataframe thead th {\n        text-align: right;\n    }\n</style>\n<table border=\"1\" class=\"dataframe\">\n  <thead>\n    <tr style=\"text-align: right;\">\n      <th></th>\n      <th>Name</th>\n      <th>Team</th>\n      <th>Number</th>\n      <th>Position</th>\n      <th>Age</th>\n      <th>Height</th>\n      <th>Weight</th>\n      <th>College</th>\n      <th>Salary</th>\n      <th>RankSalary</th>\n    </tr>\n  </thead>\n  <tbody>\n    <tr>\n      <td>109</td>\n      <td>Kobe Bryant</td>\n      <td>Los Angeles Lakers</td>\n      <td>24.0</td>\n      <td>SF</td>\n      <td>37.0</td>\n      <td>6-6</td>\n      <td>212.0</td>\n      <td>NaN</td>\n      <td>25000000.0</td>\n      <td>1</td>\n    </tr>\n    <tr>\n      <td>169</td>\n      <td>LeBron James</td>\n      <td>Cleveland Cavaliers</td>\n      <td>23.0</td>\n      <td>SF</td>\n      <td>31.0</td>\n      <td>6-8</td>\n      <td>250.0</td>\n      <td>NaN</td>\n      <td>22970500.0</td>\n      <td>2</td>\n    </tr>\n    <tr>\n      <td>33</td>\n      <td>Carmelo Anthony</td>\n      <td>New York Knicks</td>\n      <td>7.0</td>\n      <td>SF</td>\n      <td>32.0</td>\n      <td>6-8</td>\n      <td>240.0</td>\n      <td>Syracuse</td>\n      <td>22875000.0</td>\n      <td>3</td>\n    </tr>\n    <tr>\n      <td>251</td>\n      <td>Dwight Howard</td>\n      <td>Houston Rockets</td>\n      <td>12.0</td>\n      <td>C</td>\n      <td>30.0</td>\n      <td>6-11</td>\n      <td>265.0</td>\n      <td>NaN</td>\n      <td>22359364.0</td>\n      <td>4</td>\n    </tr>\n    <tr>\n      <td>339</td>\n      <td>Chris Bosh</td>\n      <td>Miami Heat</td>\n      <td>1.0</td>\n      <td>PF</td>\n      <td>32.0</td>\n      <td>6-11</td>\n      <td>235.0</td>\n      <td>Georgia Tech</td>\n      <td>22192730.0</td>\n      <td>5</td>\n    </tr>\n    <tr>\n      <td>...</td>\n      <td>...</td>\n      <td>...</td>\n      <td>...</td>\n      <td>...</td>\n      <td>...</td>\n      <td>...</td>\n      <td>...</td>\n      <td>...</td>\n      <td>...</td>\n      <td>...</td>\n    </tr>\n    <tr>\n      <td>409</td>\n      <td>Greg Smith</td>\n      <td>Minnesota Timberwolves</td>\n      <td>4.0</td>\n      <td>PF</td>\n      <td>25.0</td>\n      <td>6-10</td>\n      <td>250.0</td>\n      <td>Fresno State</td>\n      <td>0.0</td>\n      <td>452</td>\n    </tr>\n    <tr>\n      <td>353</td>\n      <td>Dorell Wright</td>\n      <td>Miami Heat</td>\n      <td>11.0</td>\n      <td>SF</td>\n      <td>30.0</td>\n      <td>6-9</td>\n      <td>205.0</td>\n      <td>NaN</td>\n      <td>0.0</td>\n      <td>452</td>\n    </tr>\n    <tr>\n      <td>46</td>\n      <td>Elton Brand</td>\n      <td>Philadelphia 76ers</td>\n      <td>42.0</td>\n      <td>PF</td>\n      <td>37.0</td>\n      <td>6-9</td>\n      <td>254.0</td>\n      <td>Duke</td>\n      <td>0.0</td>\n      <td>452</td>\n    </tr>\n    <tr>\n      <td>270</td>\n      <td>Xavier Munford</td>\n      <td>Memphis Grizzlies</td>\n      <td>14.0</td>\n      <td>PG</td>\n      <td>24.0</td>\n      <td>6-3</td>\n      <td>180.0</td>\n      <td>Rhode Island</td>\n      <td>0.0</td>\n      <td>452</td>\n    </tr>\n    <tr>\n      <td>397</td>\n      <td>Axel Toupane</td>\n      <td>Denver Nuggets</td>\n      <td>6.0</td>\n      <td>SG</td>\n      <td>23.0</td>\n      <td>6-7</td>\n      <td>210.0</td>\n      <td>NaN</td>\n      <td>0.0</td>\n      <td>452</td>\n    </tr>\n  </tbody>\n</table>\n<p>457 rows × 10 columns</p>\n</div>"
     },
     "metadata": {},
     "output_type": "execute_result",
     "execution_count": 12
    }
   ],
   "source": [
    "import pandas as pd\n",
    "nba = pd.read_csv('../../DataSets/nba.csv').dropna(how='all')\n",
    "nba.head()\n",
    "\n",
    "nba['Salary'].fillna(value=0,inplace=True)\n",
    "\n",
    "nba[\"RankSalary\"] = nba[\"Salary\"].rank(ascending=False).astype(int)\n",
    "nba.head()\n",
    "nba.sort_values(by=\"RankSalary\",ascending=True)"
   ]
  }
 ],
 "metadata": {
  "kernelspec": {
   "display_name": "Python 3",
   "language": "python",
   "name": "python3"
  },
  "language_info": {
   "codemirror_mode": {
    "name": "ipython",
    "version": 2
   },
   "file_extension": ".py",
   "mimetype": "text/x-python",
   "name": "python",
   "nbconvert_exporter": "python",
   "pygments_lexer": "ipython2",
   "version": "2.7.6"
  },
  "pycharm": {
   "stem_cell": {
    "cell_type": "raw",
    "source": [],
    "metadata": {
     "collapsed": false
    }
   }
  }
 },
 "nbformat": 4,
 "nbformat_minor": 0
}