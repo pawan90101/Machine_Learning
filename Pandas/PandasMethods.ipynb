{
 "cells": [
  {
   "cell_type": "code",
   "execution_count": 5,
   "metadata": {
    "collapsed": true,
    "pycharm": {
     "is_executing": false
    }
   },
   "outputs": [
    {
     "name": "stdout",
     "text": [
      "0     3.990\n1     2.440\n2    23.654\n3     3.220\n4    54.009\ndtype: float64\n17.462600000000002\n87.313\n40048.78291658396\n"
     ],
     "output_type": "stream"
    }
   ],
   "source": [
    "import pandas as pd\n",
    "rate = [3.99,2.44,23.654,3.22,54.009]\n",
    "r = pd.Series(rate)\n",
    "print(r)\n",
    "print(r.mean())\n",
    "print(r.sum())\n",
    "print(r.product())"
   ]
  },
  {
   "cell_type": "code",
   "execution_count": 25,
   "outputs": [
    {
     "name": "stdout",
     "text": [
      "Mon          Apple\nTue          Mango\nWed     Watermelon\nThru     Pineapple\nfri          Grape\ndtype: object\n"
     ],
     "output_type": "stream"
    }
   ],
   "source": [
    "fruits = ['Apple','Mango','Watermelon','Pineapple','Grape']\n",
    "weekdays = ['Mon','Tue',\"Wed\",\"Thru\",\"fri\"]\n",
    "\n",
    "r =pd.Series(data=fruits,index=weekdays)\n",
    "print(r)"
   ],
   "metadata": {
    "collapsed": false,
    "pycharm": {
     "name": "#%%\n",
     "is_executing": false
    }
   }
  }
 ],
 "metadata": {
  "language_info": {
   "codemirror_mode": {
    "name": "ipython",
    "version": 2
   },
   "file_extension": ".py",
   "mimetype": "text/x-python",
   "name": "python",
   "nbconvert_exporter": "python",
   "pygments_lexer": "ipython2",
   "version": "2.7.6"
  },
  "kernelspec": {
   "name": "python3",
   "language": "python",
   "display_name": "Python 3"
  },
  "pycharm": {
   "stem_cell": {
    "cell_type": "raw",
    "source": [],
    "metadata": {
     "collapsed": false
    }
   }
  }
 },
 "nbformat": 4,
 "nbformat_minor": 0
}