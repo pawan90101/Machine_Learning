{
 "cells": [
  {
   "cell_type": "code",
   "execution_count": 8,
   "metadata": {
    "collapsed": true,
    "pycharm": {
     "is_executing": false
    }
   },
   "outputs": [
    {
     "name": "stdout",
     "text": [
      "0      chocolate\n1          mango\n2    butterscoch\n3         vanila\n4      strawbery\n5         kesher\ndtype: object\n0      2\n1      3\n2      2\n3      3\n4     22\n5    344\n6    345\ndtype: int64\n0     True\n1    False\n2     True\n3     True\n4     True\n5    False\ndtype: bool\n"
     ],
     "output_type": "stream"
    }
   ],
   "source": [
    "#use of panda series\n",
    "import pandas as pd\n",
    "kulfi = ['chocolate','mango','butterscoch','vanila','strawbery','kesher']\n",
    "print(pd.Series(kulfi))\n",
    "\n",
    "lotry = [2,3,2,3,22,344,345]\n",
    "print(pd.Series(lotry))\n",
    "\n",
    "reg = [True,False,True,True,True,False]\n",
    "print(pd.Series(reg))"
   ]
  }
 ],
 "metadata": {
  "language_info": {
   "codemirror_mode": {
    "name": "ipython",
    "version": 2
   },
   "file_extension": ".py",
   "mimetype": "text/x-python",
   "name": "python",
   "nbconvert_exporter": "python",
   "pygments_lexer": "ipython2",
   "version": "2.7.6"
  },
  "kernelspec": {
   "name": "python3",
   "language": "python",
   "display_name": "Python 3"
  },
  "pycharm": {
   "stem_cell": {
    "cell_type": "raw",
    "source": [],
    "metadata": {
     "collapsed": false
    }
   }
  }
 },
 "nbformat": 4,
 "nbformat_minor": 0
}