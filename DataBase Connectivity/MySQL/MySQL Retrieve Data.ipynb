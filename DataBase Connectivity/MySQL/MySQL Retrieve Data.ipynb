{
 "cells": [
  {
   "cell_type": "code",
   "execution_count": 6,
   "metadata": {
    "collapsed": true,
    "pycharm": {
     "is_executing": false
    }
   },
   "outputs": [
    {
     "name": "stdout",
     "text": [
      "Connected to MySQL Server version  8.0.17\nTotal number of rows in Employee is:  0\n\nPrinting each Employee record\nemp_name =  emp1\nemp_id =  Pawan\nemp_department  =  Sofware Engineer \n\nemp_name =  emp2\nemp_id =  Shrawan\nemp_department  =  Android Developer \n\nemp_name =  emp3\nemp_id =  Sachin\nemp_department  =  Computer Application \n\nemp_name =  emp4\nemp_id =  Neha\nemp_department  =  US Requiter \n\nemp_name =  emp5\nemp_id =  Sohan\nemp_department  =  Unknown \n\n"
     ],
     "output_type": "stream"
    }
   ],
   "source": [
    "#Fetch data.\n",
    "import mysql.connector\n",
    "from mysql.connector import errorcode\n",
    "\n",
    "def fatchUsingIndex(records):\n",
    "    for row in records:\n",
    "        print(\"emp_name = \", row[0], )\n",
    "        print(\"emp_id = \", row[1])\n",
    "        print(\"emp_department  = \", row[2],\"\\n\")\n",
    "def fatchUsingName(cursor): \n",
    "    for (emp_id, emp_name ,emp_department) in cursor:\n",
    "        print(\"emp_name = \", emp_name, )\n",
    "        print(\"emp_id = \", emp_id)\n",
    "        print(\"emp_department  = \",emp_department,\"\\n\")\n",
    "\n",
    "db_user = input('Enter mysql database user:')\n",
    "db_password = input('Enter Password:')\n",
    "db_name = input('Enter Database Name:')\n",
    "db_host = '127.0.0.1' #I am using the lost server so I fix that position\n",
    "\n",
    "try:\n",
    "    cnx = mysql.connector.connect(user=db_user,\n",
    "                                password = db_password,\n",
    "                                host = db_host,\n",
    "                                database=db_name)\n",
    "    if cnx.is_connected():\n",
    "        cursor = cnx.cursor()\n",
    "        db_Info = cnx.get_server_info()\n",
    "        print(\"Connected to MySQL Server version \", db_Info)\n",
    "        qyery = \"\"\"\n",
    "                Select * from employee\n",
    "                \"\"\"\n",
    "        cursor.execute(qyery)\n",
    "        #records = cursor.fetchall()\n",
    "        print(\"Total number of rows in Employee is: \", cursor.rowcount)\n",
    "        print(\"\\nPrinting each Employee record\")\n",
    "        #fatchUsingIndex(records)\n",
    "        fatchUsingName(cursor)\n",
    "        \n",
    "except mysql.connector.Error as err:\n",
    "    if err.errno == errorcode.ER_ACCESS_DENIED_ERROR:\n",
    "        print(\"Something is wrong with your user name or password\")\n",
    "    elif err.errno == errorcode.ER_BAD_DB_ERROR:\n",
    "        print(\"Database does not exist\")\n",
    "    elif err.errno == errorcode.ER_CANT_CREATE_TABLE:\n",
    "        print(\"Cannot Create Table\")\n",
    "    else:\n",
    "        print(err)\n",
    "        exit(1)\n",
    "finally:\n",
    "    if cnx.is_connected():\n",
    "        cnx.close()\n",
    "        cursor.close()\n"
   ]
  },
  {
   "cell_type": "code",
   "execution_count": 7,
   "outputs": [
    {
     "name": "stdout",
     "text": [
      "Connected to MySQL Server version  8.0.17\nTotal number of rows in Employee is:  3\n\nPrinting each Employee record\nemp_name =  Pawan\nemp_id =  emp1\nemp_department  =  Sofware Engineer \n\nemp_name =  Shrawan\nemp_id =  emp2\nemp_department  =  Android Developer \n\nemp_name =  Sachin\nemp_id =  emp3\nemp_department  =  Computer Application \n\n"
     ],
     "output_type": "stream"
    }
   ],
   "source": [
    "#Fetch only no_of data.\n",
    "import mysql.connector\n",
    "from mysql.connector import errorcode\n",
    "\n",
    "def fatchUsingIndex(records):\n",
    "    for row in records:\n",
    "        print(\"emp_name = \", row[0], )\n",
    "        print(\"emp_id = \", row[1])\n",
    "        print(\"emp_department  = \", row[2],\"\\n\")\n",
    "\n",
    "db_user = input('Enter mysql database user:')\n",
    "db_password = input('Enter Password:')\n",
    "db_name = input('Enter Database Name:')\n",
    "db_host = '127.0.0.1' #I am using the lost server so I fix that position\n",
    "\n",
    "try:\n",
    "    cnx = mysql.connector.connect(user=db_user,\n",
    "                                password = db_password,\n",
    "                                host = db_host,\n",
    "                                database=db_name)\n",
    "    if cnx.is_connected():\n",
    "        cursor = cnx.cursor()\n",
    "        db_Info = cnx.get_server_info()\n",
    "        print(\"Connected to MySQL Server version \", db_Info)\n",
    "        qyery = \"\"\"\n",
    "                Select * from employee\n",
    "                \"\"\"\n",
    "        cursor.execute(qyery)\n",
    "        no_of_rows_to_show = 3\n",
    "        records = cursor.fetchmany(no_of_rows_to_show)\n",
    "        print(\"Total number of rows in Employee is: \", cursor.rowcount)\n",
    "        print(\"\\nPrinting each Employee record\")\n",
    "        fatchUsingIndex(records)\n",
    "        \n",
    "except mysql.connector.Error as err:\n",
    "    if err.errno == errorcode.ER_ACCESS_DENIED_ERROR:\n",
    "        print(\"Something is wrong with your user name or password\")\n",
    "    elif err.errno == errorcode.ER_BAD_DB_ERROR:\n",
    "        print(\"Database does not exist\")\n",
    "    elif err.errno == errorcode.ER_CANT_CREATE_TABLE:\n",
    "        print(\"Cannot Create Table\")\n",
    "    else:\n",
    "        print(err)\n",
    "        exit(1)\n",
    "finally:\n",
    "    if cnx.is_connected():\n",
    "        cnx.close()\n",
    "        cursor.close()\n"
   ],
   "metadata": {
    "collapsed": false,
    "pycharm": {
     "name": "#%%\n",
     "is_executing": false
    }
   }
  },
  {
   "cell_type": "code",
   "execution_count": 9,
   "outputs": [
    {
     "name": "stdout",
     "text": [
      "Connected to MySQL Server version  8.0.17\nTotal number of rows in Employee is:  1\n('Pawan', 'emp1', 'Sofware Engineer')\n"
     ],
     "output_type": "stream"
    }
   ],
   "source": [
    "#Fetch only one data.\n",
    "import mysql.connector\n",
    "from mysql.connector import errorcode\n",
    "\n",
    "db_user = input('Enter mysql database user:')\n",
    "db_password = input('Enter Password:')\n",
    "db_name = input('Enter Database Name:')\n",
    "db_host = '127.0.0.1' #I am using the lost server so I fix that position\n",
    "\n",
    "try:\n",
    "    cnx = mysql.connector.connect(user=db_user,\n",
    "                                password = db_password,\n",
    "                                host = db_host,\n",
    "                                database=db_name)\n",
    "    if cnx.is_connected():\n",
    "        cursor = cnx.cursor()\n",
    "        db_Info = cnx.get_server_info()\n",
    "        print(\"Connected to MySQL Server version \", db_Info)\n",
    "        qyery = \"\"\"\n",
    "                Select * from employee\n",
    "                \"\"\"\n",
    "        cursor.execute(qyery)\n",
    "        records = cursor.fetchone()\n",
    "        print(\"Total number of rows in Employee is: \", cursor.rowcount)\n",
    "        print(records)\n",
    "        \n",
    "except mysql.connector.Error as err:\n",
    "    if err.errno == errorcode.ER_ACCESS_DENIED_ERROR:\n",
    "        print(\"Something is wrong with your user name or password\")\n",
    "    elif err.errno == errorcode.ER_BAD_DB_ERROR:\n",
    "        print(\"Database does not exist\")\n",
    "    elif err.errno == errorcode.ER_CANT_CREATE_TABLE:\n",
    "        print(\"Cannot Create Table\")\n",
    "    else:\n",
    "        print(err)\n",
    "        exit(1)\n",
    "finally:\n",
    "    if cnx.is_connected():\n",
    "        cnx.close()\n",
    "        cursor.close()\n",
    "\n"
   ],
   "metadata": {
    "collapsed": false,
    "pycharm": {
     "name": "#%%\n",
     "is_executing": false
    }
   }
  }
 ],
 "metadata": {
  "language_info": {
   "codemirror_mode": {
    "name": "ipython",
    "version": 2
   },
   "file_extension": ".py",
   "mimetype": "text/x-python",
   "name": "python",
   "nbconvert_exporter": "python",
   "pygments_lexer": "ipython2",
   "version": "2.7.6"
  },
  "kernelspec": {
   "name": "python3",
   "language": "python",
   "display_name": "Python 3"
  },
  "pycharm": {
   "stem_cell": {
    "cell_type": "raw",
    "source": [],
    "metadata": {
     "collapsed": false
    }
   }
  }
 },
 "nbformat": 4,
 "nbformat_minor": 0
}