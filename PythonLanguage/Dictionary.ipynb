{
 "cells": [
  {
   "cell_type": "code",
   "execution_count": 1,
   "metadata": {
    "pycharm": {
     "is_executing": false
    }
   },
   "outputs": [
    {
     "data": {
      "text/plain": "'gray'"
     },
     "metadata": {},
     "output_type": "execute_result",
     "execution_count": 1
    }
   ],
   "source": [
    "myCat = {'size':'fat','color':'gray','disposition':'loud'}\n",
    "\n",
    "myCat['color']"
   ]
  },
  {
   "cell_type": "code",
   "execution_count": 2,
   "metadata": {
    "pycharm": {
     "is_executing": false
    }
   },
   "outputs": [
    {
     "data": {
      "text/plain": "False"
     },
     "metadata": {},
     "output_type": "execute_result",
     "execution_count": 2
    }
   ],
   "source": [
    "spam1 =['cat','dog','rat']\n",
    "spam2 =['dog','rat','cat']\n",
    "spam1 == spam2"
   ]
  },
  {
   "cell_type": "code",
   "execution_count": 3,
   "metadata": {
    "pycharm": {
     "is_executing": false
    }
   },
   "outputs": [
    {
     "data": {
      "text/plain": "True"
     },
     "metadata": {},
     "output_type": "execute_result",
     "execution_count": 3
    }
   ],
   "source": [
    "myCat1 = {'size':'fat','color':'gray','disposition':'loud'}\n",
    "myCat2 = {'color':'gray','disposition':'loud','size':'fat'}\n",
    "myCat1 == myCat2"
   ]
  },
  {
   "cell_type": "code",
   "execution_count": 4,
   "metadata": {
    "pycharm": {
     "is_executing": false
    }
   },
   "outputs": [
    {
     "name": "stdout",
     "text": [
      "vishwajeet\nM\n29\n"
     ],
     "output_type": "stream"
    }
   ],
   "source": [
    "spam = {'name':'vishwajeet','gender':'M','age':'29'}\n",
    "\n",
    "for v in spam.values():\n",
    "    print(v)"
   ]
  },
  {
   "cell_type": "code",
   "execution_count": 5,
   "metadata": {
    "pycharm": {
     "is_executing": false
    }
   },
   "outputs": [
    {
     "name": "stdout",
     "text": [
      "name\ngender\nage\n"
     ],
     "output_type": "stream"
    }
   ],
   "source": [
    "for k in spam.keys():\n",
    "    print(k)"
   ]
  },
  {
   "cell_type": "code",
   "execution_count": 6,
   "metadata": {
    "pycharm": {
     "is_executing": false
    }
   },
   "outputs": [
    {
     "name": "stdout",
     "text": [
      "('name', 'vishwajeet')\n('gender', 'M')\n('age', '29')\n"
     ],
     "output_type": "stream"
    }
   ],
   "source": [
    "for i in spam.items():\n",
    "    print(i)"
   ]
  },
  {
   "cell_type": "code",
   "execution_count": 15,
   "metadata": {},
   "outputs": [
    {
     "name": "stdout",
     "output_type": "stream",
     "text": [
      "Enter the name : \n",
      "Rahul\n",
      "Jan 1 is the birthday of Rahul\n",
      "Enter the name : \n",
      "vishwajeet\n",
      "Aug 1 is the birthday of vishwajeet\n",
      "Enter the name : \n",
      "Ram\n",
      "I do not have birthday info for Ram\n",
      "What is their birthday?\n",
      "Feb 20\n",
      "Birthday database is updated\n",
      "Enter the name : \n",
      "Ram\n",
      "Feb 20 is the birthday of Ram\n",
      "Enter the name : \n",
      "\n"
     ]
    }
   ],
   "source": [
    "birthdays = {'Rahul':'Jan 1','Vivek':'Aprl 21','vishwajeet':'Aug 1'}\n",
    "\n",
    "while True:\n",
    "    print(\"Enter the name : \")\n",
    "    name = input()\n",
    "    if name =='':\n",
    "        break\n",
    "        \n",
    "    if name in birthdays:\n",
    "        print(birthdays[name]+' is the birthday of '+ name)\n",
    "        \n",
    "    else:\n",
    "        print('I do not have birthday info for '+ name)\n",
    "        \n",
    "        print('What is their birthday?')\n",
    "        bday = input()\n",
    "        birthdays[name] = bday\n",
    "        print('Birthday database is updated')\n"
   ]
  }
 ],
 "metadata": {
  "kernelspec": {
   "display_name": "Python 3",
   "language": "python",
   "name": "python3"
  },
  "language_info": {
   "codemirror_mode": {
    "name": "ipython",
    "version": 3
   },
   "file_extension": ".py",
   "mimetype": "text/x-python",
   "name": "python",
   "nbconvert_exporter": "python",
   "pygments_lexer": "ipython3",
   "version": "3.7.1"
  }
 },
 "nbformat": 4,
 "nbformat_minor": 2
}