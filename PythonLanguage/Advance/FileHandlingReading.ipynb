{
 "cells": [
  {
   "cell_type": "code",
   "execution_count": 11,
   "metadata": {
    "collapsed": true,
    "pycharm": {
     "is_executing": false
    }
   },
   "outputs": [
    {
     "name": "stdout",
     "text": [
      "hello pawan how are you!\n\nhello pawan how are you line 2!\n"
     ],
     "output_type": "stream"
    }
   ],
   "source": [
    "\"\"\"\n",
    "“ r “, for reading.\n",
    "“ w “, for writing.\n",
    "“ a “, for appending.\n",
    "“ r+ “, for both reading and writing\n",
    "\"\"\"\n",
    "\n",
    "# a file named \"geek\", will be opened with the reading mode. \n",
    "file = open('D:/Pycharm/DataSets/DemoForFileHandling.txt', 'r') \n",
    "# This will print every line one by one in the file \n",
    "for each in file: \n",
    "    print (each)\n",
    "file.close()"
   ]
  },
  {
   "cell_type": "code",
   "execution_count": 18,
   "outputs": [
    {
     "name": "stdout",
     "text": [
      "hello pawan how are you!\n\nhello pawan how are you line 2!\n"
     ],
     "output_type": "stream"
    }
   ],
   "source": [
    "#Get all lines at once\n",
    "file = open('D:/Pycharm/DataSets/DemoForFileHandling.txt', 'r') \n",
    "\n",
    "output = file.readline()#read the line and the curser of  the next line\n",
    "print (output)\n",
    "output = file.readline()\n",
    "print (output)\n",
    "\n",
    "#better use\n",
    "line = file.readline()\n",
    "while(line):\n",
    "    print(line)\n",
    "    line  = file.readline()\n",
    "    \n",
    "    \n",
    "\n",
    "#output = file.readlines()# returns the list as all line no\n",
    "#print (output)\n",
    "file.close()"
   ],
   "metadata": {
    "collapsed": false,
    "pycharm": {
     "name": "#%%\n",
     "is_executing": false
    }
   }
  },
  {
   "cell_type": "code",
   "execution_count": 12,
   "outputs": [
    {
     "name": "stdout",
     "text": [
      "hello pawan how are you!\nhello pawan how are you line 2!\n"
     ],
     "output_type": "stream"
    }
   ],
   "source": [
    "file = open('D:/Pycharm/DataSets/DemoForFileHandling.txt', 'r') \n",
    "# This will print all file text.\n",
    "output = file.read()\n",
    "print(output)\n",
    "file.close()"
   ],
   "metadata": {
    "collapsed": false,
    "pycharm": {
     "name": "#%%\n",
     "is_executing": false
    }
   }
  },
  {
   "cell_type": "code",
   "execution_count": 13,
   "outputs": [
    {
     "name": "stdout",
     "text": [
      "hello pawa\n"
     ],
     "output_type": "stream"
    }
   ],
   "source": [
    "file = open('D:/Pycharm/DataSets/DemoForFileHandling.txt', 'r') \n",
    "# This will print all file text.\n",
    "output = file.read(10)#till number you want to print.\n",
    "print(output)\n",
    "file.close()"
   ],
   "metadata": {
    "collapsed": false,
    "pycharm": {
     "name": "#%%\n",
     "is_executing": false
    }
   }
  },
  {
   "cell_type": "code",
   "execution_count": 14,
   "outputs": [
    {
     "name": "stdout",
     "text": [
      "hello pawan how are you!\nhello pawan how are you line 2!\n"
     ],
     "output_type": "stream"
    }
   ],
   "source": [
    "#Another way to get the file handler\n",
    "with open('D:/Pycharm/DataSets/DemoForFileHandling.txt', 'r') as f:\n",
    "    output = f.read()\n",
    "    print(output)\n",
    "file.close()"
   ],
   "metadata": {
    "collapsed": false,
    "pycharm": {
     "name": "#%%\n",
     "is_executing": false
    }
   }
  },
  {
   "cell_type": "code",
   "execution_count": 19,
   "outputs": [
    {
     "name": "stdout",
     "text": [
      "['hello', 'pawan', 'how', 'are', 'you!']\n"
     ],
     "output_type": "stream"
    }
   ],
   "source": [
    "with open('D:/Pycharm/DataSets/DemoForFileHandling.txt', 'r') as f:\n",
    "    output = f.readline()\n",
    "    output = output.split()\n",
    "    print(output)\n",
    "file.close()\n",
    "\n"
   ],
   "metadata": {
    "collapsed": false,
    "pycharm": {
     "name": "#%%\n",
     "is_executing": false
    }
   }
  }
 ],
 "metadata": {
  "kernelspec": {
   "display_name": "Python 3",
   "language": "python",
   "name": "python3"
  },
  "language_info": {
   "codemirror_mode": {
    "name": "ipython",
    "version": 2
   },
   "file_extension": ".py",
   "mimetype": "text/x-python",
   "name": "python",
   "nbconvert_exporter": "python",
   "pygments_lexer": "ipython2",
   "version": "2.7.6"
  },
  "pycharm": {
   "stem_cell": {
    "cell_type": "raw",
    "source": [],
    "metadata": {
     "collapsed": false
    }
   }
  }
 },
 "nbformat": 4,
 "nbformat_minor": 0
}