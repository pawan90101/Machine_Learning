{
 "cells": [
  {
   "cell_type": "code",
   "execution_count": 2,
   "metadata": {
    "collapsed": true,
    "pycharm": {
     "is_executing": false
    }
   },
   "outputs": [
    {
     "name": "stdout",
     "text": [
      "Person1 False\nEmployee1 True\nTrue\nFalse\nTrue\nTrue\n"
     ],
     "output_type": "stream"
    }
   ],
   "source": [
    "# A Python program to demonstrate inheritance  \n",
    "  \n",
    "# Base or Super class. Note object in bracket. \n",
    "# (Generally, object is made ancestor of all classes) \n",
    "# In Python 3.x \"class Person\" is  \n",
    "# equivalent to \"class Person(object)\" \n",
    "class Person(object): \n",
    "      \n",
    "    # Constructor \n",
    "    def __init__(self, name): \n",
    "        self.name = name \n",
    "  \n",
    "    # To get name \n",
    "    def getName(self): \n",
    "        return self.name \n",
    "  \n",
    "    # To check if this person is employee \n",
    "    def isEmployee(self): \n",
    "        return False\n",
    "  \n",
    "  \n",
    "# Inherited or Sub class (Note Person in bracket) \n",
    "class Employee(Person): \n",
    "  \n",
    "    # Here we return true \n",
    "    def isEmployee(self): \n",
    "        return True\n",
    "  \n",
    "# Driver code \n",
    "per = Person(\"Person1\")  # An Object of Person \n",
    "print(per.getName(), per.isEmployee()) \n",
    "  \n",
    "emp = Employee(\"Employee1\") # An Object of Employee \n",
    "print(emp.getName(), emp.isEmployee())\n",
    "\n",
    "# Driver Code \n",
    "print(issubclass(Employee, Person)) \n",
    "print(issubclass(Person, Employee)) \n",
    "\n",
    "# b is not an instance of Derived \n",
    "print(isinstance(per, Person)) \n",
    "  \n",
    "# But d is an instance of Base \n",
    "print(isinstance(emp, Employee))"
   ]
  },
  {
   "cell_type": "code",
   "execution_count": 9,
   "outputs": [
    {
     "name": "stdout",
     "text": [
      "Derived\n"
     ],
     "output_type": "stream"
    }
   ],
   "source": [
    "#Python supports Multiple Inheritance\n",
    "# Python example to show working of multiple  \n",
    "# inheritance \n",
    "class Base1(object): \n",
    "    def __init__(self): \n",
    "        self.str1 = \"Base1\"\n",
    "        print(\"Base1\")\n",
    "  \n",
    "class Base2(object): \n",
    "    def __init__(self): \n",
    "        self.str2 = \"Base2\"        \n",
    "        print(\"Base2\")\n",
    "  \n",
    "class Derived(Base1, Base2): \n",
    "    def __init__(self): \n",
    "          \n",
    "        # Calling constructors of Base1 \n",
    "        # and Base2 classes \n",
    "        Base1.__init__(self) \n",
    "        Base2.__init__(self) \n",
    "        print(\"Derived\")\n",
    "          \n",
    "    def printStrs(self):\n",
    "        pass\n",
    "        #print(self.str1, self.) \n",
    "         \n",
    "ob = Derived() \n",
    "#ob.printStrs() "
   ],
   "metadata": {
    "collapsed": false,
    "pycharm": {
     "name": "#%%\n",
     "is_executing": false
    }
   }
  },
  {
   "cell_type": "code",
   "execution_count": 8,
   "outputs": [
    {
     "name": "stdout",
     "text": [
      "10 20\n"
     ],
     "output_type": "stream"
    }
   ],
   "source": [
    "# Python example to show that base \n",
    "# class members can be accessed in \n",
    "# derived class using base class name \n",
    "class Base(object): \n",
    "  \n",
    "    # Constructor \n",
    "    def __init__(self, x): \n",
    "        self.x = x \n",
    "  \n",
    "class Derived(Base): \n",
    "  \n",
    "    # Constructor \n",
    "    def __init__(self, x, y): \n",
    "        Base.x = x \n",
    "        #Base.__init__(self,x)\n",
    "        self.y = y \n",
    "  \n",
    "    def printXY(self): \n",
    "       \n",
    "       # print(self.x, self.y) will also work \n",
    "       print(Base.x, self.y) \n",
    "  \n",
    "# Driver Code \n",
    "d = Derived(10, 20) \n",
    "d.printXY() \n"
   ],
   "metadata": {
    "collapsed": false,
    "pycharm": {
     "name": "#%%\n",
     "is_executing": false
    }
   }
  },
  {
   "cell_type": "code",
   "execution_count": 13,
   "outputs": [
    {
     "name": "stdout",
     "text": [
      "10 20\n"
     ],
     "output_type": "stream"
    }
   ],
   "source": [
    "#using super\n",
    "# Python example to show that base \n",
    "# class members can be accessed in \n",
    "# derived class using super() \n",
    "class Base(object): \n",
    "  \n",
    "    # Constructor \n",
    "    def __init__(self, x): \n",
    "        self.x = x  \n",
    "\n",
    "  \n",
    "class Derived(Base): \n",
    "  \n",
    "    # Constructor \n",
    "    def __init__(self, x, y): \n",
    "        super().__init__(x) \n",
    "        self.y = y \n",
    "  \n",
    "    def printXY(self): \n",
    "  \n",
    "       # Note that Base.x won't work here \n",
    "       # because super() is used in constructor \n",
    "       print(self.x, self.y) \n",
    "  \n",
    "  \n",
    "# Driver Code \n",
    "d = Derived(10, 20) \n",
    "d.printXY() "
   ],
   "metadata": {
    "collapsed": false,
    "pycharm": {
     "name": "#%%\n",
     "is_executing": false
    }
   }
  },
  {
   "cell_type": "code",
   "execution_count": 12,
   "outputs": [
    {
     "name": "stdout",
     "text": [
      "4\n8\n24\n"
     ],
     "output_type": "stream"
    }
   ],
   "source": [
    "class X(object): \n",
    "    def __init__(self, a): \n",
    "        self.num = a \n",
    "    def doubleup(self): \n",
    "        self.num *= 2\n",
    "  \n",
    "class Y(X): \n",
    "    def __init__(self, a): \n",
    "        X.__init__(self, a) \n",
    "    def tripleup(self): \n",
    "        self.num *= 3\n",
    "  \n",
    "obj = Y(4) \n",
    "print(obj.num) \n",
    "  \n",
    "obj.doubleup() \n",
    "print(obj.num) \n",
    "  \n",
    "obj.tripleup() \n",
    "print(obj.num) "
   ],
   "metadata": {
    "collapsed": false,
    "pycharm": {
     "name": "#%%\n",
     "is_executing": false
    }
   }
  },
  {
   "cell_type": "code",
   "execution_count": 14,
   "outputs": [
    {
     "name": "stdout",
     "text": [
      "Geek1 True E101\n"
     ],
     "output_type": "stream"
    }
   ],
   "source": [
    "# Base or Super class \n",
    "class Person(object): \n",
    "    def __init__(self, name): \n",
    "        self.name = name \n",
    "          \n",
    "    def getName(self): \n",
    "        return self.name \n",
    "      \n",
    "    def isEmployee(self): \n",
    "        return False\n",
    "  \n",
    "# Inherited or Subclass (Note Person in bracket) \n",
    "class Employee(Person): \n",
    "    def __init__(self, name, eid): \n",
    "        super().__init__(name) \n",
    "        self.empID = eid \n",
    "          \n",
    "    def isEmployee(self): \n",
    "        return True\n",
    "          \n",
    "    def getID(self): \n",
    "        return self.empID \n",
    "  \n",
    "# Driver code \n",
    "emp = Employee(\"Geek1\", \"E101\")  \n",
    "print(emp.getName(), emp.isEmployee(), emp.getID()) \n"
   ],
   "metadata": {
    "collapsed": false,
    "pycharm": {
     "name": "#%%\n",
     "is_executing": false
    }
   }
  }
 ],
 "metadata": {
  "kernelspec": {
   "display_name": "Python 3",
   "language": "python",
   "name": "python3"
  },
  "language_info": {
   "codemirror_mode": {
    "name": "ipython",
    "version": 2
   },
   "file_extension": ".py",
   "mimetype": "text/x-python",
   "name": "python",
   "nbconvert_exporter": "python",
   "pygments_lexer": "ipython2",
   "version": "2.7.6"
  },
  "pycharm": {
   "stem_cell": {
    "cell_type": "raw",
    "source": [],
    "metadata": {
     "collapsed": false
    }
   }
  }
 },
 "nbformat": 4,
 "nbformat_minor": 0
}