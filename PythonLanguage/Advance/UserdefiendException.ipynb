{
 "cells": [
  {
   "cell_type": "code",
   "execution_count": 6,
   "metadata": {
    "collapsed": true,
    "pycharm": {
     "is_executing": false
    }
   },
   "outputs": [
    {
     "name": "stdout",
     "text": [
      "'error in this value 6'\nA New Exception occured:  6\n"
     ],
     "output_type": "stream"
    }
   ],
   "source": [
    "# A python program to create user-defined exception \n",
    "  \n",
    "# class MyError is derived from super class Exception \n",
    "class MyError(Exception): \n",
    "  \n",
    "    # Constructor or Initializer \n",
    "    def __init__(self, value): \n",
    "        self.value = value \n",
    "  \n",
    "    # __str__ is to print() the value \n",
    "    def __str__(self): \n",
    "        return(repr(\"error in this value {}\".format(self.value))) \n",
    "  \n",
    "try: \n",
    "    raise(MyError(3*2)) \n",
    "  \n",
    "# Value of Exception is stored in error \n",
    "except MyError as error: \n",
    "    print(error)\n",
    "    print('A New Exception occured: ',error.value) \n",
    "\n"
   ]
  },
  {
   "cell_type": "code",
   "execution_count": 2,
   "outputs": [
    {
     "name": "stdout",
     "text": [
      "Exception occured:  Not Allowed\n"
     ],
     "output_type": "stream"
    }
   ],
   "source": [
    "# class Error is derived from super class Exception \n",
    "class Error(Exception): \n",
    "  \n",
    "    # Error is derived class for Exception, but \n",
    "    # Base class for exceptions in this module \n",
    "    pass\n",
    "  \n",
    "class TransitionError(Error): \n",
    "  \n",
    "    # Raised when an operation attempts a state  \n",
    "    # transition that's not allowed. \n",
    "    def __init__(self, prev, nex, msg): \n",
    "        self.prev = prev \n",
    "        self.next = nex \n",
    "  \n",
    "        # Error message thrown is saved in msg \n",
    "        self.msg = msg \n",
    "try: \n",
    "    raise(TransitionError(2,3*2,\"Not Allowed\")) \n",
    "  \n",
    "# Value of Exception is stored in error \n",
    "except TransitionError as error: \n",
    "    print('Exception occured: ',error.msg) \n"
   ],
   "metadata": {
    "collapsed": false,
    "pycharm": {
     "name": "#%%\n",
     "is_executing": false
    }
   }
  }
 ],
 "metadata": {
  "kernelspec": {
   "display_name": "Python 3",
   "language": "python",
   "name": "python3"
  },
  "language_info": {
   "codemirror_mode": {
    "name": "ipython",
    "version": 2
   },
   "file_extension": ".py",
   "mimetype": "text/x-python",
   "name": "python",
   "nbconvert_exporter": "python",
   "pygments_lexer": "ipython2",
   "version": "2.7.6"
  },
  "pycharm": {
   "stem_cell": {
    "cell_type": "raw",
    "source": [],
    "metadata": {
     "collapsed": false
    }
   }
  }
 },
 "nbformat": 4,
 "nbformat_minor": 0
}