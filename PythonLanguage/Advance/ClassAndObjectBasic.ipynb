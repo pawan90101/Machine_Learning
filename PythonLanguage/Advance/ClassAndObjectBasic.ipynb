{
 "cells": [
  {
   "cell_type": "code",
   "execution_count": 1,
   "metadata": {
    "collapsed": true,
    "pycharm": {
     "is_executing": false
    }
   },
   "outputs": [
    {
     "name": "stdout",
     "text": [
      "Name = Pawan kumar\nRoll No = 0102200\nAge = 28\nDepartment = Sofware Engineering\n"
     ],
     "output_type": "stream"
    }
   ],
   "source": [
    "#data members are attributes and member functions are methods\n",
    "class student:\n",
    "    name = ''\n",
    "    roll = ''\n",
    "    department = ''\n",
    "    age = 0\n",
    "\n",
    "if __name__ == '__main__':\n",
    "    st = student()\n",
    "    st.department = 'Sofware Engineering'\n",
    "    st.name = 'Pawan kumar'\n",
    "    st.age = 28\n",
    "    st.roll = '0102200'\n",
    "    \n",
    "    print('Name = {0}\\nRoll No = {1}\\nAge = {2}\\nDepartment = {3}'.format(st.name,st.roll,st.age,st.department))\n",
    "    \n",
    "        \n",
    "        \n",
    "    "
   ]
  },
  {
   "cell_type": "code",
   "execution_count": 3,
   "outputs": [
    {
     "name": "stdout",
     "text": [
      "Name = Pawan Kumar\nRoll No = 0102200\nDepartment = Software Engineering\n"
     ],
     "output_type": "stream"
    }
   ],
   "source": [
    "class Student:\n",
    "    def __init__(self,name,roll,department):\n",
    "            self.name = name\n",
    "            self.roll = roll\n",
    "            self.department = department\n",
    "\n",
    "if __name__== '__main__':\n",
    "    st = Student(department = 'Software Engineering',roll = '0102200',name = 'Pawan Kumar')\n",
    "    print('Name = {0}\\nRoll No = {1}\\nDepartment = {2}'.format(st.name,st.roll,st.department))"
   ],
   "metadata": {
    "collapsed": false,
    "pycharm": {
     "name": "#%%\n",
     "is_executing": false
    }
   }
  },
  {
   "cell_type": "code",
   "execution_count": 10,
   "outputs": [
    {
     "name": "stdout",
     "text": [
      "Name = Pawan kumar\nRoll No = 0102200\nAge = 28\nDepartment = Sofware Engineering\nSofware Engineering\n"
     ],
     "output_type": "stream"
    }
   ],
   "source": [
    "class student:\n",
    "    \n",
    "    def addStudent(self,name,roll,department,age):\n",
    "        self.__department = department\n",
    "        self.__name = name\n",
    "        self.__age = age\n",
    "        self.__roll = roll\n",
    "    \n",
    "    def getStudent(self):\n",
    "        return {'age':self.__age,'name': self.__name,'department':self.__department,'roll':self.__roll}\n",
    "    \n",
    "\n",
    "if __name__ == '__main__':\n",
    "    st = student()\n",
    "    st.addStudent( department = 'Sofware Engineering',name = 'Pawan kumar',age = 28,roll = '0102200')\n",
    "    studentDict = st.getStudent()\n",
    "    print('Name = {0}\\nRoll No = {1}\\nAge = {2}\\nDepartment = {3}'.format(studentDict['name'],studentDict['roll'],studentDict['age'],studentDict['department']))\n",
    "    print(st._student__department)#in a python nothing is hide;"
   ],
   "metadata": {
    "collapsed": false,
    "pycharm": {
     "name": "#%%\n",
     "is_executing": false
    }
   }
  }
 ],
 "metadata": {
  "kernelspec": {
   "display_name": "Python 3",
   "language": "python",
   "name": "python3"
  },
  "language_info": {
   "codemirror_mode": {
    "name": "ipython",
    "version": 2
   },
   "file_extension": ".py",
   "mimetype": "text/x-python",
   "name": "python",
   "nbconvert_exporter": "python",
   "pygments_lexer": "ipython2",
   "version": "2.7.6"
  },
  "pycharm": {
   "stem_cell": {
    "cell_type": "raw",
    "source": [],
    "metadata": {
     "collapsed": false
    }
   }
  }
 },
 "nbformat": 4,
 "nbformat_minor": 0
}