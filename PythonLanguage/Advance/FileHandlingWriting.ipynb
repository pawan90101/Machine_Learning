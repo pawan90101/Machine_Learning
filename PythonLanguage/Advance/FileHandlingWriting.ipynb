{
 "cells": [
  {
   "cell_type": "code",
   "execution_count": 9,
   "metadata": {
    "collapsed": true,
    "pycharm": {
     "is_executing": false
    }
   },
   "outputs": [],
   "source": [
    "# Python code to create a file \n",
    "file = open('D:/Pycharm/DataSets/DemoForFileHandlingWriting.txt','w') \n",
    "#file.seek(2)\n",
    "file.write(\"This is the write command\") \n",
    "file.write(\"It allows us to write in a particular file\") \n",
    "file.close()"
   ]
  },
  {
   "cell_type": "code",
   "execution_count": 10,
   "outputs": [],
   "source": [
    "file = open('D:/Pycharm/DataSets/DemoForFileHandlingWriting.txt','w') \n",
    "#file.seek(2)\n",
    "lines = [\"This is the write command 1 \\n\", \"This is the write command 2\\n\"]\n",
    "file.writelines(lines) \n",
    "file.close()"
   ],
   "metadata": {
    "collapsed": false,
    "pycharm": {
     "name": "#%%\n",
     "is_executing": false
    }
   }
  },
  {
   "cell_type": "code",
   "execution_count": 15,
   "outputs": [],
   "source": [
    "#for append\n",
    "file = open('D:/Pycharm/DataSets/DemoForFileHandlingWriting.txt','a') \n",
    "file.seek(0,2)\n",
    "file.write(\"This is the write command 4\\n\") \n",
    "file.close()\n",
    "\n",
    "\n"
   ],
   "metadata": {
    "collapsed": false,
    "pycharm": {
     "name": "#%%\n",
     "is_executing": false
    }
   }
  }
 ],
 "metadata": {
  "kernelspec": {
   "display_name": "Python 3",
   "language": "python",
   "name": "python3"
  },
  "language_info": {
   "codemirror_mode": {
    "name": "ipython",
    "version": 2
   },
   "file_extension": ".py",
   "mimetype": "text/x-python",
   "name": "python",
   "nbconvert_exporter": "python",
   "pygments_lexer": "ipython2",
   "version": "2.7.6"
  },
  "pycharm": {
   "stem_cell": {
    "cell_type": "raw",
    "source": [],
    "metadata": {
     "collapsed": false
    }
   }
  }
 },
 "nbformat": 4,
 "nbformat_minor": 0
}