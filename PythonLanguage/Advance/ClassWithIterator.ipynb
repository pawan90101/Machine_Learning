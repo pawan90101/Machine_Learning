{
 "cells": [
  {
   "cell_type": "code",
   "execution_count": 1,
   "metadata": {
    "collapsed": true,
    "pycharm": {
     "is_executing": false
    }
   },
   "outputs": [
    {
     "name": "stdout",
     "text": [
      "u\no\ny\n \ne\nr\na\n \nw\no\nH\n \nn\na\nw\na\nP\n \no\nl\nl\ne\nH\n"
     ],
     "output_type": "stream"
    }
   ],
   "source": [
    "class Student:\n",
    "    def __init__(self,data):\n",
    "        self.data = data\n",
    "        self.index = len(data)\n",
    "    def __iter__(self): \n",
    "        return self\n",
    "      \n",
    "    def __next__(self): \n",
    "        if self.index == 0: \n",
    "            raise StopIteration     \n",
    "        self.index-= 1\n",
    "        return self.data[self.index] \n",
    "if __name__ == '__main__':\n",
    "    st = Student(\"Hello Pawan How are you\")\n",
    "    for char in st: \n",
    "        print(char)\n",
    "        "
   ]
  }
 ],
 "metadata": {
  "kernelspec": {
   "display_name": "Python 3",
   "language": "python",
   "name": "python3"
  },
  "language_info": {
   "codemirror_mode": {
    "name": "ipython",
    "version": 2
   },
   "file_extension": ".py",
   "mimetype": "text/x-python",
   "name": "python",
   "nbconvert_exporter": "python",
   "pygments_lexer": "ipython2",
   "version": "2.7.6"
  },
  "pycharm": {
   "stem_cell": {
    "cell_type": "raw",
    "source": [],
    "metadata": {
     "collapsed": false
    }
   }
  }
 },
 "nbformat": 4,
 "nbformat_minor": 0
}