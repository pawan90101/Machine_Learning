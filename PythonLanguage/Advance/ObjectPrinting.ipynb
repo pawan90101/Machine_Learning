{
 "cells": [
  {
   "cell_type": "code",
   "execution_count": 2,
   "metadata": {
    "collapsed": true,
    "pycharm": {
     "is_executing": false
    }
   },
   "outputs": [
    {
     "name": "stdout",
     "text": [
      "From str method of Test: a is 1234,b is 5678\n[Test a:1234 b:5678]\n"
     ],
     "output_type": "stream"
    }
   ],
   "source": [
    "class Test: \n",
    "    def __init__(self, a, b): \n",
    "        self.a = a \n",
    "        self.b = b \n",
    "  \n",
    "    def __repr__(self): \n",
    "        return \"Test a:%s b:%s\" % (self.a, self.b) \n",
    "  \n",
    "    def __str__(self): \n",
    "        return \"From str method of Test: a is %s,b is %s\" % (self.a, self.b) \n",
    "  \n",
    "# Driver Code         \n",
    "t = Test(1234, 5678) \n",
    "print(t) # This calls __str__() \n",
    "print([t]) # This calls __repr__() "
   ]
  },
  {
   "cell_type": "code",
   "execution_count": 3,
   "outputs": [
    {
     "name": "stdout",
     "text": [
      "Test a:1234 b:5678\n"
     ],
     "output_type": "stream"
    }
   ],
   "source": [
    "class Test: \n",
    "    def __init__(self, a, b): \n",
    "        self.a = a \n",
    "        self.b = b \n",
    "  \n",
    "    def __repr__(self): \n",
    "        return \"Test a:%s b:%s\" % (self.a, self.b) \n",
    "  \n",
    "# Driver Code         \n",
    "t = Test(1234, 5678) \n",
    "print(t)  "
   ],
   "metadata": {
    "collapsed": false,
    "pycharm": {
     "name": "#%%\n",
     "is_executing": false
    }
   }
  },
  {
   "cell_type": "code",
   "execution_count": 4,
   "outputs": [
    {
     "name": "stdout",
     "text": [
      "Test a:1234 b:5678\n"
     ],
     "output_type": "stream"
    }
   ],
   "source": [
    "class Test: \n",
    "    def __init__(self, a, b): \n",
    "        self.a = a \n",
    "        self.b = b \n",
    "  \n",
    "    def __str__(self): \n",
    "        return \"Test a:%s b:%s\" % (self.a, self.b) \n",
    "  \n",
    "# Driver Code         \n",
    "t = Test(1234, 5678) \n",
    "print(t)  "
   ],
   "metadata": {
    "collapsed": false,
    "pycharm": {
     "name": "#%%\n",
     "is_executing": false
    }
   }
  },
  {
   "cell_type": "code",
   "execution_count": 5,
   "outputs": [
    {
     "name": "stdout",
     "text": [
      "<__main__.Test object at 0x000001D16A5CD708>\n"
     ],
     "output_type": "stream"
    }
   ],
   "source": [
    "class Test: \n",
    "    def __init__(self, a, b): \n",
    "        self.a = a \n",
    "        self.b = b \n",
    "  \n",
    "# Driver Code         \n",
    "t = Test(1234, 5678) \n",
    "print(t)\n"
   ],
   "metadata": {
    "collapsed": false,
    "pycharm": {
     "name": "#%%\n",
     "is_executing": false
    }
   }
  }
 ],
 "metadata": {
  "kernelspec": {
   "display_name": "Python 3",
   "language": "python",
   "name": "python3"
  },
  "language_info": {
   "codemirror_mode": {
    "name": "ipython",
    "version": 2
   },
   "file_extension": ".py",
   "mimetype": "text/x-python",
   "name": "python",
   "nbconvert_exporter": "python",
   "pygments_lexer": "ipython2",
   "version": "2.7.6"
  },
  "pycharm": {
   "stem_cell": {
    "cell_type": "raw",
    "source": [],
    "metadata": {
     "collapsed": false
    }
   }
  }
 },
 "nbformat": 4,
 "nbformat_minor": 0
}