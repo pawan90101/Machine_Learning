{
 "cells": [
  {
   "cell_type": "code",
   "execution_count": null,
   "metadata": {
    "collapsed": true
   },
   "outputs": [],
   "source": [
    "'''\n",
    "Since there is no main() function in Python, \n",
    "when the command to run a python program is given to the interpreter,\n",
    " the code that is at level 0 indentation is to be executed. \n",
    " However, before doing that, it will define a few special variables.\n",
    "  __name__ is one such special variable. \n",
    "  If the source file is executed as the main program, \n",
    "  the interpreter sets the __name__ variable to have a value “__main__”. \n",
    "  If this file is being imported from another module, __name__ will be set to the module’s name.\n",
    "__name__ is a built-in variable which evaluates to the name of the current module. \n",
    "Thus it can be used to check whether the current script is being run on its own or being imported somewhere else by combining it with if statement, as shown below.\n",
    "'''\n",
    "\n",
    "\n"
   ]
  }
 ],
 "metadata": {
  "language_info": {
   "codemirror_mode": {
    "name": "ipython",
    "version": 2
   },
   "file_extension": ".py",
   "mimetype": "text/x-python",
   "name": "python",
   "nbconvert_exporter": "python",
   "pygments_lexer": "ipython2",
   "version": "2.7.6"
  },
  "kernelspec": {
   "name": "python3",
   "language": "python",
   "display_name": "Python 3"
  },
  "pycharm": {
   "stem_cell": {
    "cell_type": "raw",
    "source": [],
    "metadata": {
     "collapsed": false
    }
   }
  }
 },
 "nbformat": 4,
 "nbformat_minor": 0
}