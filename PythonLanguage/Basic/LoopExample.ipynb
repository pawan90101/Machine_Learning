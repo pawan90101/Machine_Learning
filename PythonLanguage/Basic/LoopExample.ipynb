{
 "cells": [
  {
   "cell_type": "code",
   "execution_count": 2,
   "metadata": {
    "collapsed": true,
    "pycharm": {
     "is_executing": false
    }
   },
   "outputs": [
    {
     "name": "stdout",
     "text": [
      "Please enter your name : \n",
      "Thank You Pawan\n"
     ],
     "output_type": "stream"
    }
   ],
   "source": [
    "name = 'Pawan'\n",
    "while True:\n",
    "    print(\"Please enter your name : \")\n",
    "    name1 = input()\n",
    "    if name1 == name:\n",
    "        break\n",
    "print('Thank You',name)"
   ]
  },
  {
   "cell_type": "code",
   "execution_count": 4,
   "outputs": [
    {
     "name": "stdout",
     "text": [
      "Who are you?\n",
      "Hello, vishwajeet. what is your password'It is a fish'\n",
      "Congrats!!!, Access Granted\n"
     ],
     "output_type": "stream"
    }
   ],
   "source": [
    "while True:\n",
    "    print('Who are you?')\n",
    "    name = input()\n",
    "    \n",
    "    if name != 'Pawan':\n",
    "        continue\n",
    "        \n",
    "    print(\"Hello, vishwajeet. what is your password'It is a fish'\")\n",
    "    password = input()\n",
    "    if password == '231123':\n",
    "        break\n",
    "print('Congrats!!!, Access Granted')"
   ],
   "metadata": {
    "collapsed": false,
    "pycharm": {
     "name": "#%%\n",
     "is_executing": false
    }
   }
  },
  {
   "cell_type": "code",
   "execution_count": 5,
   "outputs": [
    {
     "name": "stdout",
     "text": [
      "i is now 20\ni is now 18\ni is now 16\ni is now 14\ni is now 12\ni is now 10\ni is now 8\ni is now 6\ni is now 4\ni is now 2\n"
     ],
     "output_type": "stream"
    }
   ],
   "source": [
    "for i in range(20,1,-2):\n",
    "    print('i is now {}'.format(i))"
   ],
   "metadata": {
    "collapsed": false,
    "pycharm": {
     "name": "#%%\n",
     "is_executing": false
    }
   }
  },
  {
   "cell_type": "code",
   "execution_count": 6,
   "outputs": [
    {
     "name": "stdout",
     "text": [
      "9\n,\n2\n2\n3\n,\n3\n7\n2\n,\n0\n3\n6\n,\n8\n5\n4\n,\n7\n7\n5\n,\n8\n0\n7\n"
     ],
     "output_type": "stream"
    }
   ],
   "source": [
    "number = '9,223,372,036,854,775,807'\n",
    "\n",
    "for i in range(0,len(number)):\n",
    "    print(number[i])"
   ],
   "metadata": {
    "collapsed": false,
    "pycharm": {
     "name": "#%%\n",
     "is_executing": false
    }
   }
  },
  {
   "cell_type": "code",
   "execution_count": 7,
   "outputs": [
    {
     "name": "stdout",
     "text": [
      "<class 'str'>\n9223372036854775807"
     ],
     "output_type": "stream"
    }
   ],
   "source": [
    "number = '9,223,372,036,854,775,807'\n",
    "print(type(number))\n",
    "for i in range(0,len(number)):\n",
    "    if number[i] in '0123456789':\n",
    "        print(number[i],end='')"
   ],
   "metadata": {
    "collapsed": false,
    "pycharm": {
     "name": "#%%\n",
     "is_executing": false
    }
   }
  },
  {
   "cell_type": "code",
   "execution_count": 8,
   "outputs": [
    {
     "name": "stdout",
     "text": [
      "<class 'int'>\nThe number is 9223372036854775807\n"
     ],
     "output_type": "stream"
    }
   ],
   "source": [
    "number = '9,223,372,036,854,775,807'\n",
    "cleanedNumber =''\n",
    "\n",
    "for i in range(0,len(number)):\n",
    "    if number[i] in '0123456789':\n",
    "        cleanedNumber = cleanedNumber + number[i]\n",
    "        \n",
    "newNumber = int(cleanedNumber)\n",
    "print(type(newNumber))\n",
    "print(\"The number is {}\".format(newNumber))"
   ],
   "metadata": {
    "collapsed": false,
    "pycharm": {
     "name": "#%%\n",
     "is_executing": false
    }
   }
  },
  {
   "cell_type": "code",
   "execution_count": 2,
   "outputs": [
    {
     "name": "stdout",
     "text": [
      "1\n2\n3\n4\n5\n6\n7\n8\n9\n10\nSusscesfully Executed\n"
     ],
     "output_type": "stream"
    }
   ],
   "source": [
    "val = 0\n",
    "while val < 10:\n",
    "    val = val + 1\n",
    "    print(val)\n",
    "else:\n",
    "    print(\"Susscesfully Executed\")"
   ],
   "metadata": {
    "collapsed": false,
    "pycharm": {
     "name": "#%%\n",
     "is_executing": false
    }
   }
  },
  {
   "cell_type": "code",
   "execution_count": null,
   "outputs": [],
   "source": [
    "\n"
   ],
   "metadata": {
    "collapsed": false,
    "pycharm": {
     "name": "#%%\n"
    }
   }
  }
 ],
 "metadata": {
  "language_info": {
   "codemirror_mode": {
    "name": "ipython",
    "version": 2
   },
   "file_extension": ".py",
   "mimetype": "text/x-python",
   "name": "python",
   "nbconvert_exporter": "python",
   "pygments_lexer": "ipython2",
   "version": "2.7.6"
  },
  "kernelspec": {
   "name": "python3",
   "language": "python",
   "display_name": "Python 3"
  },
  "pycharm": {
   "stem_cell": {
    "cell_type": "raw",
    "source": [],
    "metadata": {
     "collapsed": false
    }
   }
  }
 },
 "nbformat": 4,
 "nbformat_minor": 0
}