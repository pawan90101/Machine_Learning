{
 "cells": [
  {
   "cell_type": "code",
   "execution_count": 5,
   "metadata": {
    "collapsed": true,
    "pycharm": {
     "is_executing": false
    }
   },
   "outputs": [
    {
     "name": "stdout",
     "text": [
      "{'A', 'y', 'T', 'u', 'P', 'i', 't', 'r', 'a', 'l', 'o', 'n', ' ', 'h'}\n"
     ],
     "output_type": "stream"
    },
    {
     "data": {
      "text/plain": "set"
     },
     "metadata": {},
     "output_type": "execute_result",
     "execution_count": 5
    }
   ],
   "source": [
    "#duplicacy is not allowed into set\n",
    "x = set(\"A Python Tutorial\")\n",
    "print(x)\n",
    "type(x)"
   ]
  },
  {
   "cell_type": "code",
   "execution_count": 6,
   "outputs": [
    {
     "name": "stdout",
     "text": [
      "{'Python', 'Perl', 'Java'}\n"
     ],
     "output_type": "stream"
    }
   ],
   "source": [
    "#We can pass a list to the built-in set function, as we can see in the following:\n",
    "x = set([\"Perl\", \"Python\", \"Java\"])\n",
    "print(x) "
   ],
   "metadata": {
    "collapsed": false,
    "pycharm": {
     "name": "#%%\n",
     "is_executing": false
    }
   }
  },
  {
   "cell_type": "code",
   "execution_count": 7,
   "outputs": [
    {
     "name": "stdout",
     "text": [
      "{'Paris', 'Birmingham', 'London', 'Lyon', 'Berlin'}\n"
     ],
     "output_type": "stream"
    }
   ],
   "source": [
    "#if we pass a tuple with reappearing elements to the set function\n",
    "cities = set((\"Paris\", \"Lyon\", \"London\",\"Berlin\",\"Paris\",\"Birmingham\"))\n",
    "print(cities)\n",
    "\n"
   ],
   "metadata": {
    "collapsed": false,
    "pycharm": {
     "name": "#%%\n",
     "is_executing": false
    }
   }
  },
  {
   "cell_type": "code",
   "execution_count": 10,
   "outputs": [
    {
     "name": "stdout",
     "text": [
      "{('Python', 'Perl'), ('Paris', 'Berlin', 'London')}\n"
     ],
     "output_type": "stream"
    },
    {
     "traceback": [
      "\u001b[1;31m---------------------------------------------------------------------------\u001b[0m",
      "\u001b[1;31mTypeError\u001b[0m                                 Traceback (most recent call last)",
      "\u001b[1;32m<ipython-input-10-dd34196a57d6>\u001b[0m in \u001b[0;36m<module>\u001b[1;34m\u001b[0m\n\u001b[0;32m      2\u001b[0m \u001b[0mcities\u001b[0m \u001b[1;33m=\u001b[0m \u001b[0mset\u001b[0m\u001b[1;33m(\u001b[0m\u001b[1;33m(\u001b[0m\u001b[1;33m(\u001b[0m\u001b[1;34m\"Python\"\u001b[0m\u001b[1;33m,\u001b[0m\u001b[1;34m\"Perl\"\u001b[0m\u001b[1;33m)\u001b[0m\u001b[1;33m,\u001b[0m \u001b[1;33m(\u001b[0m\u001b[1;34m\"Paris\"\u001b[0m\u001b[1;33m,\u001b[0m \u001b[1;34m\"Berlin\"\u001b[0m\u001b[1;33m,\u001b[0m \u001b[1;34m\"London\"\u001b[0m\u001b[1;33m)\u001b[0m\u001b[1;33m)\u001b[0m\u001b[1;33m)\u001b[0m\u001b[1;33m\u001b[0m\u001b[1;33m\u001b[0m\u001b[0m\n\u001b[0;32m      3\u001b[0m \u001b[0mprint\u001b[0m\u001b[1;33m(\u001b[0m\u001b[0mcities\u001b[0m\u001b[1;33m)\u001b[0m\u001b[1;33m\u001b[0m\u001b[1;33m\u001b[0m\u001b[0m\n\u001b[1;32m----> 4\u001b[1;33m \u001b[0mcities\u001b[0m \u001b[1;33m=\u001b[0m \u001b[0mset\u001b[0m\u001b[1;33m(\u001b[0m\u001b[1;33m(\u001b[0m\u001b[1;33m[\u001b[0m\u001b[1;34m\"Python\"\u001b[0m\u001b[1;33m,\u001b[0m\u001b[1;34m\"Perl\"\u001b[0m\u001b[1;33m]\u001b[0m\u001b[1;33m,\u001b[0m \u001b[1;33m[\u001b[0m\u001b[1;34m\"Paris\"\u001b[0m\u001b[1;33m,\u001b[0m \u001b[1;34m\"Berlin\"\u001b[0m\u001b[1;33m,\u001b[0m \u001b[1;34m\"London\"\u001b[0m\u001b[1;33m]\u001b[0m\u001b[1;33m)\u001b[0m\u001b[1;33m)\u001b[0m\u001b[1;33m\u001b[0m\u001b[1;33m\u001b[0m\u001b[0m\n\u001b[0m",
      "\u001b[1;31mTypeError\u001b[0m: unhashable type: 'list'"
     ],
     "ename": "TypeError",
     "evalue": "unhashable type: 'list'",
     "output_type": "error"
    }
   ],
   "source": [
    "#Sets are implemented in a way, which doesn't allow mutable objects. The following example demonstrates that we cannot include, for example, lists as elements:\n",
    "cities = set(((\"Python\",\"Perl\"), (\"Paris\", \"Berlin\", \"London\")))\n",
    "print(cities)\n",
    "cities = set(([\"Python\",\"Perl\"], [\"Paris\", \"Berlin\", \"London\"]))\n",
    "#we use objects and that objects are mutabe and set does not allow to mutable objecs\n",
    "#we can use only one mutable object like list,string etc;"
   ],
   "metadata": {
    "collapsed": false,
    "pycharm": {
     "name": "#%%\n",
     "is_executing": false
    }
   }
  },
  {
   "cell_type": "code",
   "execution_count": 20,
   "outputs": [
    {
     "name": "stdout",
     "text": [
      "{'noida', 'Frankfurt', 'Freiburg', 'Basel'}\n{'Frankfurt', 'Freiburg', 'Basel'}\n{'Frankfurt', 'Freiburg', 'Basel'}\n"
     ],
     "output_type": "stream"
    }
   ],
   "source": [
    "#some basic function\n",
    "cities = set([\"Frankfurt\", \"Basel\",\"Freiburg\"])\n",
    "cities.add(\"noida\")\n",
    "print(cities)\n",
    "cities.discard(\"noida\")\n",
    "print(cities)\n",
    "#cities.clear()cities[\"Frankfurt\"] = \"London\"\n",
    "print(cities)"
   ],
   "metadata": {
    "collapsed": false,
    "pycharm": {
     "name": "#%%\n",
     "is_executing": false
    }
   }
  },
  {
   "cell_type": "code",
   "execution_count": 25,
   "outputs": [
    {
     "name": "stdout",
     "text": [
      "{'Winterthur', 'St. Gallen', 'Schaffhausen'}\nset()\n{'Winterthur', 'St. Gallen', 'Schaffhausen'}\n"
     ],
     "output_type": "stream"
    }
   ],
   "source": [
    "#copy example\n",
    "more_cities = set((\"Winterthur\",\"Schaffhausen\",\"St. Gallen\"))\n",
    "print (more_cities)\n",
    "copycities = more_cities.copy()\n",
    "more_cities.clear()\n",
    "print(more_cities)\n",
    "print(copycities)"
   ],
   "metadata": {
    "collapsed": false,
    "pycharm": {
     "name": "#%%\n",
     "is_executing": false
    }
   }
  },
  {
   "cell_type": "code",
   "execution_count": 33,
   "outputs": [
    {
     "name": "stdout",
     "text": [
      "{'d', 'a', 'e'}\n{'d', 'a', 'e'}\n{'a', 'e'}\n{'a', 'e'}\n{'d', 'a', 'e'}\n"
     ],
     "output_type": "stream"
    }
   ],
   "source": [
    "#difrence() exmaple This method returns the difference of two or more sets as a new set.\n",
    "x = {\"a\",\"b\",\"c\",\"d\",\"e\"}\n",
    "y = {\"b\",\"c\"}\n",
    "z = {\"c\",\"d\"}\n",
    "print(x.difference(y))#same as x-y\n",
    "print( x-y)\n",
    "print(x.difference(y).difference(z))#sane as x-y-z\n",
    "print( x-y-z)\n",
    "x.difference_update(y)#same as x = x-y\n",
    "print(x)\n",
    "\n"
   ],
   "metadata": {
    "collapsed": false,
    "pycharm": {
     "name": "#%%\n",
     "is_executing": false
    }
   }
  },
  {
   "cell_type": "code",
   "execution_count": 31,
   "outputs": [
    {
     "name": "stdout",
     "text": [
      "{'g', 'b', 'd', 'c', 'a', 'f', 'e'}\n{'g', 'b', 'd', 'c', 'a', 'f', 'e'}\n"
     ],
     "output_type": "stream"
    }
   ],
   "source": [
    "#union() This method returns the union of two sets as a new set, i.e. all elements that are in either set.\n",
    "x = {\"a\",\"b\",\"c\",\"d\",\"e\"}\n",
    "y = {\"c\",\"d\",\"e\",\"f\",\"g\"}\n",
    "print(x.union(y))#same as x|y\n",
    "print(x|y)\n"
   ],
   "metadata": {
    "collapsed": false,
    "pycharm": {
     "name": "#%%\n",
     "is_executing": false
    }
   }
  },
  {
   "cell_type": "code",
   "execution_count": 34,
   "outputs": [
    {
     "name": "stdout",
     "text": [
      "{'d', 'c', 'e'}\n{'d', 'c', 'e'}\n"
     ],
     "output_type": "stream"
    }
   ],
   "source": [
    "#intersection() Returns the intersection of the instance set and the set s as a new set. In other words: A set with all the elements which are contained in both sets is returned.\n",
    "x = {\"a\",\"b\",\"c\",\"d\",\"e\"}\n",
    "y = {\"c\",\"d\",\"e\",\"f\",\"g\"}\n",
    "print(x.intersection(y)) #as same as x&y\n",
    "print(x&y)"
   ],
   "metadata": {
    "collapsed": false,
    "pycharm": {
     "name": "#%%\n",
     "is_executing": false
    }
   }
  },
  {
   "cell_type": "code",
   "execution_count": 36,
   "outputs": [
    {
     "name": "stdout",
     "text": [
      "False\nTrue\n"
     ],
     "output_type": "stream"
    }
   ],
   "source": [
    "#isdisjoint() This method returns True if two sets have a null intersection.\n",
    "x = {\"a\",\"b\",\"c\"}\n",
    "y = {\"c\",\"d\",\"e\"}\n",
    "print(x.isdisjoint(y))\n",
    "x = {\"a\",\"b\",\"c\"}\n",
    "y = {\"d\",\"e\",\"f\"}\n",
    "print(x.isdisjoint(y))"
   ],
   "metadata": {
    "collapsed": false,
    "pycharm": {
     "name": "#%%\n",
     "is_executing": false
    }
   }
  },
  {
   "cell_type": "code",
   "execution_count": 38,
   "outputs": [
    {
     "name": "stdout",
     "text": [
      "False\nTrue\nFalse\nTrue\nFalse\nTrue\n"
     ],
     "output_type": "stream"
    }
   ],
   "source": [
    "# issubset()\n",
    "#x.issubset(y) returns True, if x is a subset of y. \"<=\" is an abbreviation for \"Subset of\" and \">=\" for \"superset of\"\n",
    "#\"<\" is used to check if a set is a proper subset of a set.\n",
    "x = {\"a\",\"b\",\"c\",\"d\",\"e\"}\n",
    "y = {\"c\",\"d\"}\n",
    "print(x.issubset(y))\n",
    "print(y.issubset(x))\n",
    "print(x < y)\n",
    "print(y < x )# y is a proper subset of x\n",
    "print(x < x) # a set can never be a proper subset of oneself.\n",
    "print(x <= x )"
   ],
   "metadata": {
    "collapsed": false,
    "pycharm": {
     "name": "#%%\n",
     "is_executing": false
    }
   }
  }
 ],
 "metadata": {
  "language_info": {
   "codemirror_mode": {
    "name": "ipython",
    "version": 2
   },
   "file_extension": ".py",
   "mimetype": "text/x-python",
   "name": "python",
   "nbconvert_exporter": "python",
   "pygments_lexer": "ipython2",
   "version": "2.7.6"
  },
  "kernelspec": {
   "name": "python3",
   "language": "python",
   "display_name": "Python 3"
  },
  "pycharm": {
   "stem_cell": {
    "cell_type": "raw",
    "source": [],
    "metadata": {
     "collapsed": false
    }
   }
  }
 },
 "nbformat": 4,
 "nbformat_minor": 0
}