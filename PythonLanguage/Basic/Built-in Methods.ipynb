{
 "cells": [
  {
   "cell_type": "code",
   "execution_count": 2,
   "metadata": {
    "collapsed": true,
    "pycharm": {
     "is_executing": false
    }
   },
   "outputs": [
    {
     "name": "stdout",
     "text": [
      "Absolute value of -20 is: 20\nAbsolute value of -30.33 is: 30.33\n"
     ],
     "output_type": "stream"
    }
   ],
   "source": [
    "#Python abs()\treturns absolute value of a number\n",
    "\n",
    "'''\n",
    "Return value from abs()\n",
    "The abs() method returns the absolute value of the given number.\n",
    "\n",
    "For integers - integer absolute value is returned\n",
    "For floating numbers - floating absolute value is returned\n",
    "For complex numbers - magnitude of the number is returned\n",
    "'''\n",
    "\n",
    "# random integer\n",
    "integer = -20\n",
    "print('Absolute value of -20 is:', abs(integer))\n",
    "\n",
    "#random floating number\n",
    "floating = -30.33\n",
    "print('Absolute value of -30.33 is:', abs(floating))"
   ]
  },
  {
   "cell_type": "code",
   "execution_count": 3,
   "outputs": [
    {
     "name": "stdout",
     "text": [
      "True\nFalse\nFalse\nFalse\nTrue\n"
     ],
     "output_type": "stream"
    }
   ],
   "source": [
    "#Python all()\treturns true when all elements in iterable is true\n",
    "'''\n",
    "Return Value from all()\n",
    "The all() method returns:\n",
    "\n",
    "True - If all elements in an iterable are true\n",
    "False - If any element in an iterable is false\n",
    "Truth table for all()\n",
    "When\t                               Return Value\n",
    "All values are true\t                    True\n",
    "All values are false\t                False\n",
    "One value is true (others are false)\tFalse\n",
    "One value is false (others are true)\tFalse\n",
    "Empty Iterable\t                        True\n",
    "'''\n",
    "# all values true\n",
    "l = [1, 3, 4, 5]\n",
    "print(all(l))\n",
    "\n",
    "# all values false\n",
    "l = [0, False]\n",
    "print(all(l))\n",
    "\n",
    "# one false value\n",
    "l = [1, 3, 4, 0]\n",
    "print(all(l))\n",
    "\n",
    "# one true value\n",
    "l = [0, False, 5]\n",
    "print(all(l))\n",
    "\n",
    "# empty iterable\n",
    "l = []\n",
    "print(all(l))"
   ],
   "metadata": {
    "collapsed": false,
    "pycharm": {
     "name": "#%%\n",
     "is_executing": false
    }
   }
  },
  {
   "cell_type": "code",
   "execution_count": 4,
   "outputs": [
    {
     "name": "stdout",
     "text": [
      "True\nFalse\nTrue\nFalse\n"
     ],
     "output_type": "stream"
    }
   ],
   "source": [
    "#Python any()\tChecks if any Element of an Iterable is True\n",
    "\n",
    "'''\n",
    "Return Value from any()\n",
    "any() returns:\n",
    "\n",
    "True if at least one element of an iterable is true\n",
    "False if all elements are false or if an iterable is empty\n",
    "When\t                            Return Value\n",
    "All values are true\t                    True\n",
    "All values are false\t                False\n",
    "One value is true (others are false)\tTrue\n",
    "One value is false (others are true)\tTrue\n",
    "Empty Iterable\t                        False\n",
    "'''\n",
    "\n",
    "l = [1, 3, 4, 0]\n",
    "print(any(l))\n",
    "\n",
    "l = [0, False]\n",
    "print(any(l))\n",
    "\n",
    "l = [0, False, 5]\n",
    "print(any(l))\n",
    "\n",
    "l = []\n",
    "print(any(l))\n"
   ],
   "metadata": {
    "collapsed": false,
    "pycharm": {
     "name": "#%%\n",
     "is_executing": false
    }
   }
  },
  {
   "cell_type": "code",
   "execution_count": 5,
   "outputs": [
    {
     "name": "stdout",
     "text": [
      "'Python is interesting'\n'Pyth\\xf6n is interesting'\nPythön is interesting\n"
     ],
     "output_type": "stream"
    }
   ],
   "source": [
    "#Python ascii()\tReturns String Containing Printable Representation\n",
    "\n",
    "normalText = 'Python is interesting'\n",
    "print(ascii(normalText))\n",
    "\n",
    "otherText = 'Pythön is interesting'\n",
    "print(ascii(otherText))\n",
    "\n",
    "print('Pyth\\xf6n is interesting')\n"
   ],
   "metadata": {
    "collapsed": false,
    "pycharm": {
     "name": "#%%\n",
     "is_executing": false
    }
   }
  },
  {
   "cell_type": "code",
   "execution_count": 14,
   "outputs": [
    {
     "name": "stdout",
     "text": [
      "The binary equivalent of 5 is: 0b101\nThe binary equivalent of quantity is: 0b101\n"
     ],
     "output_type": "stream"
    }
   ],
   "source": [
    "#Python bin()\tconverts integer to binary string\n",
    "\n",
    "number = 5\n",
    "print('The binary equivalent of 5 is:', bin(number))\n",
    "\n",
    "\n",
    "class Quantity:\n",
    "    apple = 1\n",
    "    orange = 2\n",
    "    grapes = 2\n",
    "    \n",
    "    def __index__(self):\n",
    "        return self.apple + self.orange + self.grapes\n",
    "        \n",
    "print('The binary equivalent of quantity is:', bin(Quantity()))"
   ],
   "metadata": {
    "collapsed": false,
    "pycharm": {
     "name": "#%%\n",
     "is_executing": false
    }
   }
  },
  {
   "cell_type": "code",
   "execution_count": 7,
   "outputs": [
    {
     "name": "stdout",
     "text": [
      "[] is False\n[0] is True\n0.0 is False\nNone is False\nTrue is True\nEasy string is True\n"
     ],
     "output_type": "stream"
    }
   ],
   "source": [
    "#Python bool()\tConverts a Value to Boolean\n",
    "\n",
    "'''\n",
    "The following values are considered false in Python:\n",
    "\n",
    "*None\n",
    "*False\n",
    "*Zero of any numeric type. For example, 0, 0.0, 0j\n",
    "*Empty sequence. For example, (), [], ''.\n",
    "*Empty mapping. For example, {}\n",
    "*objects of Classes which has __bool__() or __len()__ method which returns 0 or False\n",
    "All other values except these values are considered true.\n",
    "'''\n",
    "test = []\n",
    "print(test,'is',bool(test))\n",
    "\n",
    "test = [0]\n",
    "print(test,'is',bool(test))\n",
    "\n",
    "test = 0.0\n",
    "print(test,'is',bool(test))\n",
    "\n",
    "test = None\n",
    "print(test,'is',bool(test))\n",
    "\n",
    "test = True\n",
    "print(test,'is',bool(test))\n",
    "\n",
    "test = 'Easy string'\n",
    "print(test,'is',bool(test))"
   ],
   "metadata": {
    "collapsed": false,
    "pycharm": {
     "name": "#%%\n",
     "is_executing": false
    }
   }
  },
  {
   "cell_type": "code",
   "execution_count": 13,
   "outputs": [
    {
     "name": "stdout",
     "text": [
      "bytearray(b'Python is interesting.')\nbytearray(b'\\x00\\x00\\x00\\x00\\x00')\nbytearray(b'\\x01\\x02\\x03\\x04\\x05')\n"
     ],
     "output_type": "stream"
    }
   ],
   "source": [
    "#Python bytearray()\treturns array of given byte size\n",
    "\n",
    "string = \"Python is interesting.\"\n",
    "\n",
    "# string with encoding 'utf-8'\n",
    "arr = bytearray(string, 'utf-8')\n",
    "print(arr)\n",
    "\n",
    "\n",
    "size = 5\n",
    "\n",
    "arr = bytearray(size)\n",
    "print(arr)\n",
    "\n",
    "rList = [1, 2, 3, 4, 5]\n",
    "\n",
    "arr = bytearray(rList)\n",
    "print(arr)"
   ],
   "metadata": {
    "collapsed": false,
    "pycharm": {
     "name": "#%%\n",
     "is_executing": false
    }
   }
  },
  {
   "cell_type": "code",
   "execution_count": 12,
   "outputs": [
    {
     "name": "stdout",
     "text": [
      "b'Python is interesting.'\nb'\\x00\\x00\\x00\\x00\\x00'\nb'\\x01\\x02\\x03\\x04\\x05'\n"
     ],
     "output_type": "stream"
    }
   ],
   "source": [
    "#Python bytes()\treturns immutable bytes object\n",
    "\n",
    "string = \"Python is interesting.\"\n",
    "\n",
    "# string with encoding 'utf-8'\n",
    "arr = bytes(string, 'utf-8')\n",
    "print(arr)\n",
    "\n",
    "size = 5\n",
    "\n",
    "arr = bytes(size)\n",
    "print(arr)\n",
    "\n",
    "rList = [1, 2, 3, 4, 5]\n",
    "\n",
    "arr = bytes(rList)\n",
    "print(arr)"
   ],
   "metadata": {
    "collapsed": false,
    "pycharm": {
     "name": "#%%\n",
     "is_executing": false
    }
   }
  },
  {
   "cell_type": "code",
   "execution_count": 17,
   "outputs": [
    {
     "name": "stdout",
     "text": [
      "False\nTrue\nTrue\nTrue\n"
     ],
     "output_type": "stream"
    }
   ],
   "source": [
    "# Python callable()\tChecks if the Object is Callable\n",
    "\n",
    "x = 5\n",
    "print(callable(x))\n",
    "\n",
    "def testFunction():\n",
    "  print(\"Test\")\n",
    "\n",
    "y = testFunction\n",
    "print(callable(y))\n",
    "\n",
    "\n",
    "class Foo:\n",
    "  def __call__(self):\n",
    "    print('Print Something')\n",
    "\n",
    "print(callable(Foo))\n",
    "\n",
    "\n",
    "class Foo:\n",
    "  def printLine(self):\n",
    "    print('Print Something')\n",
    "\n",
    "print(callable(Foo))"
   ],
   "metadata": {
    "collapsed": false,
    "pycharm": {
     "name": "#%%\n",
     "is_executing": false
    }
   }
  },
  {
   "cell_type": "code",
   "execution_count": 18,
   "outputs": [
    {
     "name": "stdout",
     "text": [
      "a\nA\nҰ\n"
     ],
     "output_type": "stream"
    }
   ],
   "source": [
    "#Python chr()\tReturns a Character (a string) from an Integer\n",
    "\n",
    "print(chr(97))\n",
    "print(chr(65))\n",
    "print(chr(1200))\n",
    "#print(chr(-1))"
   ],
   "metadata": {
    "collapsed": false,
    "pycharm": {
     "name": "#%%\n",
     "is_executing": false
    }
   }
  },
  {
   "cell_type": "code",
   "execution_count": 20,
   "outputs": [
    {
     "name": "stdout",
     "text": [
      "The filtered vowels are:\na\ne\ni\no\nThe filtered elements are:\n1\na\nTrue\n0\n"
     ],
     "output_type": "stream"
    }
   ],
   "source": [
    "#Python filter()\tconstructs iterator from elements which are true\n",
    "\n",
    "# list of alphabets\n",
    "alphabets = ['a', 'b', 'd', 'e', 'i', 'j', 'o']\n",
    "\n",
    "# function that filters vowels\n",
    "def filterVowels(alphabet):\n",
    "    vowels = ['a', 'e', 'i', 'o', 'u']\n",
    "\n",
    "    if(alphabet in vowels):\n",
    "        return True\n",
    "    else:\n",
    "        return False\n",
    "\n",
    "filteredVowels = filter(filterVowels, alphabets)\n",
    "\n",
    "print('The filtered vowels are:')\n",
    "for vowel in filteredVowels:\n",
    "    print(vowel)\n",
    "    \n",
    "\n",
    "# random list\n",
    "randomList = [1, 'a', 0, False, True, '0']\n",
    "\n",
    "filteredList = filter(None, randomList)\n",
    "\n",
    "print('The filtered elements are:')\n",
    "for element in filteredList:\n",
    "    print(element)"
   ],
   "metadata": {
    "collapsed": false,
    "pycharm": {
     "name": "#%%\n",
     "is_executing": false
    }
   }
  },
  {
   "cell_type": "code",
   "execution_count": 22,
   "outputs": [
    {
     "name": "stdout",
     "text": [
      "The age is: 25\n"
     ],
     "output_type": "stream"
    }
   ],
   "source": [
    "#Python globals()\treturns dictionary of current global symbol table\n",
    "\n",
    "#globals()\n",
    "\n",
    "age = 23\n",
    "\n",
    "globals()['age'] = 25\n",
    "print('The age is:', age)"
   ],
   "metadata": {
    "collapsed": false,
    "pycharm": {
     "name": "#%%\n",
     "is_executing": false
    }
   }
  },
  {
   "cell_type": "code",
   "execution_count": 26,
   "outputs": [
    {
     "name": "stdout",
     "text": [
      "localsNotPresent: {}\nlocalsPresent: {'present': True}\nTrue\nTrue\n"
     ],
     "output_type": "stream"
    }
   ],
   "source": [
    "#Python locals()\tReturns dictionary of a current local symbol table\n",
    "\n",
    "\n",
    "#locals()\n",
    "\n",
    "def localsNotPresent():\n",
    "    return locals()\n",
    "\n",
    "def localsPresent():\n",
    "    present = True\n",
    "    return locals()\n",
    "\n",
    "print('localsNotPresent:', localsNotPresent())\n",
    "print('localsPresent:', localsPresent())\n",
    "\n",
    "\n",
    "def localsPresent():\n",
    "    present = True\n",
    "    print(present)\n",
    "    locals()['present'] = False\n",
    "    print(present)\n",
    "\n",
    "localsPresent()"
   ],
   "metadata": {
    "collapsed": false,
    "pycharm": {
     "name": "#%%\n",
     "is_executing": false
    }
   }
  },
  {
   "cell_type": "code",
   "execution_count": null,
   "outputs": [],
   "source": [],
   "metadata": {
    "collapsed": false,
    "pycharm": {
     "name": "#%%\n"
    }
   }
  }
 ],
 "metadata": {
  "language_info": {
   "codemirror_mode": {
    "name": "ipython",
    "version": 2
   },
   "file_extension": ".py",
   "mimetype": "text/x-python",
   "name": "python",
   "nbconvert_exporter": "python",
   "pygments_lexer": "ipython2",
   "version": "2.7.6"
  },
  "kernelspec": {
   "name": "python3",
   "language": "python",
   "display_name": "Python 3"
  },
  "pycharm": {
   "stem_cell": {
    "cell_type": "raw",
    "source": [],
    "metadata": {
     "collapsed": false
    }
   }
  }
 },
 "nbformat": 4,
 "nbformat_minor": 0
}