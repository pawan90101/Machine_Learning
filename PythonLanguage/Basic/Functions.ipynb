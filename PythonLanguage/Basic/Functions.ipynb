{
 "cells": [
  {
   "cell_type": "code",
   "execution_count": 1,
   "metadata": {
    "collapsed": true,
    "pycharm": {
     "is_executing": false
    }
   },
   "outputs": [
    {
     "name": "stdout",
     "text": [
      "Hello, Knowledge Shelf\n"
     ],
     "output_type": "stream"
    }
   ],
   "source": [
    "#Functions \n",
    "def function1():\n",
    "    print(\"Hello, Knowledge Shelf\")\n",
    "    \n",
    "function1()"
   ]
  },
  {
   "cell_type": "code",
   "execution_count": 3,
   "outputs": [
    {
     "name": "stdout",
     "text": [
      "Sum =  50\n"
     ],
     "output_type": "stream"
    }
   ],
   "source": [
    "#1. No Arguments No Return Type\n",
    "def add():\n",
    "    var1 = int(input(\"Enter the value of num1 : \"))\n",
    "    var2 = int(input(\"Enter the value of num2 : \"))\n",
    "    var3 = var1 + var2\n",
    "    print(\"Sum = \",var3)\n",
    "    \n",
    "add()"
   ],
   "metadata": {
    "collapsed": false,
    "pycharm": {
     "name": "#%%\n",
     "is_executing": false
    }
   }
  },
  {
   "cell_type": "code",
   "execution_count": 4,
   "outputs": [
    {
     "name": "stdout",
     "text": [
      "Sub =  6\n"
     ],
     "output_type": "stream"
    }
   ],
   "source": [
    "#2. With Arguments and No Retyrn Type\n",
    "def sub(var1, var2):\n",
    "    var3 = var1 - var2\n",
    "    print(\"Sub = \",var3)\n",
    "    \n",
    "sub(12,6)"
   ],
   "metadata": {
    "collapsed": false,
    "pycharm": {
     "name": "#%%\n",
     "is_executing": false
    }
   }
  },
  {
   "cell_type": "code",
   "execution_count": 5,
   "outputs": [
    {
     "name": "stdout",
     "text": [
      "Multiply =  5382\n"
     ],
     "output_type": "stream"
    }
   ],
   "source": [
    "#3. No Argument and with return type\n",
    "def multiply():\n",
    "    var1 = int(input(\"Enter the value of num1 : \"))\n",
    "    var2 = int(input(\"Enter the value of num2 : \"))\n",
    "    var3 = var1 * var2\n",
    "    return var3\n",
    "\n",
    "var4 = multiply()\n",
    "print(\"Multiply = \",var4)"
   ],
   "metadata": {
    "collapsed": false,
    "pycharm": {
     "name": "#%%\n",
     "is_executing": false
    }
   }
  },
  {
   "cell_type": "code",
   "execution_count": 8,
   "outputs": [
    {
     "name": "stdout",
     "text": [
      "Division = 5.44\n"
     ],
     "output_type": "stream"
    }
   ],
   "source": [
    "#4. With Argument and With Return Type\n",
    "def div(var1, var2):\n",
    "    var3 = var1/var2\n",
    "    return var3\n",
    "var4 =  div(49,9)\n",
    "print(\"Division = %.2f\"%var4)\n"
   ],
   "metadata": {
    "collapsed": false,
    "pycharm": {
     "name": "#%%\n",
     "is_executing": false
    }
   }
  },
  {
   "cell_type": "code",
   "execution_count": 1,
   "outputs": [
    {
     "name": "stdout",
     "text": [
      "[20, 11, 12, 13, 14, 15]\n"
     ],
     "output_type": "stream"
    }
   ],
   "source": [
    "# Here x is a new reference to same list lst \n",
    "def myFun(x): \n",
    "   x[0] = 20\n",
    "  \n",
    "# Driver Code (Note that lst is modified \n",
    "# after function call. \n",
    "lst = [10, 11, 12, 13, 14, 15]  \n",
    "myFun(lst); \n",
    "print(lst)  "
   ],
   "metadata": {
    "collapsed": false,
    "pycharm": {
     "name": "#%%\n",
     "is_executing": false
    }
   }
  },
  {
   "cell_type": "code",
   "execution_count": 2,
   "outputs": [
    {
     "name": "stdout",
     "text": [
      "[10, 11, 12, 13, 14, 15]\n"
     ],
     "output_type": "stream"
    }
   ],
   "source": [
    "def myFun(x): \n",
    "  \n",
    "   # After below line link of x with previous \n",
    "   # object gets broken. A new object is assigned \n",
    "   # to x. \n",
    "   x = [20, 30, 40] \n",
    "  \n",
    "# Driver Code (Note that lst is not modified \n",
    "# after function call. \n",
    "lst = [10, 11, 12, 13, 14, 15]  \n",
    "myFun(lst); \n",
    "print(lst)  "
   ],
   "metadata": {
    "collapsed": false,
    "pycharm": {
     "name": "#%%\n",
     "is_executing": false
    }
   }
  },
  {
   "cell_type": "code",
   "execution_count": 3,
   "outputs": [
    {
     "name": "stdout",
     "text": [
      "10\n"
     ],
     "output_type": "stream"
    }
   ],
   "source": [
    "def myFun(x): \n",
    "  \n",
    "   # After below line link of x with previous \n",
    "   # object gets broken. A new object is assigned \n",
    "   # to x. \n",
    "   x = 20\n",
    "  \n",
    "# Driver Code (Note that lst is not modified \n",
    "# after function call. \n",
    "x = 10 \n",
    "myFun(x); \n",
    "print(x)  "
   ],
   "metadata": {
    "collapsed": false,
    "pycharm": {
     "name": "#%%\n",
     "is_executing": false
    }
   }
  },
  {
   "cell_type": "code",
   "execution_count": 4,
   "outputs": [
    {
     "name": "stdout",
     "text": [
      "2\n3\n"
     ],
     "output_type": "stream"
    }
   ],
   "source": [
    "def swap(x, y): \n",
    "    temp = x; \n",
    "    x = y; \n",
    "    y = temp; \n",
    "  \n",
    "# Driver code \n",
    "x = 2\n",
    "y = 3\n",
    "swap(x, y) \n",
    "print(x) \n",
    "print(y) "
   ],
   "metadata": {
    "collapsed": false,
    "pycharm": {
     "name": "#%%\n",
     "is_executing": false
    }
   }
  },
  {
   "cell_type": "code",
   "execution_count": 5,
   "outputs": [
    {
     "name": "stdout",
     "text": [
      "x:  10\ny:  50\n"
     ],
     "output_type": "stream"
    }
   ],
   "source": [
    "# Python program to demonstrate \n",
    "# default arguments \n",
    "def myFun(x, y=50): \n",
    "    print(\"x: \", x) \n",
    "    print(\"y: \", y) \n",
    "  \n",
    "# Driver code (We call myFun() with only \n",
    "# argument) \n",
    "myFun(10) \n",
    "\n"
   ],
   "metadata": {
    "collapsed": false,
    "pycharm": {
     "name": "#%%\n",
     "is_executing": false
    }
   }
  },
  {
   "cell_type": "code",
   "execution_count": 6,
   "outputs": [
    {
     "name": "stdout",
     "text": [
      "Pawan Kumar\nPawan Kumar\n"
     ],
     "output_type": "stream"
    }
   ],
   "source": [
    "# Python program to demonstrate Keyword Arguments \n",
    "def student(firstname, lastname):  \n",
    "     print(firstname, lastname)  \n",
    "    \n",
    "    \n",
    "# Keyword arguments                   \n",
    "student(firstname ='Pawan', lastname ='Kumar')     \n",
    "student(lastname ='Kumar', firstname ='Pawan')   "
   ],
   "metadata": {
    "collapsed": false,
    "pycharm": {
     "name": "#%%\n",
     "is_executing": false
    }
   }
  },
  {
   "cell_type": "code",
   "execution_count": 10,
   "outputs": [
    {
     "name": "stdout",
     "text": [
      "Hello\nPawan\nHow\nare\nYou\n"
     ],
     "output_type": "stream"
    }
   ],
   "source": [
    "# Python program to illustrate   \n",
    "# *args for variable number of arguments \n",
    "def myFun(*argv):  \n",
    "    for arg in argv:  \n",
    "        print (arg) \n",
    "    \n",
    "myFun('Hello', 'Pawan', 'How', 'are', 'You')  "
   ],
   "metadata": {
    "collapsed": false,
    "pycharm": {
     "name": "#%%\n",
     "is_executing": false
    }
   }
  },
  {
   "cell_type": "code",
   "execution_count": 8,
   "outputs": [
    {
     "name": "stdout",
     "text": [
      "first == Pawan\nmid == Kumar\nlast == Singh\n"
     ],
     "output_type": "stream"
    }
   ],
   "source": [
    "# Python program to illustrate   \n",
    "# *kargs for variable number of keyword arguments \n",
    "  \n",
    "def myFun(**kwargs):  \n",
    "    for key, value in kwargs.items(): \n",
    "        print (\"%s == %s\" %(key, value)) \n",
    "  \n",
    "# Driver code \n",
    "myFun(first ='Pawan', mid ='Kumar', last='Singh')  "
   ],
   "metadata": {
    "collapsed": false,
    "pycharm": {
     "name": "#%%\n",
     "is_executing": false
    }
   }
  },
  {
   "cell_type": "code",
   "execution_count": null,
   "outputs": [],
   "source": [
    "# Python code to illustrate cube of a number   \n",
    "# using labmda function  \n",
    "    \n",
    "cube = lambda x: x*x*x  \n",
    "print(cube(7)) "
   ],
   "metadata": {
    "collapsed": false,
    "pycharm": {
     "name": "#%%\n"
    }
   }
  },
  {
   "cell_type": "code",
   "execution_count": 5,
   "outputs": [
    {
     "name": "stdout",
     "text": [
      "9\n20\n7\n12\n"
     ],
     "output_type": "stream"
    }
   ],
   "source": [
    "#multi return values\n",
    "def sumAndMulti(x,y):\n",
    "    return x+y,x*y\n",
    "\n",
    "x = sumAndMulti(3,4)#returns a tupe\n",
    "y,z =  sumAndMulti(4,5)\n",
    "print(y)\n",
    "print(z)\n",
    "print(x[0])\n",
    "print (x[1])\n"
   ],
   "metadata": {
    "collapsed": false,
    "pycharm": {
     "name": "#%%\n",
     "is_executing": false
    }
   }
  }
 ],
 "metadata": {
  "language_info": {
   "codemirror_mode": {
    "name": "ipython",
    "version": 2
   },
   "file_extension": ".py",
   "mimetype": "text/x-python",
   "name": "python",
   "nbconvert_exporter": "python",
   "pygments_lexer": "ipython2",
   "version": "2.7.6"
  },
  "kernelspec": {
   "name": "python3",
   "language": "python",
   "display_name": "Python 3"
  },
  "pycharm": {
   "stem_cell": {
    "cell_type": "raw",
    "source": [],
    "metadata": {
     "collapsed": false
    }
   }
  }
 },
 "nbformat": 4,
 "nbformat_minor": 0
}