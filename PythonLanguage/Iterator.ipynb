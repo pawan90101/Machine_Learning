{
 "cells": [
  {
   "cell_type": "code",
   "execution_count": 1,
   "metadata": {
    "pycharm": {
     "is_executing": false
    }
   },
   "outputs": [
    {
     "name": "stdout",
     "text": [
      "1\n2\n3\n4\n5\n6\n7\n8\n9\n0\n"
     ],
     "output_type": "stream"
    }
   ],
   "source": [
    "string = \"1234567890\"\n",
    "\n",
    "for char in string:\n",
    "    print(char)"
   ]
  },
  {
   "cell_type": "code",
   "execution_count": 2,
   "metadata": {
    "pycharm": {
     "is_executing": false
    }
   },
   "outputs": [
    {
     "name": "stdout",
     "text": [
      "<str_iterator object at 0x000002452DD41788>\n1\n2\n3\n4\n5\n6\n7\n8\n9\n0\n"
     ],
     "output_type": "stream"
    }
   ],
   "source": [
    "string = \"1234567890\"\n",
    "my_iterator = iter(string)\n",
    "print(my_iterator)\n",
    "print(next(my_iterator))\n",
    "print(next(my_iterator))\n",
    "print(next(my_iterator))\n",
    "print(next(my_iterator))\n",
    "print(next(my_iterator))\n",
    "print(next(my_iterator))\n",
    "print(next(my_iterator))\n",
    "print(next(my_iterator))\n",
    "print(next(my_iterator))\n",
    "print(next(my_iterator))"
   ]
  },
  {
   "cell_type": "code",
   "execution_count": 3,
   "metadata": {
    "pycharm": {
     "is_executing": false
    }
   },
   "outputs": [
    {
     "name": "stdout",
     "text": [
      "1\n2\n3\n4\n5\n6\n7\n8\n9\n0\n"
     ],
     "output_type": "stream"
    }
   ],
   "source": [
    "string = \"1234567890\"\n",
    "\n",
    "for char in iter(string):\n",
    "    print(char)"
   ]
  },
  {
   "cell_type": "code",
   "execution_count": 4,
   "metadata": {
    "pycharm": {
     "is_executing": false
    }
   },
   "outputs": [
    {
     "name": "stdout",
     "text": [
      "Mon",
      "\nTue\nWed\nThrus\nFri\nSat\nSun\n"
     ],
     "output_type": "stream"
    }
   ],
   "source": [
    "my_list = ['Mon','Tue','Wed','Thrus','Fri','Sat','Sun']\n",
    "\n",
    "my_iter = iter(my_list)\n",
    "\n",
    "\n",
    "for char in range(0,len(my_list)):\n",
    "    next_iter = next(my_iter)\n",
    "    print(next_iter)\n"
   ]
  }
 ],
 "metadata": {
  "kernelspec": {
   "display_name": "Python 3",
   "language": "python",
   "name": "python3"
  },
  "language_info": {
   "codemirror_mode": {
    "name": "ipython",
    "version": 3
   },
   "file_extension": ".py",
   "mimetype": "text/x-python",
   "name": "python",
   "nbconvert_exporter": "python",
   "pygments_lexer": "ipython3",
   "version": "3.7.1"
  }
 },
 "nbformat": 4,
 "nbformat_minor": 2
}